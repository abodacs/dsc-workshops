{
 "cells": [
  {
   "cell_type": "markdown",
   "metadata": {
    "colab_type": "text",
    "id": "NiQ48AMpW-FF"
   },
   "source": [
    "## Introduction to Data Cleaning with Pandas\n",
    "\n",
    "[![Open In Colab](https://colab.research.google.com/assets/colab-badge.svg)](https://colab.research.google.com/github/n2cholas/dsc-workshops/blob/master/Introduction_to_Data_Cleaning_with_Pandas.ipynb)\n",
    "\n",
    "Through this workshop, you will learn how to use Pandas to explore and “wrangle” datasets. Topics will include an introduction to Jupyer Notebooks/Colab, data cleaning with pandas, feature engineering with pandas, basic visualization and more. This workshop will focus on actual coding.\n",
    "\n",
    "If the open in colab button doesn't work, use this link: https://colab.research.google.com/github/n2cholas/dsc-workshops/blob/master/Introduction_to_Data_Cleaning_with_Pandas.ipynb"
   ]
  },
  {
   "cell_type": "code",
   "execution_count": 0,
   "metadata": {
    "colab": {},
    "colab_type": "code",
    "id": "DpDuWRtOW6zW"
   },
   "outputs": [],
   "source": [
    "import pandas as pd\n",
    "import numpy as np\n",
    "\n",
    "%matplotlib inline"
   ]
  },
  {
   "cell_type": "markdown",
   "metadata": {
    "colab_type": "text",
    "id": "FDrP8Y4JW6zY"
   },
   "source": [
    "## Jupyter Tips\n",
    "\n",
    "Before starting with pandas, let's look at some useful features Jupyter has that will help us along the way.\n",
    "\n",
    "Typing a function then pressing tab gives you a list of arguments you can enter. Pressing shift-tab gives you the function signature. Also:"
   ]
  },
  {
   "cell_type": "code",
   "execution_count": 0,
   "metadata": {
    "colab": {},
    "colab_type": "code",
    "id": "lTriN3q5W6zZ"
   },
   "outputs": [],
   "source": [
    "?pd.Series # using one question mark gives you the function/class signature with the description\n",
    "??pd.Series # two question marks gives you the actual code for that function"
   ]
  },
  {
   "cell_type": "markdown",
   "metadata": {
    "colab_type": "text",
    "id": "m691WXdfW6zb"
   },
   "source": [
    "Timing your pandas code is a very helpful learning tool, so you can figure out the \"best\" way to do things. You can time code as follows:"
   ]
  },
  {
   "cell_type": "code",
   "execution_count": 3,
   "metadata": {
    "colab": {
     "base_uri": "https://localhost:8080/",
     "height": 34
    },
    "colab_type": "code",
    "id": "BTrsvUwbW6zb",
    "outputId": "3253a28c-1446-4f34-90f5-6c5d5de47429"
   },
   "outputs": [
    {
     "name": "stdout",
     "output_type": "stream",
     "text": [
      "100000 loops, best of 3: 14.7 µs per loop\n"
     ]
    }
   ],
   "source": [
    "%timeit [i for i in range(500)] # in line mode"
   ]
  },
  {
   "cell_type": "code",
   "execution_count": 4,
   "metadata": {
    "colab": {
     "base_uri": "https://localhost:8080/",
     "height": 50
    },
    "colab_type": "code",
    "id": "hpKqJVLlW6zf",
    "outputId": "1e32b8e0-f60d-4d79-83ec-a536dc143016"
   },
   "outputs": [
    {
     "name": "stdout",
     "output_type": "stream",
     "text": [
      "The slowest run took 6.31 times longer than the fastest. This could mean that an intermediate result is being cached.\n",
      "1000000 loops, best of 3: 330 ns per loop\n"
     ]
    }
   ],
   "source": [
    "%%timeit # time an entire cell\n",
    "for i in range(10):\n",
    "    None;"
   ]
  },
  {
   "cell_type": "markdown",
   "metadata": {
    "colab_type": "text",
    "id": "-suT24ahW6zh"
   },
   "source": [
    "Commands prefaced by \"%\" or \"%%\" are called magic commands. You can read about more here: https://ipython.readthedocs.io/en/stable/interactive/magics.html."
   ]
  },
  {
   "cell_type": "markdown",
   "metadata": {
    "colab_type": "text",
    "id": "ztNiG_b1W6zh"
   },
   "source": [
    "## What is Pandas?\n",
    "\n",
    "Pandas is a Python library for manipulating data and performing analysis. It has too many fefatures to cover in one introductory workshop, but you will find the documentation complete and clear: https://pandas.pydata.org/pandas-docs/stable/. For many tasks, there is likely a Pandas function to make your life easier, so Google away!\n",
    "\n",
    "The most basic unit in Pandas is called a Series:"
   ]
  },
  {
   "cell_type": "code",
   "execution_count": 5,
   "metadata": {
    "colab": {
     "base_uri": "https://localhost:8080/",
     "height": 151
    },
    "colab_type": "code",
    "id": "HPsazCqNW6zi",
    "outputId": "03e84eb8-4ddf-41e1-e276-c1332d12ad23"
   },
   "outputs": [
    {
     "data": {
      "text/plain": [
       "0    a\n",
       "1    b\n",
       "2    c\n",
       "3    d\n",
       "4    e\n",
       "5    f\n",
       "6    g\n",
       "dtype: object"
      ]
     },
     "execution_count": 5,
     "metadata": {
      "tags": []
     },
     "output_type": "execute_result"
    }
   ],
   "source": [
    "s = pd.Series(['a', 'b', 'c', 'd', 'e', 'f', 'g'])\n",
    "s"
   ]
  },
  {
   "cell_type": "markdown",
   "metadata": {
    "colab_type": "text",
    "id": "fWdshRl4W6zj"
   },
   "source": [
    "A series is simply a 1D numpy array with some more functionality built on top. Above, on the left you see an index and on the right are the actual values. The \"dtype\" is the datatype, which can be anything from objects (usually strings), integers, floats, categorical variables, datetimes, etc. Series are much faster than built in python lists because the numpy backend is written in C.\n",
    "\n",
    "You can index into a series exactly the same as you would a numpy array:"
   ]
  },
  {
   "cell_type": "code",
   "execution_count": 6,
   "metadata": {
    "colab": {
     "base_uri": "https://localhost:8080/",
     "height": 34
    },
    "colab_type": "code",
    "id": "x-QTfT6gW6zk",
    "outputId": "49d9d741-1bc3-4aa1-f37c-2208205e2382"
   },
   "outputs": [
    {
     "data": {
      "text/plain": [
       "'b'"
      ]
     },
     "execution_count": 6,
     "metadata": {
      "tags": []
     },
     "output_type": "execute_result"
    }
   ],
   "source": [
    "s[1] #returns the 2nd element (0 indexed)"
   ]
  },
  {
   "cell_type": "code",
   "execution_count": 7,
   "metadata": {
    "colab": {
     "base_uri": "https://localhost:8080/",
     "height": 67
    },
    "colab_type": "code",
    "id": "jlX87xwGW6zm",
    "outputId": "9e1aecc8-799d-4651-d976-6eda3b6c319d"
   },
   "outputs": [
    {
     "data": {
      "text/plain": [
       "1    b\n",
       "2    c\n",
       "dtype: object"
      ]
     },
     "execution_count": 7,
     "metadata": {
      "tags": []
     },
     "output_type": "execute_result"
    }
   ],
   "source": [
    "s[1:3] #returns a series from indices 1 to 3 (exclusive)"
   ]
  },
  {
   "cell_type": "code",
   "execution_count": 8,
   "metadata": {
    "colab": {
     "base_uri": "https://localhost:8080/",
     "height": 84
    },
    "colab_type": "code",
    "id": "4zd7FYZDW6zo",
    "outputId": "88d3328d-42f7-4a18-b35f-5a8a2e0c7300"
   },
   "outputs": [
    {
     "data": {
      "text/plain": [
       "1    b\n",
       "3    d\n",
       "5    f\n",
       "dtype: object"
      ]
     },
     "execution_count": 8,
     "metadata": {
      "tags": []
     },
     "output_type": "execute_result"
    }
   ],
   "source": [
    "s[1::2] #returns series from indices 1 to the end, counting by 2s (i.e. 1, 3, 5)"
   ]
  },
  {
   "cell_type": "markdown",
   "metadata": {
    "colab_type": "text",
    "id": "-MPS81S8W6zp"
   },
   "source": [
    "You also retain the same broadcasting numpy arrays do. For example"
   ]
  },
  {
   "cell_type": "code",
   "execution_count": 0,
   "metadata": {
    "colab": {},
    "colab_type": "code",
    "id": "xiVFyVKpW6zr"
   },
   "outputs": [],
   "source": [
    "s2 = pd.Series([i for i in range(50)])\n",
    "s2 = s2/50 + 1"
   ]
  },
  {
   "cell_type": "code",
   "execution_count": 10,
   "metadata": {
    "colab": {
     "base_uri": "https://localhost:8080/",
     "height": 50
    },
    "colab_type": "code",
    "id": "eigOBI-SW6zs",
    "outputId": "26a581de-daa0-4283-efe8-0ba4f4bc08a4"
   },
   "outputs": [
    {
     "data": {
      "text/plain": [
       "32    1.64\n",
       "dtype: float64"
      ]
     },
     "execution_count": 10,
     "metadata": {
      "tags": []
     },
     "output_type": "execute_result"
    }
   ],
   "source": [
    "s2.sample()"
   ]
  },
  {
   "cell_type": "markdown",
   "metadata": {
    "colab_type": "text",
    "id": "ehO7l7aHW6zv"
   },
   "source": [
    "Next, let's import some data and jump into Dataframes. Dataframes are tables of data, where each column has a name and is a series of some type. Each column can have a different type."
   ]
  },
  {
   "cell_type": "code",
   "execution_count": 11,
   "metadata": {
    "colab": {
     "base_uri": "https://localhost:8080/",
     "height": 94
    },
    "colab_type": "code",
    "id": "PB6kv9mnW6zy",
    "outputId": "027fb073-2b14-43f2-9371-048cf98b70e6"
   },
   "outputs": [
    {
     "name": "stdout",
     "output_type": "stream",
     "text": [
      "Number of pokemon:  918\n"
     ]
    },
    {
     "data": {
      "text/html": [
       "<div>\n",
       "<style scoped>\n",
       "    .dataframe tbody tr th:only-of-type {\n",
       "        vertical-align: middle;\n",
       "    }\n",
       "\n",
       "    .dataframe tbody tr th {\n",
       "        vertical-align: top;\n",
       "    }\n",
       "\n",
       "    .dataframe thead th {\n",
       "        text-align: right;\n",
       "    }\n",
       "</style>\n",
       "<table border=\"1\" class=\"dataframe\">\n",
       "  <thead>\n",
       "    <tr style=\"text-align: right;\">\n",
       "      <th></th>\n",
       "      <th>Name</th>\n",
       "      <th>Types</th>\n",
       "      <th>Abilities</th>\n",
       "      <th>Tier</th>\n",
       "      <th>HP</th>\n",
       "      <th>Attack</th>\n",
       "      <th>Defense</th>\n",
       "      <th>Special Attack</th>\n",
       "      <th>Special Defense</th>\n",
       "      <th>Speed</th>\n",
       "      <th>Next Evolution(s)</th>\n",
       "      <th>Moves</th>\n",
       "    </tr>\n",
       "  </thead>\n",
       "  <tbody>\n",
       "    <tr>\n",
       "      <th>44</th>\n",
       "      <td>Baltoy</td>\n",
       "      <td>['Ground', 'Psychic']</td>\n",
       "      <td>['Levitate']</td>\n",
       "      <td>LC</td>\n",
       "      <td>40</td>\n",
       "      <td>40</td>\n",
       "      <td>55</td>\n",
       "      <td>40</td>\n",
       "      <td>70</td>\n",
       "      <td>55</td>\n",
       "      <td>['Claydol']</td>\n",
       "      <td>['Harden', 'Confusion', 'Harden', 'Rapid Spin'...</td>\n",
       "    </tr>\n",
       "  </tbody>\n",
       "</table>\n",
       "</div>"
      ],
      "text/plain": [
       "      Name  ...                                              Moves\n",
       "44  Baltoy  ...  ['Harden', 'Confusion', 'Harden', 'Rapid Spin'...\n",
       "\n",
       "[1 rows x 12 columns]"
      ]
     },
     "execution_count": 11,
     "metadata": {
      "tags": []
     },
     "output_type": "execute_result"
    }
   ],
   "source": [
    "df = pd.read_csv('https://raw.githubusercontent.com/n2cholas/pokemon-analysis/master/pokemon-data.csv', delimiter=';')\n",
    "mdf = pd.read_csv('https://raw.githubusercontent.com/n2cholas/pokemon-analysis/master/move-data.csv', delimiter=';')\n",
    "\n",
    "print('Number of pokemon: ', len(df))\n",
    "df.sample()"
   ]
  },
  {
   "cell_type": "markdown",
   "metadata": {
    "colab_type": "text",
    "id": "2SwYCjZkW6z0"
   },
   "source": [
    "We can also take samples of different sizes, or look at the top of the dataset, or the bottom:"
   ]
  },
  {
   "cell_type": "code",
   "execution_count": 12,
   "metadata": {
    "colab": {
     "base_uri": "https://localhost:8080/",
     "height": 136
    },
    "colab_type": "code",
    "id": "R0S55b97W6z0",
    "outputId": "7e254011-3b76-4af8-8743-1ff0cb14b2a3"
   },
   "outputs": [
    {
     "data": {
      "text/html": [
       "<div>\n",
       "<style scoped>\n",
       "    .dataframe tbody tr th:only-of-type {\n",
       "        vertical-align: middle;\n",
       "    }\n",
       "\n",
       "    .dataframe tbody tr th {\n",
       "        vertical-align: top;\n",
       "    }\n",
       "\n",
       "    .dataframe thead th {\n",
       "        text-align: right;\n",
       "    }\n",
       "</style>\n",
       "<table border=\"1\" class=\"dataframe\">\n",
       "  <thead>\n",
       "    <tr style=\"text-align: right;\">\n",
       "      <th></th>\n",
       "      <th>Index</th>\n",
       "      <th>Name</th>\n",
       "      <th>Type</th>\n",
       "      <th>Category</th>\n",
       "      <th>Contest</th>\n",
       "      <th>PP</th>\n",
       "      <th>Power</th>\n",
       "      <th>Accuracy</th>\n",
       "      <th>Generation</th>\n",
       "    </tr>\n",
       "  </thead>\n",
       "  <tbody>\n",
       "    <tr>\n",
       "      <th>0</th>\n",
       "      <td>1</td>\n",
       "      <td>Pound</td>\n",
       "      <td>Normal</td>\n",
       "      <td>Physical</td>\n",
       "      <td>Tough</td>\n",
       "      <td>35</td>\n",
       "      <td>40</td>\n",
       "      <td>100</td>\n",
       "      <td>1</td>\n",
       "    </tr>\n",
       "    <tr>\n",
       "      <th>1</th>\n",
       "      <td>2</td>\n",
       "      <td>Karate Chop</td>\n",
       "      <td>Fighting</td>\n",
       "      <td>Physical</td>\n",
       "      <td>Tough</td>\n",
       "      <td>25</td>\n",
       "      <td>50</td>\n",
       "      <td>100</td>\n",
       "      <td>1</td>\n",
       "    </tr>\n",
       "    <tr>\n",
       "      <th>2</th>\n",
       "      <td>3</td>\n",
       "      <td>Double Slap</td>\n",
       "      <td>Normal</td>\n",
       "      <td>Physical</td>\n",
       "      <td>Cute</td>\n",
       "      <td>10</td>\n",
       "      <td>15</td>\n",
       "      <td>85</td>\n",
       "      <td>1</td>\n",
       "    </tr>\n",
       "  </tbody>\n",
       "</table>\n",
       "</div>"
      ],
      "text/plain": [
       "   Index         Name      Type  Category  ...  PP  Power Accuracy Generation\n",
       "0      1        Pound    Normal  Physical  ...  35     40      100          1\n",
       "1      2  Karate Chop  Fighting  Physical  ...  25     50      100          1\n",
       "2      3  Double Slap    Normal  Physical  ...  10     15       85          1\n",
       "\n",
       "[3 rows x 9 columns]"
      ]
     },
     "execution_count": 12,
     "metadata": {
      "tags": []
     },
     "output_type": "execute_result"
    }
   ],
   "source": [
    "mdf.head(3)"
   ]
  },
  {
   "cell_type": "code",
   "execution_count": 13,
   "metadata": {
    "colab": {
     "base_uri": "https://localhost:8080/",
     "height": 106
    },
    "colab_type": "code",
    "id": "mQvkB4WqW6z2",
    "outputId": "9e27cc90-f519-4006-e4c6-468f71cbb956"
   },
   "outputs": [
    {
     "data": {
      "text/html": [
       "<div>\n",
       "<style scoped>\n",
       "    .dataframe tbody tr th:only-of-type {\n",
       "        vertical-align: middle;\n",
       "    }\n",
       "\n",
       "    .dataframe tbody tr th {\n",
       "        vertical-align: top;\n",
       "    }\n",
       "\n",
       "    .dataframe thead th {\n",
       "        text-align: right;\n",
       "    }\n",
       "</style>\n",
       "<table border=\"1\" class=\"dataframe\">\n",
       "  <thead>\n",
       "    <tr style=\"text-align: right;\">\n",
       "      <th></th>\n",
       "      <th>Index</th>\n",
       "      <th>Name</th>\n",
       "      <th>Type</th>\n",
       "      <th>Category</th>\n",
       "      <th>Contest</th>\n",
       "      <th>PP</th>\n",
       "      <th>Power</th>\n",
       "      <th>Accuracy</th>\n",
       "      <th>Generation</th>\n",
       "    </tr>\n",
       "  </thead>\n",
       "  <tbody>\n",
       "    <tr>\n",
       "      <th>32</th>\n",
       "      <td>33</td>\n",
       "      <td>Tackle</td>\n",
       "      <td>Normal</td>\n",
       "      <td>Physical</td>\n",
       "      <td>Tough</td>\n",
       "      <td>35</td>\n",
       "      <td>40</td>\n",
       "      <td>None</td>\n",
       "      <td>1</td>\n",
       "    </tr>\n",
       "    <tr>\n",
       "      <th>313</th>\n",
       "      <td>314</td>\n",
       "      <td>Air Cutter</td>\n",
       "      <td>Flying</td>\n",
       "      <td>Special</td>\n",
       "      <td>Cool</td>\n",
       "      <td>25</td>\n",
       "      <td>60</td>\n",
       "      <td>95</td>\n",
       "      <td>3</td>\n",
       "    </tr>\n",
       "  </tbody>\n",
       "</table>\n",
       "</div>"
      ],
      "text/plain": [
       "     Index        Name    Type  Category Contest  PP Power Accuracy  Generation\n",
       "32      33      Tackle  Normal  Physical   Tough  35    40     None           1\n",
       "313    314  Air Cutter  Flying   Special    Cool  25    60       95           3"
      ]
     },
     "execution_count": 13,
     "metadata": {
      "tags": []
     },
     "output_type": "execute_result"
    }
   ],
   "source": [
    "mdf.sample(2)"
   ]
  },
  {
   "cell_type": "code",
   "execution_count": 14,
   "metadata": {
    "colab": {
     "base_uri": "https://localhost:8080/",
     "height": 195
    },
    "colab_type": "code",
    "id": "v39irMvSW6z4",
    "outputId": "a93d59d8-fd04-4902-e576-cbf211eb79ac"
   },
   "outputs": [
    {
     "data": {
      "text/html": [
       "<div>\n",
       "<style scoped>\n",
       "    .dataframe tbody tr th:only-of-type {\n",
       "        vertical-align: middle;\n",
       "    }\n",
       "\n",
       "    .dataframe tbody tr th {\n",
       "        vertical-align: top;\n",
       "    }\n",
       "\n",
       "    .dataframe thead th {\n",
       "        text-align: right;\n",
       "    }\n",
       "</style>\n",
       "<table border=\"1\" class=\"dataframe\">\n",
       "  <thead>\n",
       "    <tr style=\"text-align: right;\">\n",
       "      <th></th>\n",
       "      <th>Index</th>\n",
       "      <th>Name</th>\n",
       "      <th>Type</th>\n",
       "      <th>Category</th>\n",
       "      <th>Contest</th>\n",
       "      <th>PP</th>\n",
       "      <th>Power</th>\n",
       "      <th>Accuracy</th>\n",
       "      <th>Generation</th>\n",
       "    </tr>\n",
       "  </thead>\n",
       "  <tbody>\n",
       "    <tr>\n",
       "      <th>723</th>\n",
       "      <td>724</td>\n",
       "      <td>Searing Sunraze Smash</td>\n",
       "      <td>Steel</td>\n",
       "      <td>Special</td>\n",
       "      <td>???</td>\n",
       "      <td>1</td>\n",
       "      <td>200</td>\n",
       "      <td>None</td>\n",
       "      <td>7</td>\n",
       "    </tr>\n",
       "    <tr>\n",
       "      <th>724</th>\n",
       "      <td>725</td>\n",
       "      <td>Menacing Moonraze Maelstrom</td>\n",
       "      <td>Ghost</td>\n",
       "      <td>Special</td>\n",
       "      <td>???</td>\n",
       "      <td>1</td>\n",
       "      <td>200</td>\n",
       "      <td>None</td>\n",
       "      <td>7</td>\n",
       "    </tr>\n",
       "    <tr>\n",
       "      <th>725</th>\n",
       "      <td>726</td>\n",
       "      <td>Let's Snuggle Forever</td>\n",
       "      <td>Fairy</td>\n",
       "      <td>Physical</td>\n",
       "      <td>???</td>\n",
       "      <td>1</td>\n",
       "      <td>190</td>\n",
       "      <td>None</td>\n",
       "      <td>7</td>\n",
       "    </tr>\n",
       "    <tr>\n",
       "      <th>726</th>\n",
       "      <td>727</td>\n",
       "      <td>Splintered Stormshards</td>\n",
       "      <td>Rock</td>\n",
       "      <td>Physical</td>\n",
       "      <td>???</td>\n",
       "      <td>1</td>\n",
       "      <td>190</td>\n",
       "      <td>None</td>\n",
       "      <td>7</td>\n",
       "    </tr>\n",
       "    <tr>\n",
       "      <th>727</th>\n",
       "      <td>728</td>\n",
       "      <td>Clangorous Soulblaze</td>\n",
       "      <td>Dragon</td>\n",
       "      <td>Special</td>\n",
       "      <td>???</td>\n",
       "      <td>1</td>\n",
       "      <td>185</td>\n",
       "      <td>None</td>\n",
       "      <td>7</td>\n",
       "    </tr>\n",
       "  </tbody>\n",
       "</table>\n",
       "</div>"
      ],
      "text/plain": [
       "     Index                         Name    Type  ... Power Accuracy  Generation\n",
       "723    724        Searing Sunraze Smash   Steel  ...   200     None           7\n",
       "724    725  Menacing Moonraze Maelstrom   Ghost  ...   200     None           7\n",
       "725    726        Let's Snuggle Forever   Fairy  ...   190     None           7\n",
       "726    727       Splintered Stormshards    Rock  ...   190     None           7\n",
       "727    728         Clangorous Soulblaze  Dragon  ...   185     None           7\n",
       "\n",
       "[5 rows x 9 columns]"
      ]
     },
     "execution_count": 14,
     "metadata": {
      "tags": []
     },
     "output_type": "execute_result"
    }
   ],
   "source": [
    "mdf.tail()"
   ]
  },
  {
   "cell_type": "markdown",
   "metadata": {
    "colab_type": "text",
    "id": "EJp5jRoYW6z6"
   },
   "source": [
    "## Initial Processing"
   ]
  },
  {
   "cell_type": "markdown",
   "metadata": {
    "colab_type": "text",
    "id": "PzCbJMdzW6z6"
   },
   "source": [
    "We don't need the index column because Pandas gives us a default index, so let's drop that column. "
   ]
  },
  {
   "cell_type": "code",
   "execution_count": 0,
   "metadata": {
    "colab": {},
    "colab_type": "code",
    "id": "CG346ESWW6z7"
   },
   "outputs": [],
   "source": [
    "mdf.drop('Index', inplace=True, axis=1)\n",
    "#mdf = mdf.drop(columns='Index') #alternative"
   ]
  },
  {
   "cell_type": "markdown",
   "metadata": {
    "colab_type": "text",
    "id": "EeMnzEuQW6z8"
   },
   "source": [
    "Many pandas functions return a changed version of the dataframe instead of modifying the dataframe itself. We can use inplace=True to do it inplace (which is more efficient). Sometimes, when using multiple commands consecutively, we don't want to use inplace."
   ]
  },
  {
   "cell_type": "code",
   "execution_count": 0,
   "metadata": {
    "colab": {},
    "colab_type": "code",
    "id": "EJxMkJuFW6z9"
   },
   "outputs": [],
   "source": [
    "mdf.columns = ['name', 'type', 'category', 'contest', 'pp', 'power', 'accuracy', 'generation'] #set column names"
   ]
  },
  {
   "cell_type": "code",
   "execution_count": 17,
   "metadata": {
    "colab": {
     "base_uri": "https://localhost:8080/",
     "height": 168
    },
    "colab_type": "code",
    "id": "F3JLy6ZtW6z-",
    "outputId": "3d2e56ea-ca4a-4025-f739-58c03c3b5dcb"
   },
   "outputs": [
    {
     "data": {
      "text/plain": [
       "name          object\n",
       "type          object\n",
       "category      object\n",
       "contest       object\n",
       "pp             int64\n",
       "power         object\n",
       "accuracy      object\n",
       "generation     int64\n",
       "dtype: object"
      ]
     },
     "execution_count": 17,
     "metadata": {
      "tags": []
     },
     "output_type": "execute_result"
    }
   ],
   "source": [
    "mdf.dtypes"
   ]
  },
  {
   "cell_type": "markdown",
   "metadata": {
    "colab_type": "text",
    "id": "PnqwWirBW60E"
   },
   "source": [
    "Pandas usually does a good job of detecting the datatypes of various columns. We know that power and accuracy should be numbers, but pandas is making them objects (strings). This usually indicates null values. Let's check."
   ]
  },
  {
   "cell_type": "code",
   "execution_count": 18,
   "metadata": {
    "colab": {
     "base_uri": "https://localhost:8080/",
     "height": 202
    },
    "colab_type": "code",
    "id": "8PvnB3NcW60E",
    "outputId": "be0c15be-b168-4597-bfd2-b4f1acd08d2f"
   },
   "outputs": [
    {
     "data": {
      "text/plain": [
       "100     320\n",
       "None    280\n",
       "90       46\n",
       "95       29\n",
       "85       26\n",
       "75       10\n",
       "80        7\n",
       "70        4\n",
       "50        3\n",
       "55        3\n",
       "Name: accuracy, dtype: int64"
      ]
     },
     "execution_count": 18,
     "metadata": {
      "tags": []
     },
     "output_type": "execute_result"
    }
   ],
   "source": [
    "mdf['accuracy'].value_counts()"
   ]
  },
  {
   "cell_type": "markdown",
   "metadata": {
    "colab_type": "text",
    "id": "vUEglyE4W60I"
   },
   "source": [
    "Just as we suspected, there is the string \"None\" for non-numeric values. Let's fix this."
   ]
  },
  {
   "cell_type": "code",
   "execution_count": 0,
   "metadata": {
    "colab": {},
    "colab_type": "code",
    "id": "sGdkOcThW60J"
   },
   "outputs": [],
   "source": [
    "mdf['accuracy'].replace('None', 0, inplace=True)\n",
    "# notice mdf.accuracy.replace(..., inplace=True) wouldn't work\n",
    "mdf['accuracy'] = pd.to_numeric(mdf['accuracy'])"
   ]
  },
  {
   "cell_type": "code",
   "execution_count": 20,
   "metadata": {
    "colab": {
     "base_uri": "https://localhost:8080/",
     "height": 1000
    },
    "colab_type": "code",
    "id": "FVikzsXSW60K",
    "outputId": "3a497537-ed34-4aea-c1eb-8d4de7d4f9c0"
   },
   "outputs": [
    {
     "data": {
      "text/plain": [
       "0      False\n",
       "1      False\n",
       "2      False\n",
       "3      False\n",
       "4      False\n",
       "5      False\n",
       "6      False\n",
       "7      False\n",
       "8      False\n",
       "9      False\n",
       "10     False\n",
       "11      True\n",
       "12     False\n",
       "13      True\n",
       "14     False\n",
       "15     False\n",
       "16     False\n",
       "17      True\n",
       "18     False\n",
       "19     False\n",
       "20     False\n",
       "21     False\n",
       "22     False\n",
       "23     False\n",
       "24     False\n",
       "25     False\n",
       "26     False\n",
       "27      True\n",
       "28     False\n",
       "29     False\n",
       "       ...  \n",
       "698    False\n",
       "699    False\n",
       "700    False\n",
       "701     True\n",
       "702    False\n",
       "703    False\n",
       "704    False\n",
       "705    False\n",
       "706    False\n",
       "707    False\n",
       "708    False\n",
       "709    False\n",
       "710    False\n",
       "711    False\n",
       "712    False\n",
       "713    False\n",
       "714     True\n",
       "715    False\n",
       "716     True\n",
       "717    False\n",
       "718    False\n",
       "719    False\n",
       "720    False\n",
       "721    False\n",
       "722    False\n",
       "723    False\n",
       "724    False\n",
       "725    False\n",
       "726    False\n",
       "727    False\n",
       "Name: power, Length: 728, dtype: bool"
      ]
     },
     "execution_count": 20,
     "metadata": {
      "tags": []
     },
     "output_type": "execute_result"
    }
   ],
   "source": [
    "mdf.power == 'None'"
   ]
  },
  {
   "cell_type": "code",
   "execution_count": 21,
   "metadata": {
    "colab": {
     "base_uri": "https://localhost:8080/",
     "height": 195
    },
    "colab_type": "code",
    "id": "uS5Q16OtW60M",
    "outputId": "2f7f4497-2d91-449a-d8a1-0e9fc6e2ec2f"
   },
   "outputs": [
    {
     "data": {
      "text/html": [
       "<div>\n",
       "<style scoped>\n",
       "    .dataframe tbody tr th:only-of-type {\n",
       "        vertical-align: middle;\n",
       "    }\n",
       "\n",
       "    .dataframe tbody tr th {\n",
       "        vertical-align: top;\n",
       "    }\n",
       "\n",
       "    .dataframe thead th {\n",
       "        text-align: right;\n",
       "    }\n",
       "</style>\n",
       "<table border=\"1\" class=\"dataframe\">\n",
       "  <thead>\n",
       "    <tr style=\"text-align: right;\">\n",
       "      <th></th>\n",
       "      <th>name</th>\n",
       "      <th>type</th>\n",
       "      <th>category</th>\n",
       "      <th>contest</th>\n",
       "      <th>pp</th>\n",
       "      <th>power</th>\n",
       "      <th>accuracy</th>\n",
       "      <th>generation</th>\n",
       "    </tr>\n",
       "  </thead>\n",
       "  <tbody>\n",
       "    <tr>\n",
       "      <th>11</th>\n",
       "      <td>Guillotine</td>\n",
       "      <td>Normal</td>\n",
       "      <td>Physical</td>\n",
       "      <td>Cool</td>\n",
       "      <td>5</td>\n",
       "      <td>None</td>\n",
       "      <td>0</td>\n",
       "      <td>1</td>\n",
       "    </tr>\n",
       "    <tr>\n",
       "      <th>13</th>\n",
       "      <td>Swords Dance</td>\n",
       "      <td>Normal</td>\n",
       "      <td>Status</td>\n",
       "      <td>Beautiful</td>\n",
       "      <td>20</td>\n",
       "      <td>None</td>\n",
       "      <td>0</td>\n",
       "      <td>1</td>\n",
       "    </tr>\n",
       "    <tr>\n",
       "      <th>17</th>\n",
       "      <td>Whirlwind</td>\n",
       "      <td>Normal</td>\n",
       "      <td>Status</td>\n",
       "      <td>Clever</td>\n",
       "      <td>20</td>\n",
       "      <td>None</td>\n",
       "      <td>0</td>\n",
       "      <td>1</td>\n",
       "    </tr>\n",
       "    <tr>\n",
       "      <th>27</th>\n",
       "      <td>Sand Attack</td>\n",
       "      <td>Ground</td>\n",
       "      <td>Status</td>\n",
       "      <td>Cute</td>\n",
       "      <td>15</td>\n",
       "      <td>None</td>\n",
       "      <td>100</td>\n",
       "      <td>1</td>\n",
       "    </tr>\n",
       "    <tr>\n",
       "      <th>31</th>\n",
       "      <td>Horn Drill</td>\n",
       "      <td>Normal</td>\n",
       "      <td>Physical</td>\n",
       "      <td>Cool</td>\n",
       "      <td>5</td>\n",
       "      <td>None</td>\n",
       "      <td>0</td>\n",
       "      <td>1</td>\n",
       "    </tr>\n",
       "  </tbody>\n",
       "</table>\n",
       "</div>"
      ],
      "text/plain": [
       "            name    type  category    contest  pp power  accuracy  generation\n",
       "11    Guillotine  Normal  Physical       Cool   5  None         0           1\n",
       "13  Swords Dance  Normal    Status  Beautiful  20  None         0           1\n",
       "17     Whirlwind  Normal    Status     Clever  20  None         0           1\n",
       "27   Sand Attack  Ground    Status       Cute  15  None       100           1\n",
       "31    Horn Drill  Normal  Physical       Cool   5  None         0           1"
      ]
     },
     "execution_count": 21,
     "metadata": {
      "tags": []
     },
     "output_type": "execute_result"
    }
   ],
   "source": [
    "mdf[mdf.power == 'None'].head()"
   ]
  },
  {
   "cell_type": "code",
   "execution_count": 22,
   "metadata": {
    "colab": {
     "base_uri": "https://localhost:8080/",
     "height": 118
    },
    "colab_type": "code",
    "id": "iYein4KyW60O",
    "outputId": "9a0f7a1e-f41f-4183-ce0c-d7cb3cb9777b"
   },
   "outputs": [
    {
     "data": {
      "text/plain": [
       "11    None\n",
       "13    None\n",
       "17    None\n",
       "27    None\n",
       "31    None\n",
       "Name: power, dtype: object"
      ]
     },
     "execution_count": 22,
     "metadata": {
      "tags": []
     },
     "output_type": "execute_result"
    }
   ],
   "source": [
    "mdf.loc[mdf.power == 'None', 'power'].head()"
   ]
  },
  {
   "cell_type": "markdown",
   "metadata": {
    "colab_type": "text",
    "id": "cNAjOLG2W60T"
   },
   "source": [
    ".loc is a common way to index into a Dataframe. The first argument is the index (or list of indices), or a boolean array that acts as a mask. iloc can be used similarly, except the first number is the actual numeric index (notice that a Dataframe index can be non-numeric). "
   ]
  },
  {
   "cell_type": "code",
   "execution_count": 0,
   "metadata": {
    "colab": {},
    "colab_type": "code",
    "id": "YV8UzeXEW60U"
   },
   "outputs": [],
   "source": [
    "mdf.loc[mdf.power == 'None', 'power'] = 0\n",
    "mdf['power'] = pd.to_numeric(mdf['power'])"
   ]
  },
  {
   "cell_type": "code",
   "execution_count": 24,
   "metadata": {
    "colab": {
     "base_uri": "https://localhost:8080/",
     "height": 168
    },
    "colab_type": "code",
    "id": "3VUqlyuAW60V",
    "outputId": "9e3b1bbc-0810-4ae7-d1a0-bc880b43400d"
   },
   "outputs": [
    {
     "data": {
      "text/plain": [
       "name          object\n",
       "type          object\n",
       "category      object\n",
       "contest       object\n",
       "pp             int64\n",
       "power          int64\n",
       "accuracy       int64\n",
       "generation     int64\n",
       "dtype: object"
      ]
     },
     "execution_count": 24,
     "metadata": {
      "tags": []
     },
     "output_type": "execute_result"
    }
   ],
   "source": [
    "mdf.dtypes"
   ]
  },
  {
   "cell_type": "markdown",
   "metadata": {
    "colab_type": "text",
    "id": "tpzNWxSqW60W"
   },
   "source": [
    "We were able to convert them with no issues. Notice the two ways to access columns. The only difference between the two is that the dictionary-style access allows you to modify the column, and allows you to create new columns. You can only use the .column method for existing columns, and it returns a copy (so the modifications won't affect the original Dataframe). Also, notice you can't access columns with spaces in their names with the .column notation.\n",
    "\n",
    "Although the dictionary-style access is more consistent, I like to use the .column access whenever I can because it is faster to type."
   ]
  },
  {
   "cell_type": "code",
   "execution_count": 25,
   "metadata": {
    "colab": {
     "base_uri": "https://localhost:8080/",
     "height": 235
    },
    "colab_type": "code",
    "id": "INbXIT-6W60X",
    "outputId": "10b1a810-7b70-4dc4-9326-9620f08bf2ea"
   },
   "outputs": [
    {
     "data": {
      "text/plain": [
       "name         object\n",
       "types        object\n",
       "abilities    object\n",
       "tier         object\n",
       "hp            int64\n",
       "atk           int64\n",
       "def           int64\n",
       "spa           int64\n",
       "spd           int64\n",
       "spe           int64\n",
       "next_evos    object\n",
       "moves        object\n",
       "dtype: object"
      ]
     },
     "execution_count": 25,
     "metadata": {
      "tags": []
     },
     "output_type": "execute_result"
    }
   ],
   "source": [
    "df.columns = ['name', 'types', 'abilities', 'tier', 'hp', 'atk', 'def', 'spa', 'spd', 'spe', 'next_evos','moves']\n",
    "df.dtypes"
   ]
  },
  {
   "cell_type": "markdown",
   "metadata": {
    "colab_type": "text",
    "id": "YBBCMrR4W60Y"
   },
   "source": [
    "We saw above that the next_evos, moves, abilities, and types columns should be lists, so we can do that."
   ]
  },
  {
   "cell_type": "code",
   "execution_count": 0,
   "metadata": {
    "colab": {},
    "colab_type": "code",
    "id": "Lc9i3XaHW60Z"
   },
   "outputs": [],
   "source": [
    "temp_df = df.copy()"
   ]
  },
  {
   "cell_type": "code",
   "execution_count": 27,
   "metadata": {
    "colab": {
     "base_uri": "https://localhost:8080/",
     "height": 34
    },
    "colab_type": "code",
    "id": "ba7sa8VFW60a",
    "outputId": "1d28b7a9-47d4-4aa3-81d9-8885a651b38e"
   },
   "outputs": [
    {
     "name": "stdout",
     "output_type": "stream",
     "text": [
      "10 loops, best of 3: 166 ms per loop\n"
     ]
    }
   ],
   "source": [
    "%%timeit\n",
    "for ind, row in temp_df.iterrows():\n",
    "    df.at[ind, 'next_evos'] = eval(row['next_evos'])"
   ]
  },
  {
   "cell_type": "markdown",
   "metadata": {
    "colab_type": "text",
    "id": "wAZCxDniW60c"
   },
   "source": [
    "A few notes. This seems like the most obvious way to achieve what we want. Look through the rows using iterrows, use python's \"eval\" to turn a string-list into an actual list, then assign it to the dataframe at that index. Notice that we use \"at\", which is the same as \"loc\" except it can only access one value at a time. \n",
    "\n",
    "This turns out to be the worst way to do this. In pandas, we can almost always avoid explicitly looping through our data."
   ]
  },
  {
   "cell_type": "code",
   "execution_count": 28,
   "metadata": {
    "colab": {
     "base_uri": "https://localhost:8080/",
     "height": 34
    },
    "colab_type": "code",
    "id": "hlwEn6ipW60d",
    "outputId": "437ff7d8-47e5-4585-c750-909c71868392"
   },
   "outputs": [
    {
     "name": "stdout",
     "output_type": "stream",
     "text": [
      "10 loops, best of 3: 31 ms per loop\n"
     ]
    }
   ],
   "source": [
    "%%timeit\n",
    "df['types'] = temp_df.apply(lambda x: eval(x.types), axis=1)"
   ]
  },
  {
   "cell_type": "markdown",
   "metadata": {
    "colab_type": "text",
    "id": "4Wr55oeTW60e"
   },
   "source": [
    "This is much better. The apply function applies a function you give it to all the rows or columns in the dataframe. The axis argument specifies whether it's rows or columns. We can make this a bit cleaner."
   ]
  },
  {
   "cell_type": "code",
   "execution_count": 29,
   "metadata": {
    "colab": {
     "base_uri": "https://localhost:8080/",
     "height": 34
    },
    "colab_type": "code",
    "id": "wtjlJgX4W60f",
    "outputId": "2adc1604-b557-4988-cc98-3bfd6edaf101"
   },
   "outputs": [
    {
     "name": "stdout",
     "output_type": "stream",
     "text": [
      "100 loops, best of 3: 7.04 ms per loop\n"
     ]
    }
   ],
   "source": [
    "%%timeit\n",
    "df['abilities'] = temp_df.abilities.map(eval)"
   ]
  },
  {
   "cell_type": "markdown",
   "metadata": {
    "colab_type": "text",
    "id": "OWkuDhOVW60g"
   },
   "source": [
    "This is very clean. While apply works on a dataframe, map works on a single series. Also, since the value is always just applied to the one column, we can just pass the eval function instead of using a lambda. Our next improvement won't be faster, but it'll be nicer"
   ]
  },
  {
   "cell_type": "code",
   "execution_count": 0,
   "metadata": {
    "colab": {},
    "colab_type": "code",
    "id": "IwbO6j_WW60h"
   },
   "outputs": [],
   "source": [
    "from tqdm import tqdm\n",
    "tqdm.pandas()"
   ]
  },
  {
   "cell_type": "code",
   "execution_count": 31,
   "metadata": {
    "colab": {
     "base_uri": "https://localhost:8080/",
     "height": 34
    },
    "colab_type": "code",
    "id": "bRR-bzXXW60j",
    "outputId": "a2667890-aa15-4a19-c9b2-db89b598cb55"
   },
   "outputs": [
    {
     "name": "stderr",
     "output_type": "stream",
     "text": [
      "100%|██████████| 918/918 [00:00<00:00, 7144.41it/s]\n"
     ]
    }
   ],
   "source": [
    "df['moves'] = temp_df.moves.progress_map(eval)"
   ]
  },
  {
   "cell_type": "markdown",
   "metadata": {
    "colab_type": "text",
    "id": "cUaKvXgMW60l"
   },
   "source": [
    "tqdm is a library that provides progress bars for loops, but it can be easily used with pandas to provide a progress bar for your maps and applies. Very useful for doing complex processing on large datasets.\n",
    "\n",
    "Next, notice that our dataframe has one row per pokemon. It would be nice to index into by the pokemon name rather than a number. If we are going to access rows by pokemon name often, this will give us a speed advantage, since the items in the index are supported in the backend by a hashtable. "
   ]
  },
  {
   "cell_type": "code",
   "execution_count": 0,
   "metadata": {
    "colab": {},
    "colab_type": "code",
    "id": "0QvlK6lJW60l"
   },
   "outputs": [],
   "source": [
    "df.set_index('name', inplace=True)"
   ]
  },
  {
   "cell_type": "code",
   "execution_count": 33,
   "metadata": {
    "colab": {
     "base_uri": "https://localhost:8080/",
     "height": 218
    },
    "colab_type": "code",
    "id": "fW-iyZlMW60n",
    "outputId": "e95ef6a5-de8f-4240-c2c6-976753b68634"
   },
   "outputs": [
    {
     "data": {
      "text/plain": [
       "types                                               [Electric]\n",
       "abilities                              [Lightning Rod, Static]\n",
       "tier                                                       NaN\n",
       "hp                                                          35\n",
       "atk                                                         55\n",
       "def                                                         40\n",
       "spa                                                         50\n",
       "spd                                                         50\n",
       "spe                                                         90\n",
       "next_evos                               [Raichu, Raichu-Alola]\n",
       "moves        [Tail Whip, Thunder Shock, Growl, Play Nice, T...\n",
       "Name: Pikachu, dtype: object"
      ]
     },
     "execution_count": 33,
     "metadata": {
      "tags": []
     },
     "output_type": "execute_result"
    }
   ],
   "source": [
    "df.loc['Pikachu']"
   ]
  },
  {
   "cell_type": "markdown",
   "metadata": {
    "colab_type": "text",
    "id": "uwIC2ifNW60p"
   },
   "source": [
    "We can also reset_index, which can be useful sometimes. Now that we've done some processing, we can produce a summary of the numeric columns:"
   ]
  },
  {
   "cell_type": "code",
   "execution_count": 34,
   "metadata": {
    "colab": {
     "base_uri": "https://localhost:8080/",
     "height": 284
    },
    "colab_type": "code",
    "id": "8QB0ExqlW60q",
    "outputId": "d089a811-c85d-4e0f-9f8d-7a3a9144a2fa"
   },
   "outputs": [
    {
     "data": {
      "text/html": [
       "<div>\n",
       "<style scoped>\n",
       "    .dataframe tbody tr th:only-of-type {\n",
       "        vertical-align: middle;\n",
       "    }\n",
       "\n",
       "    .dataframe tbody tr th {\n",
       "        vertical-align: top;\n",
       "    }\n",
       "\n",
       "    .dataframe thead th {\n",
       "        text-align: right;\n",
       "    }\n",
       "</style>\n",
       "<table border=\"1\" class=\"dataframe\">\n",
       "  <thead>\n",
       "    <tr style=\"text-align: right;\">\n",
       "      <th></th>\n",
       "      <th>hp</th>\n",
       "      <th>atk</th>\n",
       "      <th>def</th>\n",
       "      <th>spa</th>\n",
       "      <th>spd</th>\n",
       "      <th>spe</th>\n",
       "    </tr>\n",
       "  </thead>\n",
       "  <tbody>\n",
       "    <tr>\n",
       "      <th>count</th>\n",
       "      <td>918.000000</td>\n",
       "      <td>918.000000</td>\n",
       "      <td>918.000000</td>\n",
       "      <td>918.000000</td>\n",
       "      <td>918.000000</td>\n",
       "      <td>918.000000</td>\n",
       "    </tr>\n",
       "    <tr>\n",
       "      <th>mean</th>\n",
       "      <td>69.558824</td>\n",
       "      <td>80.143791</td>\n",
       "      <td>74.535948</td>\n",
       "      <td>73.297386</td>\n",
       "      <td>72.384532</td>\n",
       "      <td>68.544662</td>\n",
       "    </tr>\n",
       "    <tr>\n",
       "      <th>std</th>\n",
       "      <td>26.066527</td>\n",
       "      <td>32.697233</td>\n",
       "      <td>31.225467</td>\n",
       "      <td>33.298652</td>\n",
       "      <td>27.889548</td>\n",
       "      <td>29.472307</td>\n",
       "    </tr>\n",
       "    <tr>\n",
       "      <th>min</th>\n",
       "      <td>1.000000</td>\n",
       "      <td>5.000000</td>\n",
       "      <td>5.000000</td>\n",
       "      <td>10.000000</td>\n",
       "      <td>20.000000</td>\n",
       "      <td>5.000000</td>\n",
       "    </tr>\n",
       "    <tr>\n",
       "      <th>25%</th>\n",
       "      <td>50.000000</td>\n",
       "      <td>55.000000</td>\n",
       "      <td>50.000000</td>\n",
       "      <td>50.000000</td>\n",
       "      <td>50.000000</td>\n",
       "      <td>45.000000</td>\n",
       "    </tr>\n",
       "    <tr>\n",
       "      <th>50%</th>\n",
       "      <td>66.500000</td>\n",
       "      <td>75.000000</td>\n",
       "      <td>70.000000</td>\n",
       "      <td>65.000000</td>\n",
       "      <td>70.000000</td>\n",
       "      <td>65.000000</td>\n",
       "    </tr>\n",
       "    <tr>\n",
       "      <th>75%</th>\n",
       "      <td>80.000000</td>\n",
       "      <td>100.000000</td>\n",
       "      <td>90.000000</td>\n",
       "      <td>95.000000</td>\n",
       "      <td>90.000000</td>\n",
       "      <td>90.000000</td>\n",
       "    </tr>\n",
       "    <tr>\n",
       "      <th>max</th>\n",
       "      <td>255.000000</td>\n",
       "      <td>190.000000</td>\n",
       "      <td>230.000000</td>\n",
       "      <td>194.000000</td>\n",
       "      <td>230.000000</td>\n",
       "      <td>180.000000</td>\n",
       "    </tr>\n",
       "  </tbody>\n",
       "</table>\n",
       "</div>"
      ],
      "text/plain": [
       "               hp         atk         def         spa         spd         spe\n",
       "count  918.000000  918.000000  918.000000  918.000000  918.000000  918.000000\n",
       "mean    69.558824   80.143791   74.535948   73.297386   72.384532   68.544662\n",
       "std     26.066527   32.697233   31.225467   33.298652   27.889548   29.472307\n",
       "min      1.000000    5.000000    5.000000   10.000000   20.000000    5.000000\n",
       "25%     50.000000   55.000000   50.000000   50.000000   50.000000   45.000000\n",
       "50%     66.500000   75.000000   70.000000   65.000000   70.000000   65.000000\n",
       "75%     80.000000  100.000000   90.000000   95.000000   90.000000   90.000000\n",
       "max    255.000000  190.000000  230.000000  194.000000  230.000000  180.000000"
      ]
     },
     "execution_count": 34,
     "metadata": {
      "tags": []
     },
     "output_type": "execute_result"
    }
   ],
   "source": [
    "df.describe()"
   ]
  },
  {
   "cell_type": "markdown",
   "metadata": {
    "colab_type": "text",
    "id": "UzDUDA8qW60r"
   },
   "source": [
    "## Data Correction"
   ]
  },
  {
   "cell_type": "markdown",
   "metadata": {
    "colab_type": "text",
    "id": "6wa6eft0W60s"
   },
   "source": [
    "Typically, you will find oddities in your data during analysis. Perhaps you visualize a column, and the numbers look off, so you look into the actual data and notice some issues. For the purpose of this workshop, we'll skip the visualization and just correct the data\n",
    "\n",
    "First, some pokemon have moves duplicated. Let's fix this by making the move-lists into movesets"
   ]
  },
  {
   "cell_type": "code",
   "execution_count": 35,
   "metadata": {
    "colab": {
     "base_uri": "https://localhost:8080/",
     "height": 34
    },
    "colab_type": "code",
    "id": "pfdXKvCpW60u",
    "outputId": "5ea8e689-4729-44ac-8016-19c5bf8732bf"
   },
   "outputs": [
    {
     "name": "stderr",
     "output_type": "stream",
     "text": [
      "100%|██████████| 918/918 [00:00<00:00, 61955.86it/s]\n"
     ]
    }
   ],
   "source": [
    "df['moves'] = df.moves.progress_map(set)"
   ]
  },
  {
   "cell_type": "markdown",
   "metadata": {
    "colab_type": "text",
    "id": "by6HK_hhW60x"
   },
   "source": [
    "Next, I noticed a weird quirk with the strings for the moves. This will cause some trouble if we want to relate the mdf and df tables, so let's fix it."
   ]
  },
  {
   "cell_type": "code",
   "execution_count": 0,
   "metadata": {
    "colab": {},
    "colab_type": "code",
    "id": "DYEFbKhkW60x"
   },
   "outputs": [],
   "source": [
    "moves = {move for move_set in df.moves for move in move_set}"
   ]
  },
  {
   "cell_type": "code",
   "execution_count": 37,
   "metadata": {
    "colab": {
     "base_uri": "https://localhost:8080/",
     "height": 336
    },
    "colab_type": "code",
    "id": "0YC0-lS-W60z",
    "outputId": "a42acfea-dd09-4873-a514-57f1e0bf7b29"
   },
   "outputs": [
    {
     "data": {
      "text/plain": [
       "{\"Baby'Doll Eyes\",\n",
       " \"Double'Edge\",\n",
       " \"Forest's Curse\",\n",
       " \"Freeze'Dry\",\n",
       " \"King's Shield\",\n",
       " \"Land's Wrath\",\n",
       " \"Lock'On\",\n",
       " \"Mud'Slap\",\n",
       " \"Multi'Attack\",\n",
       " \"Nature's Madness\",\n",
       " \"Power'Up Punch\",\n",
       " \"Self'Destruct\",\n",
       " \"Soft'Boiled\",\n",
       " \"Topsy'Turvy\",\n",
       " \"Trick'or'Treat\",\n",
       " \"U'turn\",\n",
       " \"Wake'Up Slap\",\n",
       " \"Will'O'Wisp\",\n",
       " \"X'Scissor\"}"
      ]
     },
     "execution_count": 37,
     "metadata": {
      "tags": []
     },
     "output_type": "execute_result"
    }
   ],
   "source": [
    "weird_moves = {m for m in moves if \"'\" in m}\n",
    "weird_moves"
   ]
  },
  {
   "cell_type": "markdown",
   "metadata": {
    "colab_type": "text",
    "id": "0ATRl30bW601"
   },
   "source": [
    "Many of these moves, such as U-turn, should have a dash instead of an apostrophe (according to the moves dataset). Upon closer inspection, it's clear that the only moves that should have an apostrophe are those whose words end with an apostrophe-s. Let's make this correction."
   ]
  },
  {
   "cell_type": "code",
   "execution_count": 38,
   "metadata": {
    "colab": {
     "base_uri": "https://localhost:8080/",
     "height": 34
    },
    "colab_type": "code",
    "id": "ZGAM1LVHW601",
    "outputId": "1c4e817b-91ff-4f99-d199-2f58cc4e087e"
   },
   "outputs": [
    {
     "name": "stderr",
     "output_type": "stream",
     "text": [
      "100%|██████████| 918/918 [00:00<00:00, 38849.08it/s]\n"
     ]
    }
   ],
   "source": [
    "weird_moves.remove(\"King's Shield\")\n",
    "weird_moves.remove(\"Forest's Curse\")\n",
    "weird_moves.remove(\"Land's Wrath\")\n",
    "weird_moves.remove(\"Nature's Madness\")\n",
    "\n",
    "df['moves'] = df.moves.progress_map(lambda x: {move if move not in weird_moves else move.replace(\"'\", \"-\")\n",
    "                                         for move in x})"
   ]
  },
  {
   "cell_type": "code",
   "execution_count": 39,
   "metadata": {
    "colab": {
     "base_uri": "https://localhost:8080/",
     "height": 34
    },
    "colab_type": "code",
    "id": "--PJ_pvEW603",
    "outputId": "2b2e2c46-0ed4-46ba-eac3-aa2700f04aa6"
   },
   "outputs": [
    {
     "data": {
      "text/plain": [
       "{\"Forest's Curse\", \"King's Shield\", \"Land's Wrath\", \"Nature's Madness\"}"
      ]
     },
     "execution_count": 39,
     "metadata": {
      "tags": []
     },
     "output_type": "execute_result"
    }
   ],
   "source": [
    "removal_check = {move for move_set in df.moves for move in move_set if \"'\" in move}\n",
    "removal_check"
   ]
  },
  {
   "cell_type": "markdown",
   "metadata": {
    "colab_type": "text",
    "id": "bfgI83JXW604"
   },
   "source": [
    "The moves dataframe contains moves that are unlearnable by pokemon. These include moves like Struggle (which is a move pokemon use when they have no more pp in their normal moveset) and Z-moves (moves that are activated by a Z-crystal). These moves are characterized by having only 1 PP (which denotes the number of times a pokemon can use the move). Let's remove these."
   ]
  },
  {
   "cell_type": "code",
   "execution_count": 0,
   "metadata": {
    "colab": {},
    "colab_type": "code",
    "id": "dNmeebwoW605"
   },
   "outputs": [],
   "source": [
    "mdf = mdf[(mdf.pp != 1) | (mdf.name == 'Struggle')]"
   ]
  },
  {
   "cell_type": "markdown",
   "metadata": {
    "colab_type": "text",
    "id": "nNmszyUtW607"
   },
   "source": [
    "Due to the nature of the site we scraped, some pokemon are missing moves :(. Let's fix part of the problem by adding back some important special moves:"
   ]
  },
  {
   "cell_type": "code",
   "execution_count": 0,
   "metadata": {
    "colab": {},
    "colab_type": "code",
    "id": "ahYcZrBtW607"
   },
   "outputs": [],
   "source": [
    "df.loc['Victini', 'moves'].add('V-create')\n",
    "df.loc['Rayquaza', 'moves'].add('V-create')\n",
    "df.loc['Celebi', 'moves'].add('Hold Back')\n",
    "\n",
    "for pok in ['Zygarde', 'Zygarde-10%', 'Zygarde-Complete']:\n",
    "    df.loc[pok, 'moves'].add('Thousand Arrows')\n",
    "    df.loc[pok, 'moves'].add('Thousand Waves')\n",
    "    df.loc[pok, 'moves'].add('Core Enforcer')"
   ]
  },
  {
   "cell_type": "markdown",
   "metadata": {
    "colab_type": "text",
    "id": "7BirHjJrW609"
   },
   "source": [
    "Let's say for our analysis, we only care about certain tiers. Furthermore, we want to consolidate tiers. Let's do it:"
   ]
  },
  {
   "cell_type": "code",
   "execution_count": 0,
   "metadata": {
    "colab": {},
    "colab_type": "code",
    "id": "I0EXqcG9W609"
   },
   "outputs": [],
   "source": [
    "df.loc[df.tier == 'OUBL','tier'] = 'Uber'\n",
    "df.loc[df.tier == 'UUBL','tier'] = 'OU'\n",
    "df.loc[df.tier == 'RUBL','tier'] = 'UU'\n",
    "df.loc[df.tier == 'NUBL','tier'] = 'RU'\n",
    "df.loc[df.tier == 'PUBL','tier'] = 'NU'\n",
    "df = df[df['tier'].isin(['Uber', 'OU', 'UU', 'NU', 'RU', 'PU'])]"
   ]
  },
  {
   "cell_type": "markdown",
   "metadata": {
    "colab_type": "text",
    "id": "HubzrsvQW60_"
   },
   "source": [
    "The last line eliminates all pokemon that do not belong to one of those tiers (i.e. LC)."
   ]
  },
  {
   "cell_type": "markdown",
   "metadata": {
    "colab_type": "text",
    "id": "S4er2XLsW60_"
   },
   "source": [
    "## (very light) Feature Engineering"
   ]
  },
  {
   "cell_type": "markdown",
   "metadata": {
    "colab_type": "text",
    "id": "3RvXoix8W60_"
   },
   "source": [
    "Let's make a feature counting the number of moves a pokemon can learn."
   ]
  },
  {
   "cell_type": "code",
   "execution_count": 0,
   "metadata": {
    "colab": {},
    "colab_type": "code",
    "id": "DAmBj7KYW61A"
   },
   "outputs": [],
   "source": [
    "df['num_moves'] = df.moves.map(len)"
   ]
  },
  {
   "cell_type": "markdown",
   "metadata": {
    "colab_type": "text",
    "id": "7FY6u8KpW61B"
   },
   "source": [
    "The base stat total is a common metric players use to assess a Pokemon's overall strength, so let's create a column for this."
   ]
  },
  {
   "cell_type": "code",
   "execution_count": 0,
   "metadata": {
    "colab": {},
    "colab_type": "code",
    "id": "noBr_4gjW61C"
   },
   "outputs": [],
   "source": [
    "df['bst'] = df['hp'] + df['atk'] + df['def'] + df['spa'] + df['spd'] + df['spe']"
   ]
  },
  {
   "cell_type": "markdown",
   "metadata": {
    "colab_type": "text",
    "id": "pwWYwjOzW61E"
   },
   "source": [
    "## Anomaly Analysis"
   ]
  },
  {
   "cell_type": "markdown",
   "metadata": {
    "colab_type": "text",
    "id": "VH7T8d7kW61E"
   },
   "source": [
    "This workshop is about data cleaning, but a useful way to look for data issues, gain ideas for feature engineering, and understand your data is to look at anomalies. Plus, we can look at some new pandas techniques.\n",
    "\n",
    "Let's look at information about the BST by tier:"
   ]
  },
  {
   "cell_type": "code",
   "execution_count": 45,
   "metadata": {
    "colab": {
     "base_uri": "https://localhost:8080/",
     "height": 284
    },
    "colab_type": "code",
    "id": "jgY-B-g5W61F",
    "outputId": "c788f875-bad6-42f1-aa3d-1cb326db1ec1"
   },
   "outputs": [
    {
     "data": {
      "text/html": [
       "<div>\n",
       "<style scoped>\n",
       "    .dataframe tbody tr th:only-of-type {\n",
       "        vertical-align: middle;\n",
       "    }\n",
       "\n",
       "    .dataframe tbody tr th {\n",
       "        vertical-align: top;\n",
       "    }\n",
       "\n",
       "    .dataframe thead tr th {\n",
       "        text-align: left;\n",
       "    }\n",
       "\n",
       "    .dataframe thead tr:last-of-type th {\n",
       "        text-align: right;\n",
       "    }\n",
       "</style>\n",
       "<table border=\"1\" class=\"dataframe\">\n",
       "  <thead>\n",
       "    <tr>\n",
       "      <th></th>\n",
       "      <th colspan=\"2\" halign=\"left\">bst</th>\n",
       "    </tr>\n",
       "    <tr>\n",
       "      <th></th>\n",
       "      <th>mean</th>\n",
       "      <th>std</th>\n",
       "    </tr>\n",
       "    <tr>\n",
       "      <th>tier</th>\n",
       "      <th></th>\n",
       "      <th></th>\n",
       "    </tr>\n",
       "  </thead>\n",
       "  <tbody>\n",
       "    <tr>\n",
       "      <th>NU</th>\n",
       "      <td>495.132353</td>\n",
       "      <td>36.655681</td>\n",
       "    </tr>\n",
       "    <tr>\n",
       "      <th>OU</th>\n",
       "      <td>565.896104</td>\n",
       "      <td>68.916155</td>\n",
       "    </tr>\n",
       "    <tr>\n",
       "      <th>PU</th>\n",
       "      <td>464.184685</td>\n",
       "      <td>59.964976</td>\n",
       "    </tr>\n",
       "    <tr>\n",
       "      <th>RU</th>\n",
       "      <td>524.486111</td>\n",
       "      <td>48.101124</td>\n",
       "    </tr>\n",
       "    <tr>\n",
       "      <th>UU</th>\n",
       "      <td>538.181818</td>\n",
       "      <td>50.624685</td>\n",
       "    </tr>\n",
       "    <tr>\n",
       "      <th>Uber</th>\n",
       "      <td>657.042553</td>\n",
       "      <td>67.435946</td>\n",
       "    </tr>\n",
       "  </tbody>\n",
       "</table>\n",
       "</div>"
      ],
      "text/plain": [
       "             bst           \n",
       "            mean        std\n",
       "tier                       \n",
       "NU    495.132353  36.655681\n",
       "OU    565.896104  68.916155\n",
       "PU    464.184685  59.964976\n",
       "RU    524.486111  48.101124\n",
       "UU    538.181818  50.624685\n",
       "Uber  657.042553  67.435946"
      ]
     },
     "execution_count": 45,
     "metadata": {
      "tags": []
     },
     "output_type": "execute_result"
    }
   ],
   "source": [
    "bstdf = df[['tier', 'bst']].groupby('tier').agg([np.mean, np.std])\n",
    "bstdf"
   ]
  },
  {
   "cell_type": "markdown",
   "metadata": {
    "colab_type": "text",
    "id": "poBTOO0mW61G"
   },
   "source": [
    "First, we get a dataframe containing each pokemon's tier and base stat total. We want the mean and standard deviation of the BST's by tier. So, we group by the tier. In pandas, we can group by multiple columns if you want. Then, we apply aggregate function mean and std. This will calculate mean and std within each tier.\n",
    "\n",
    "You'll notice that we now have a multiindex for the columns. We will not cover this in this workshop, so we will just simplify the multiindex."
   ]
  },
  {
   "cell_type": "code",
   "execution_count": 46,
   "metadata": {
    "colab": {
     "base_uri": "https://localhost:8080/",
     "height": 254
    },
    "colab_type": "code",
    "id": "lhsYa9vfW61G",
    "outputId": "f650f5b0-171c-4b40-d4fb-3f4ab62568be"
   },
   "outputs": [
    {
     "data": {
      "text/html": [
       "<div>\n",
       "<style scoped>\n",
       "    .dataframe tbody tr th:only-of-type {\n",
       "        vertical-align: middle;\n",
       "    }\n",
       "\n",
       "    .dataframe tbody tr th {\n",
       "        vertical-align: top;\n",
       "    }\n",
       "\n",
       "    .dataframe thead th {\n",
       "        text-align: right;\n",
       "    }\n",
       "</style>\n",
       "<table border=\"1\" class=\"dataframe\">\n",
       "  <thead>\n",
       "    <tr style=\"text-align: right;\">\n",
       "      <th></th>\n",
       "      <th>bst_mean</th>\n",
       "      <th>bst_std</th>\n",
       "    </tr>\n",
       "    <tr>\n",
       "      <th>tier</th>\n",
       "      <th></th>\n",
       "      <th></th>\n",
       "    </tr>\n",
       "  </thead>\n",
       "  <tbody>\n",
       "    <tr>\n",
       "      <th>NU</th>\n",
       "      <td>495.132353</td>\n",
       "      <td>36.655681</td>\n",
       "    </tr>\n",
       "    <tr>\n",
       "      <th>OU</th>\n",
       "      <td>565.896104</td>\n",
       "      <td>68.916155</td>\n",
       "    </tr>\n",
       "    <tr>\n",
       "      <th>PU</th>\n",
       "      <td>464.184685</td>\n",
       "      <td>59.964976</td>\n",
       "    </tr>\n",
       "    <tr>\n",
       "      <th>RU</th>\n",
       "      <td>524.486111</td>\n",
       "      <td>48.101124</td>\n",
       "    </tr>\n",
       "    <tr>\n",
       "      <th>UU</th>\n",
       "      <td>538.181818</td>\n",
       "      <td>50.624685</td>\n",
       "    </tr>\n",
       "    <tr>\n",
       "      <th>Uber</th>\n",
       "      <td>657.042553</td>\n",
       "      <td>67.435946</td>\n",
       "    </tr>\n",
       "  </tbody>\n",
       "</table>\n",
       "</div>"
      ],
      "text/plain": [
       "        bst_mean    bst_std\n",
       "tier                       \n",
       "NU    495.132353  36.655681\n",
       "OU    565.896104  68.916155\n",
       "PU    464.184685  59.964976\n",
       "RU    524.486111  48.101124\n",
       "UU    538.181818  50.624685\n",
       "Uber  657.042553  67.435946"
      ]
     },
     "execution_count": 46,
     "metadata": {
      "tags": []
     },
     "output_type": "execute_result"
    }
   ],
   "source": [
    "bstdf.columns = ['bst_mean', 'bst_std']\n",
    "bstdf"
   ]
  },
  {
   "cell_type": "markdown",
   "metadata": {
    "colab_type": "text",
    "id": "O-pweI9JW61I"
   },
   "source": [
    "The main ways to join tables in pandas are join and merge. Join is typically used to join on an index. For example, if you had two tables with the pokemon name as the index, you can do df1.join(df2), and this will horizontally concatenate the tables based on index.\n",
    "\n",
    "I will show you how to use merge, which is the most general and easiest to understand joining method (though not always the fastest)."
   ]
  },
  {
   "cell_type": "code",
   "execution_count": 47,
   "metadata": {
    "colab": {
     "base_uri": "https://localhost:8080/",
     "height": 77
    },
    "colab_type": "code",
    "id": "0YoFpZXjW61I",
    "outputId": "b5670765-015c-4a5e-bdd0-cbd2b59892cf"
   },
   "outputs": [
    {
     "data": {
      "text/html": [
       "<div>\n",
       "<style scoped>\n",
       "    .dataframe tbody tr th:only-of-type {\n",
       "        vertical-align: middle;\n",
       "    }\n",
       "\n",
       "    .dataframe tbody tr th {\n",
       "        vertical-align: top;\n",
       "    }\n",
       "\n",
       "    .dataframe thead th {\n",
       "        text-align: right;\n",
       "    }\n",
       "</style>\n",
       "<table border=\"1\" class=\"dataframe\">\n",
       "  <thead>\n",
       "    <tr style=\"text-align: right;\">\n",
       "      <th></th>\n",
       "      <th>name</th>\n",
       "      <th>types</th>\n",
       "      <th>abilities</th>\n",
       "      <th>tier</th>\n",
       "      <th>hp</th>\n",
       "      <th>atk</th>\n",
       "      <th>def</th>\n",
       "      <th>spa</th>\n",
       "      <th>spd</th>\n",
       "      <th>spe</th>\n",
       "      <th>next_evos</th>\n",
       "      <th>moves</th>\n",
       "      <th>num_moves</th>\n",
       "      <th>bst</th>\n",
       "      <th>bst_mean</th>\n",
       "      <th>bst_std</th>\n",
       "    </tr>\n",
       "  </thead>\n",
       "  <tbody>\n",
       "    <tr>\n",
       "      <th>192</th>\n",
       "      <td>Gourgeist-Super</td>\n",
       "      <td>[Ghost, Grass]</td>\n",
       "      <td>[Frisk, Insomnia, Pickup]</td>\n",
       "      <td>PU</td>\n",
       "      <td>85</td>\n",
       "      <td>100</td>\n",
       "      <td>122</td>\n",
       "      <td>58</td>\n",
       "      <td>75</td>\n",
       "      <td>54</td>\n",
       "      <td>[]</td>\n",
       "      <td>{Incinerate, Hyper Beam, Rest, Toxic, Pain Spl...</td>\n",
       "      <td>67</td>\n",
       "      <td>494</td>\n",
       "      <td>464.184685</td>\n",
       "      <td>59.964976</td>\n",
       "    </tr>\n",
       "  </tbody>\n",
       "</table>\n",
       "</div>"
      ],
      "text/plain": [
       "                name           types  ...    bst_mean    bst_std\n",
       "192  Gourgeist-Super  [Ghost, Grass]  ...  464.184685  59.964976\n",
       "\n",
       "[1 rows x 16 columns]"
      ]
     },
     "execution_count": 47,
     "metadata": {
      "tags": []
     },
     "output_type": "execute_result"
    }
   ],
   "source": [
    "df2 = df.reset_index().merge(bstdf, left_on='tier', right_on='tier', how='left')\n",
    "# equivalent to bstdf.merge(df, ..., how='right')\n",
    "df2.sample()"
   ]
  },
  {
   "cell_type": "markdown",
   "metadata": {
    "colab_type": "text",
    "id": "dHAGvyO5W61L"
   },
   "source": [
    "Basically, pandas looked for where the tier in df equaled tier in bstdf and concatenated those rows. left_on is the column for df, right_on is the column for bstdf (in this case they're the same). You can learn more about how joins work in this article: https://blog.codinghorror.com/a-visual-explanation-of-sql-joins/. The concepts carry over to pandas."
   ]
  },
  {
   "cell_type": "markdown",
   "metadata": {
    "colab_type": "text",
    "id": "va5fIexEW61L"
   },
   "source": [
    "We want to look at anomalous pokemon who's stats seem too low for their tiers. Let's accomplish this:"
   ]
  },
  {
   "cell_type": "code",
   "execution_count": 48,
   "metadata": {
    "colab": {
     "base_uri": "https://localhost:8080/",
     "height": 418
    },
    "colab_type": "code",
    "id": "YXilwVXyW61M",
    "outputId": "f5ae9822-2e8e-42ec-9e23-b1ef49afd52a"
   },
   "outputs": [
    {
     "data": {
      "text/html": [
       "<div>\n",
       "<style scoped>\n",
       "    .dataframe tbody tr th:only-of-type {\n",
       "        vertical-align: middle;\n",
       "    }\n",
       "\n",
       "    .dataframe tbody tr th {\n",
       "        vertical-align: top;\n",
       "    }\n",
       "\n",
       "    .dataframe thead th {\n",
       "        text-align: right;\n",
       "    }\n",
       "</style>\n",
       "<table border=\"1\" class=\"dataframe\">\n",
       "  <thead>\n",
       "    <tr style=\"text-align: right;\">\n",
       "      <th></th>\n",
       "      <th>name</th>\n",
       "      <th>types</th>\n",
       "      <th>abilities</th>\n",
       "      <th>tier</th>\n",
       "      <th>hp</th>\n",
       "      <th>atk</th>\n",
       "      <th>def</th>\n",
       "      <th>spa</th>\n",
       "      <th>spd</th>\n",
       "      <th>spe</th>\n",
       "      <th>next_evos</th>\n",
       "      <th>moves</th>\n",
       "      <th>num_moves</th>\n",
       "      <th>bst</th>\n",
       "      <th>bst_mean</th>\n",
       "      <th>bst_std</th>\n",
       "    </tr>\n",
       "  </thead>\n",
       "  <tbody>\n",
       "    <tr>\n",
       "      <th>5</th>\n",
       "      <td>Aegislash</td>\n",
       "      <td>[Steel, Ghost]</td>\n",
       "      <td>[Stance Change]</td>\n",
       "      <td>Uber</td>\n",
       "      <td>60</td>\n",
       "      <td>50</td>\n",
       "      <td>150</td>\n",
       "      <td>50</td>\n",
       "      <td>150</td>\n",
       "      <td>60</td>\n",
       "      <td>[]</td>\n",
       "      <td>{Hyper Beam, Retaliate, Rest, Aerial Ace, Wide...</td>\n",
       "      <td>55</td>\n",
       "      <td>520</td>\n",
       "      <td>657.042553</td>\n",
       "      <td>67.435946</td>\n",
       "    </tr>\n",
       "    <tr>\n",
       "      <th>6</th>\n",
       "      <td>Aegislash-Blade</td>\n",
       "      <td>[Steel, Ghost]</td>\n",
       "      <td>[Stance Change]</td>\n",
       "      <td>Uber</td>\n",
       "      <td>60</td>\n",
       "      <td>150</td>\n",
       "      <td>50</td>\n",
       "      <td>150</td>\n",
       "      <td>50</td>\n",
       "      <td>60</td>\n",
       "      <td>[]</td>\n",
       "      <td>{Hyper Beam, Retaliate, Rest, Aerial Ace, Wide...</td>\n",
       "      <td>55</td>\n",
       "      <td>520</td>\n",
       "      <td>657.042553</td>\n",
       "      <td>67.435946</td>\n",
       "    </tr>\n",
       "    <tr>\n",
       "      <th>34</th>\n",
       "      <td>Azumarill</td>\n",
       "      <td>[Water, Fairy]</td>\n",
       "      <td>[Huge Power, Sap Sipper, Thick Fat]</td>\n",
       "      <td>OU</td>\n",
       "      <td>100</td>\n",
       "      <td>50</td>\n",
       "      <td>80</td>\n",
       "      <td>60</td>\n",
       "      <td>80</td>\n",
       "      <td>50</td>\n",
       "      <td>[]</td>\n",
       "      <td>{Bounce, Splash, Refresh, Focus Punch, Dynamic...</td>\n",
       "      <td>96</td>\n",
       "      <td>420</td>\n",
       "      <td>565.896104</td>\n",
       "      <td>68.916155</td>\n",
       "    </tr>\n",
       "    <tr>\n",
       "      <th>115</th>\n",
       "      <td>Diggersby</td>\n",
       "      <td>[Normal, Ground]</td>\n",
       "      <td>[Cheek Pouch, Huge Power, Pickup]</td>\n",
       "      <td>OU</td>\n",
       "      <td>85</td>\n",
       "      <td>56</td>\n",
       "      <td>77</td>\n",
       "      <td>50</td>\n",
       "      <td>77</td>\n",
       "      <td>78</td>\n",
       "      <td>[]</td>\n",
       "      <td>{Gastro Acid, Rollout, Hyper Beam, Rest, Bounc...</td>\n",
       "      <td>81</td>\n",
       "      <td>423</td>\n",
       "      <td>565.896104</td>\n",
       "      <td>68.916155</td>\n",
       "    </tr>\n",
       "    <tr>\n",
       "      <th>267</th>\n",
       "      <td>Linoone</td>\n",
       "      <td>[Normal]</td>\n",
       "      <td>[Gluttony, Pickup, Quick Feet]</td>\n",
       "      <td>RU</td>\n",
       "      <td>78</td>\n",
       "      <td>70</td>\n",
       "      <td>61</td>\n",
       "      <td>50</td>\n",
       "      <td>61</td>\n",
       "      <td>100</td>\n",
       "      <td>[]</td>\n",
       "      <td>{Thunder, Fury Cutter, Fury Swipes, Double Tea...</td>\n",
       "      <td>89</td>\n",
       "      <td>420</td>\n",
       "      <td>524.486111</td>\n",
       "      <td>48.101124</td>\n",
       "    </tr>\n",
       "    <tr>\n",
       "      <th>298</th>\n",
       "      <td>Marowak-Alola</td>\n",
       "      <td>[Fire, Ghost]</td>\n",
       "      <td>[Cursed Body, Lightning Rod, Rock Head]</td>\n",
       "      <td>UU</td>\n",
       "      <td>60</td>\n",
       "      <td>80</td>\n",
       "      <td>110</td>\n",
       "      <td>50</td>\n",
       "      <td>80</td>\n",
       "      <td>45</td>\n",
       "      <td>[]</td>\n",
       "      <td>{Shadow Bone, Hyper Beam, Retaliate, Bone Club...</td>\n",
       "      <td>74</td>\n",
       "      <td>425</td>\n",
       "      <td>538.181818</td>\n",
       "      <td>50.624685</td>\n",
       "    </tr>\n",
       "    <tr>\n",
       "      <th>303</th>\n",
       "      <td>Medicham</td>\n",
       "      <td>[Fighting, Psychic]</td>\n",
       "      <td>[Pure Power, Telepathy]</td>\n",
       "      <td>NU</td>\n",
       "      <td>60</td>\n",
       "      <td>60</td>\n",
       "      <td>75</td>\n",
       "      <td>60</td>\n",
       "      <td>75</td>\n",
       "      <td>80</td>\n",
       "      <td>[]</td>\n",
       "      <td>{Pain Split, Magic Coat, Focus Punch, Dynamic ...</td>\n",
       "      <td>96</td>\n",
       "      <td>410</td>\n",
       "      <td>495.132353</td>\n",
       "      <td>36.655681</td>\n",
       "    </tr>\n",
       "    <tr>\n",
       "      <th>521</th>\n",
       "      <td>Vivillon</td>\n",
       "      <td>[Bug, Flying]</td>\n",
       "      <td>[Compound Eyes, Friend Guard, Shield Dust]</td>\n",
       "      <td>NU</td>\n",
       "      <td>80</td>\n",
       "      <td>52</td>\n",
       "      <td>50</td>\n",
       "      <td>90</td>\n",
       "      <td>50</td>\n",
       "      <td>89</td>\n",
       "      <td>[]</td>\n",
       "      <td>{String Shot, Hyper Beam, Bug Buzz, Rest, Aeri...</td>\n",
       "      <td>59</td>\n",
       "      <td>411</td>\n",
       "      <td>495.132353</td>\n",
       "      <td>36.655681</td>\n",
       "    </tr>\n",
       "  </tbody>\n",
       "</table>\n",
       "</div>"
      ],
      "text/plain": [
       "                name                types  ...    bst_mean    bst_std\n",
       "5          Aegislash       [Steel, Ghost]  ...  657.042553  67.435946\n",
       "6    Aegislash-Blade       [Steel, Ghost]  ...  657.042553  67.435946\n",
       "34         Azumarill       [Water, Fairy]  ...  565.896104  68.916155\n",
       "115        Diggersby     [Normal, Ground]  ...  565.896104  68.916155\n",
       "267          Linoone             [Normal]  ...  524.486111  48.101124\n",
       "298    Marowak-Alola        [Fire, Ghost]  ...  538.181818  50.624685\n",
       "303         Medicham  [Fighting, Psychic]  ...  495.132353  36.655681\n",
       "521         Vivillon        [Bug, Flying]  ...  495.132353  36.655681\n",
       "\n",
       "[8 rows x 16 columns]"
      ]
     },
     "execution_count": 48,
     "metadata": {
      "tags": []
     },
     "output_type": "execute_result"
    }
   ],
   "source": [
    "under = df2[(df2['bst'] < df2['bst_mean'] - 2*df2['bst_std']) & (df2['tier'] != 'PU')]\n",
    "under"
   ]
  },
  {
   "cell_type": "markdown",
   "metadata": {
    "colab_type": "text",
    "id": "USrL6J3xW61N"
   },
   "source": [
    "## Misc."
   ]
  },
  {
   "cell_type": "markdown",
   "metadata": {
    "colab_type": "text",
    "id": "B9TL8BAkW61N"
   },
   "source": [
    "Pandas also has built in graphing functionalities which behave identically to matplotlib. For example:"
   ]
  },
  {
   "cell_type": "code",
   "execution_count": 49,
   "metadata": {
    "colab": {
     "base_uri": "https://localhost:8080/",
     "height": 286
    },
    "colab_type": "code",
    "id": "sbkWZaguW61O",
    "outputId": "9ca7c851-383b-4894-8909-c26e9067018c"
   },
   "outputs": [
    {
     "data": {
      "text/plain": [
       "<matplotlib.axes._subplots.AxesSubplot at 0x7f1f6b4cf710>"
      ]
     },
     "execution_count": 49,
     "metadata": {
      "tags": []
     },
     "output_type": "execute_result"
    },
    {
     "data": {
      "image/png": "[encoded data removed]",
      "text/plain": [
       "<Figure size 432x288 with 1 Axes>"
      ]
     },
     "metadata": {
      "tags": []
     },
     "output_type": "display_data"
    }
   ],
   "source": [
    "df.bst.hist()"
   ]
  },
  {
   "cell_type": "code",
   "execution_count": 50,
   "metadata": {
    "colab": {
     "base_uri": "https://localhost:8080/",
     "height": 300
    },
    "colab_type": "code",
    "id": "zCzm79MkW61P",
    "outputId": "7c5608f9-a3a8-4489-888a-55db8835a3ff"
   },
   "outputs": [
    {
     "data": {
      "text/plain": [
       "<matplotlib.axes._subplots.AxesSubplot at 0x7f1f8ecd1c18>"
      ]
     },
     "execution_count": 50,
     "metadata": {
      "tags": []
     },
     "output_type": "execute_result"
    },
    {
     "data": {
      "image/png": "[encoded data removed]",
      "text/plain": [
       "<Figure size 432x288 with 1 Axes>"
      ]
     },
     "metadata": {
      "tags": []
     },
     "output_type": "display_data"
    }
   ],
   "source": [
    "df.plot.scatter('bst', 'atk')"
   ]
  },
  {
   "cell_type": "markdown",
   "metadata": {
    "colab_type": "text",
    "id": "nc9qeSHoW61Q"
   },
   "source": [
    "Finally, we can \"pivot\" tables as you would in excel. This provides a summary of the data."
   ]
  },
  {
   "cell_type": "code",
   "execution_count": 0,
   "metadata": {
    "colab": {},
    "colab_type": "code",
    "id": "1Tk7NnQbW61R"
   },
   "outputs": [],
   "source": [
    "df['type_1'] = df['types'].map(lambda x: x[0])"
   ]
  },
  {
   "cell_type": "code",
   "execution_count": 52,
   "metadata": {
    "colab": {
     "base_uri": "https://localhost:8080/",
     "height": 274
    },
    "colab_type": "code",
    "id": "drclw5SwW61S",
    "outputId": "bde1c6fc-cbfc-4d41-c57e-820695cb3e5b"
   },
   "outputs": [
    {
     "data": {
      "text/html": [
       "<div>\n",
       "<style scoped>\n",
       "    .dataframe tbody tr th:only-of-type {\n",
       "        vertical-align: middle;\n",
       "    }\n",
       "\n",
       "    .dataframe tbody tr th {\n",
       "        vertical-align: top;\n",
       "    }\n",
       "\n",
       "    .dataframe thead th {\n",
       "        text-align: right;\n",
       "    }\n",
       "</style>\n",
       "<table border=\"1\" class=\"dataframe\">\n",
       "  <thead>\n",
       "    <tr style=\"text-align: right;\">\n",
       "      <th>type_1</th>\n",
       "      <th>Bug</th>\n",
       "      <th>Dark</th>\n",
       "      <th>Dragon</th>\n",
       "      <th>Electric</th>\n",
       "      <th>Fairy</th>\n",
       "      <th>Fighting</th>\n",
       "      <th>Fire</th>\n",
       "      <th>Flying</th>\n",
       "      <th>Ghost</th>\n",
       "      <th>Grass</th>\n",
       "      <th>Ground</th>\n",
       "      <th>Ice</th>\n",
       "      <th>Normal</th>\n",
       "      <th>Poison</th>\n",
       "      <th>Psychic</th>\n",
       "      <th>Rock</th>\n",
       "      <th>Steel</th>\n",
       "      <th>Water</th>\n",
       "    </tr>\n",
       "    <tr>\n",
       "      <th>tier</th>\n",
       "      <th></th>\n",
       "      <th></th>\n",
       "      <th></th>\n",
       "      <th></th>\n",
       "      <th></th>\n",
       "      <th></th>\n",
       "      <th></th>\n",
       "      <th></th>\n",
       "      <th></th>\n",
       "      <th></th>\n",
       "      <th></th>\n",
       "      <th></th>\n",
       "      <th></th>\n",
       "      <th></th>\n",
       "      <th></th>\n",
       "      <th></th>\n",
       "      <th></th>\n",
       "      <th></th>\n",
       "    </tr>\n",
       "  </thead>\n",
       "  <tbody>\n",
       "    <tr>\n",
       "      <th>NU</th>\n",
       "      <td>476.500000</td>\n",
       "      <td>494.000000</td>\n",
       "      <td>487.500000</td>\n",
       "      <td>460.500000</td>\n",
       "      <td>473.500000</td>\n",
       "      <td>469.625000</td>\n",
       "      <td>534.400000</td>\n",
       "      <td>479.000000</td>\n",
       "      <td>483.750000</td>\n",
       "      <td>506.250000</td>\n",
       "      <td>486.250</td>\n",
       "      <td>525.000000</td>\n",
       "      <td>495.400000</td>\n",
       "      <td>457.0</td>\n",
       "      <td>520.000000</td>\n",
       "      <td>519.50</td>\n",
       "      <td>520.000000</td>\n",
       "      <td>520.750000</td>\n",
       "    </tr>\n",
       "    <tr>\n",
       "      <th>OU</th>\n",
       "      <td>567.500000</td>\n",
       "      <td>520.000000</td>\n",
       "      <td>644.444444</td>\n",
       "      <td>562.142857</td>\n",
       "      <td>483.000000</td>\n",
       "      <td>524.250000</td>\n",
       "      <td>607.600000</td>\n",
       "      <td>518.333333</td>\n",
       "      <td>476.000000</td>\n",
       "      <td>542.166667</td>\n",
       "      <td>519.000</td>\n",
       "      <td>505.000000</td>\n",
       "      <td>497.000000</td>\n",
       "      <td>495.0</td>\n",
       "      <td>598.250000</td>\n",
       "      <td>700.00</td>\n",
       "      <td>550.000000</td>\n",
       "      <td>576.428571</td>\n",
       "    </tr>\n",
       "    <tr>\n",
       "      <th>PU</th>\n",
       "      <td>426.521739</td>\n",
       "      <td>448.300000</td>\n",
       "      <td>NaN</td>\n",
       "      <td>473.800000</td>\n",
       "      <td>392.666667</td>\n",
       "      <td>461.333333</td>\n",
       "      <td>485.454545</td>\n",
       "      <td>447.090909</td>\n",
       "      <td>479.400000</td>\n",
       "      <td>478.476190</td>\n",
       "      <td>457.875</td>\n",
       "      <td>511.727273</td>\n",
       "      <td>457.342857</td>\n",
       "      <td>472.6</td>\n",
       "      <td>465.266667</td>\n",
       "      <td>494.00</td>\n",
       "      <td>380.000000</td>\n",
       "      <td>459.000000</td>\n",
       "    </tr>\n",
       "    <tr>\n",
       "      <th>RU</th>\n",
       "      <td>490.166667</td>\n",
       "      <td>510.000000</td>\n",
       "      <td>536.500000</td>\n",
       "      <td>543.750000</td>\n",
       "      <td>516.000000</td>\n",
       "      <td>527.000000</td>\n",
       "      <td>573.333333</td>\n",
       "      <td>495.000000</td>\n",
       "      <td>518.333333</td>\n",
       "      <td>546.500000</td>\n",
       "      <td>480.000</td>\n",
       "      <td>552.500000</td>\n",
       "      <td>523.571429</td>\n",
       "      <td>487.0</td>\n",
       "      <td>545.428571</td>\n",
       "      <td>505.75</td>\n",
       "      <td>546.000000</td>\n",
       "      <td>538.500000</td>\n",
       "    </tr>\n",
       "    <tr>\n",
       "      <th>UU</th>\n",
       "      <td>485.800000</td>\n",
       "      <td>531.714286</td>\n",
       "      <td>598.000000</td>\n",
       "      <td>540.000000</td>\n",
       "      <td>525.000000</td>\n",
       "      <td>531.500000</td>\n",
       "      <td>517.000000</td>\n",
       "      <td>536.250000</td>\n",
       "      <td>500.000000</td>\n",
       "      <td>586.000000</td>\n",
       "      <td>512.250</td>\n",
       "      <td>NaN</td>\n",
       "      <td>559.500000</td>\n",
       "      <td>507.5</td>\n",
       "      <td>547.500000</td>\n",
       "      <td>585.00</td>\n",
       "      <td>543.333333</td>\n",
       "      <td>544.166667</td>\n",
       "    </tr>\n",
       "    <tr>\n",
       "      <th>Uber</th>\n",
       "      <td>585.000000</td>\n",
       "      <td>640.000000</td>\n",
       "      <td>686.800000</td>\n",
       "      <td>NaN</td>\n",
       "      <td>680.000000</td>\n",
       "      <td>612.500000</td>\n",
       "      <td>613.333333</td>\n",
       "      <td>626.666667</td>\n",
       "      <td>600.000000</td>\n",
       "      <td>NaN</td>\n",
       "      <td>720.000</td>\n",
       "      <td>NaN</td>\n",
       "      <td>655.000000</td>\n",
       "      <td>540.0</td>\n",
       "      <td>682.153846</td>\n",
       "      <td>NaN</td>\n",
       "      <td>580.000000</td>\n",
       "      <td>720.000000</td>\n",
       "    </tr>\n",
       "  </tbody>\n",
       "</table>\n",
       "</div>"
      ],
      "text/plain": [
       "type_1         Bug        Dark      Dragon  ...    Rock       Steel       Water\n",
       "tier                                        ...                                \n",
       "NU      476.500000  494.000000  487.500000  ...  519.50  520.000000  520.750000\n",
       "OU      567.500000  520.000000  644.444444  ...  700.00  550.000000  576.428571\n",
       "PU      426.521739  448.300000         NaN  ...  494.00  380.000000  459.000000\n",
       "RU      490.166667  510.000000  536.500000  ...  505.75  546.000000  538.500000\n",
       "UU      485.800000  531.714286  598.000000  ...  585.00  543.333333  544.166667\n",
       "Uber    585.000000  640.000000  686.800000  ...     NaN  580.000000  720.000000\n",
       "\n",
       "[6 rows x 18 columns]"
      ]
     },
     "execution_count": 52,
     "metadata": {
      "tags": []
     },
     "output_type": "execute_result"
    }
   ],
   "source": [
    "pd.pivot_table(df, index='tier', columns='type_1', values='bst', aggfunc='mean')"
   ]
  }
 ],
 "metadata": {
  "colab": {
   "name": "Introduction to Data Cleaning with Pandas.ipynb",
   "provenance": [],
   "version": "0.3.2"
  },
  "kernelspec": {
   "display_name": "Python 3",
   "language": "python",
   "name": "python3"
  },
  "language_info": {
   "codemirror_mode": {
    "name": "ipython",
    "version": 3
   },
   "file_extension": ".py",
   "mimetype": "text/x-python",
   "name": "python",
   "nbconvert_exporter": "python",
   "pygments_lexer": "ipython3",
   "version": "3.7.1"
  }
 },
 "nbformat": 4,
 "nbformat_minor": 1
}
