{
  "nbformat": 4,
  "nbformat_minor": 0,
  "metadata": {
    "colab": {
      "name": "Introduction to Neural Networks with TensorFlow 2.ipynb",
      "provenance": [],
      "include_colab_link": true
    },
    "kernelspec": {
      "name": "python3",
      "display_name": "Python 3"
    },
    "accelerator": "GPU"
  },
  "cells": [
    {
      "cell_type": "markdown",
      "metadata": {
        "id": "view-in-github",
        "colab_type": "text"
      },
      "source": [
        "<a href=\"https://colab.research.google.com/github/n2cholas/dsc-workshops/blob/master/Introduction_to_Neural_Networks_with_TensorFlow_2.ipynb\" target=\"_parent\"><img src=\"https://colab.research.google.com/assets/colab-badge.svg\" alt=\"Open In Colab\"/></a>"
      ]
    },
    {
      "cell_type": "markdown",
      "metadata": {
        "id": "g2kP92FhDK-Z",
        "colab_type": "text"
      },
      "source": [
        "# Introduction to Neural Networks in TensorFlow 2.0\n",
        "By Nicholas Vadivelu (nicholas.vadivelu@gmail.com)\n",
        "\n",
        "## Workshop Overview\n",
        "\n",
        "1.   What is TensorFlow?\n",
        "2.   Linear Regression \n",
        "3.   Gradient Descent\n",
        "3.   Multivariate Logistic Regression\n",
        "4.   Neural Networks\n",
        "5.   Intro to tf.keras\n",
        "\n",
        "## What is Machine Learning?\n",
        "\n",
        "*  **Supervised Learning**: given some input $X$ (called features), predict $y$ (called the target)\n",
        "*  Given data, we train a Machine Learning Model\n",
        "  *  A simple model:  $y = mx + b$\n",
        "*  Training involves finding the best $m$ and $b$ for the data\n",
        "*  Applications include classifying images, generating text, predicting stocks, etc.\n"
      ]
    },
    {
      "cell_type": "markdown",
      "metadata": {
        "id": "vbPZZeyhVzxh",
        "colab_type": "text"
      },
      "source": [
        "# Introduction to TensorFlow\n",
        "\n",
        "TensorFlow is a open source numerical computation library designed for machine learning. Its key advantages over libraries like numpy and scipy are its support for hardware acceleration (GPUs, TPUs, etc), automatic differentiation, and end-to-end ecosystem for designing and deploying machine learning models.\n",
        "\n",
        "The recent 2.0 update revamped the library for ease of use, making the API feel similar to numpy and PyTorch (another deep learning library). "
      ]
    },
    {
      "cell_type": "code",
      "metadata": {
        "id": "AN0ViEM7V1tG",
        "colab_type": "code",
        "colab": {
          "base_uri": "https://localhost:8080/",
          "height": 105
        },
        "outputId": "45ed75ed-ef5b-47b1-c352-50426c2722e0"
      },
      "source": [
        "%tensorflow_version 2.x # Enables version 2.0\n",
        "import tensorflow as tf"
      ],
      "execution_count": 2,
      "outputs": [
        {
          "output_type": "stream",
          "text": [
            "`%tensorflow_version` only switches the major version: `1.x` or `2.x`.\n",
            "You set: `2.x # Enables version 2.0`. This will be interpreted as: `2.x`.\n",
            "\n",
            "\n",
            "TensorFlow 2.x selected.\n"
          ],
          "name": "stdout"
        }
      ]
    },
    {
      "cell_type": "markdown",
      "metadata": {
        "id": "f-eNjZf2Wpgg",
        "colab_type": "text"
      },
      "source": [
        "TensorFlow is a library for manipulation **tensors**, which are essentialy multidimensional arrays."
      ]
    },
    {
      "cell_type": "code",
      "metadata": {
        "id": "68-cAlWhWl_J",
        "colab_type": "code",
        "colab": {
          "base_uri": "https://localhost:8080/",
          "height": 34
        },
        "outputId": "d1751aac-8681-40b4-83c5-19c438901b98"
      },
      "source": [
        "x = tf.convert_to_tensor([1, 2, 3, 4])\n",
        "x"
      ],
      "execution_count": 3,
      "outputs": [
        {
          "output_type": "execute_result",
          "data": {
            "text/plain": [
              "<tf.Tensor: id=0, shape=(4,), dtype=int32, numpy=array([1, 2, 3, 4], dtype=int32)>"
            ]
          },
          "metadata": {
            "tags": []
          },
          "execution_count": 3
        }
      ]
    },
    {
      "cell_type": "markdown",
      "metadata": {
        "id": "o4oLymOaYFZZ",
        "colab_type": "text"
      },
      "source": [
        "You can read all about Tensors in the [documentation](https://https://www.tensorflow.org/api_docs/python/tf/Tensor). The key ideas are they have a data type (dtype), a shape, and a numeric value (numpy array).\n",
        "\n",
        "Unlike Python lists, you can do **vectorized operations**:"
      ]
    },
    {
      "cell_type": "code",
      "metadata": {
        "id": "ONmhIrL2X6iD",
        "colab_type": "code",
        "colab": {
          "base_uri": "https://localhost:8080/",
          "height": 34
        },
        "outputId": "ad096103-a725-4e78-f2c9-3164ccc69b91"
      },
      "source": [
        "2*x + 1"
      ],
      "execution_count": 4,
      "outputs": [
        {
          "output_type": "execute_result",
          "data": {
            "text/plain": [
              "<tf.Tensor: id=4, shape=(4,), dtype=int32, numpy=array([3, 5, 7, 9], dtype=int32)>"
            ]
          },
          "metadata": {
            "tags": []
          },
          "execution_count": 4
        }
      ]
    },
    {
      "cell_type": "markdown",
      "metadata": {
        "id": "Hl2tLvqlYet8",
        "colab_type": "text"
      },
      "source": [
        "Just like numpy, TensorFlow supports **broadcasting**. Here's a brief example. Suppose you want to add a vector to every row of a matrix:"
      ]
    },
    {
      "cell_type": "code",
      "metadata": {
        "id": "xVp5dBgOYWjv",
        "colab_type": "code",
        "colab": {}
      },
      "source": [
        "vec = tf.convert_to_tensor([1, 2, 3, 4])\n",
        "matrix = tf.convert_to_tensor([[1, 1, 1, 1],\n",
        "                               [4, 4, 4, 4],\n",
        "                               [5, 5, 5, 5]])"
      ],
      "execution_count": 0,
      "outputs": []
    },
    {
      "cell_type": "markdown",
      "metadata": {
        "id": "-0P-xxvtZJoQ",
        "colab_type": "text"
      },
      "source": [
        "With normal lists, you might be inclined to do something like this:"
      ]
    },
    {
      "cell_type": "code",
      "metadata": {
        "id": "fK0aPna3clUc",
        "colab_type": "code",
        "colab": {
          "base_uri": "https://localhost:8080/",
          "height": 34
        },
        "outputId": "a5ce9bb6-2946-492d-9c77-4936c727c250"
      },
      "source": [
        "matrix[1, :] # second row of the matrix"
      ],
      "execution_count": 6,
      "outputs": [
        {
          "output_type": "execute_result",
          "data": {
            "text/plain": [
              "<tf.Tensor: id=10, shape=(4,), dtype=int32, numpy=array([4, 4, 4, 4], dtype=int32)>"
            ]
          },
          "metadata": {
            "tags": []
          },
          "execution_count": 6
        }
      ]
    },
    {
      "cell_type": "code",
      "metadata": {
        "id": "7uHMzaT8ZIes",
        "colab_type": "code",
        "colab": {
          "base_uri": "https://localhost:8080/",
          "height": 185
        },
        "outputId": "7552438c-cf47-4a42-f98f-25a21600d93f"
      },
      "source": [
        "for i in range(3):\n",
        "  matrix[i, :] += vec"
      ],
      "execution_count": 7,
      "outputs": [
        {
          "output_type": "error",
          "ename": "TypeError",
          "evalue": "ignored",
          "traceback": [
            "\u001b[0;31m---------------------------------------------------------------------------\u001b[0m",
            "\u001b[0;31mTypeError\u001b[0m                                 Traceback (most recent call last)",
            "\u001b[0;32m<ipython-input-7-10dabb925653>\u001b[0m in \u001b[0;36m<module>\u001b[0;34m()\u001b[0m\n\u001b[1;32m      1\u001b[0m \u001b[0;32mfor\u001b[0m \u001b[0mi\u001b[0m \u001b[0;32min\u001b[0m \u001b[0mrange\u001b[0m\u001b[0;34m(\u001b[0m\u001b[0;36m3\u001b[0m\u001b[0;34m)\u001b[0m\u001b[0;34m:\u001b[0m\u001b[0;34m\u001b[0m\u001b[0;34m\u001b[0m\u001b[0m\n\u001b[0;32m----> 2\u001b[0;31m   \u001b[0mmatrix\u001b[0m\u001b[0;34m[\u001b[0m\u001b[0mi\u001b[0m\u001b[0;34m,\u001b[0m \u001b[0;34m:\u001b[0m\u001b[0;34m]\u001b[0m \u001b[0;34m+=\u001b[0m \u001b[0mvec\u001b[0m\u001b[0;34m\u001b[0m\u001b[0;34m\u001b[0m\u001b[0m\n\u001b[0m",
            "\u001b[0;31mTypeError\u001b[0m: 'tensorflow.python.framework.ops.EagerTensor' object does not support item assignment"
          ]
        }
      ]
    },
    {
      "cell_type": "markdown",
      "metadata": {
        "id": "q3EyMFtOZxii",
        "colab_type": "text"
      },
      "source": [
        "Oops, you can't assign values to a Tensor! In general, computations create a new Tensor instead of modifying an existing one. If you need something that is modifable, use a variable. Read more about those [here](https://www.tensorflow.org/api_docs/python/tf/Variable)"
      ]
    },
    {
      "cell_type": "code",
      "metadata": {
        "id": "hdl4qjYlZ6g0",
        "colab_type": "code",
        "colab": {
          "base_uri": "https://localhost:8080/",
          "height": 87
        },
        "outputId": "3cd9c909-3fa5-4c32-ac20-bd32bf37d563"
      },
      "source": [
        "matrix = tf.Variable([[1, 1, 1, 1],\n",
        "                      [4, 4, 4, 4],\n",
        "                      [5, 5, 5, 5]])\n",
        "matrix"
      ],
      "execution_count": 8,
      "outputs": [
        {
          "output_type": "execute_result",
          "data": {
            "text/plain": [
              "<tf.Variable 'Variable:0' shape=(3, 4) dtype=int32, numpy=\n",
              "array([[1, 1, 1, 1],\n",
              "       [4, 4, 4, 4],\n",
              "       [5, 5, 5, 5]], dtype=int32)>"
            ]
          },
          "metadata": {
            "tags": []
          },
          "execution_count": 8
        }
      ]
    },
    {
      "cell_type": "markdown",
      "metadata": {
        "id": "G3mVDzhpaOy1",
        "colab_type": "text"
      },
      "source": [
        "Now, back to adding this vector to the matrix. If you add them directly, broadcasting will see that the all the dimensions of `vec` and `matrix` match except for one, so it will duplicate vec along that dimension so the addition works. "
      ]
    },
    {
      "cell_type": "code",
      "metadata": {
        "id": "GS-AVgWhZ-5r",
        "colab_type": "code",
        "colab": {
          "base_uri": "https://localhost:8080/",
          "height": 87
        },
        "outputId": "6d644ea0-4755-4b38-8a18-c6f11b3109c6"
      },
      "source": [
        "matrix + vec"
      ],
      "execution_count": 9,
      "outputs": [
        {
          "output_type": "execute_result",
          "data": {
            "text/plain": [
              "<tf.Tensor: id=26, shape=(3, 4), dtype=int32, numpy=\n",
              "array([[2, 3, 4, 5],\n",
              "       [5, 6, 7, 8],\n",
              "       [6, 7, 8, 9]], dtype=int32)>"
            ]
          },
          "metadata": {
            "tags": []
          },
          "execution_count": 9
        }
      ]
    },
    {
      "cell_type": "markdown",
      "metadata": {
        "id": "CDswIcHKabf8",
        "colab_type": "text"
      },
      "source": [
        "Now we can assign this new value to matrix:"
      ]
    },
    {
      "cell_type": "code",
      "metadata": {
        "id": "nAOwiKSSabA7",
        "colab_type": "code",
        "colab": {
          "base_uri": "https://localhost:8080/",
          "height": 87
        },
        "outputId": "09362ddb-e779-4201-ac56-579a53e6270d"
      },
      "source": [
        "matrix.assign(matrix + vec)"
      ],
      "execution_count": 10,
      "outputs": [
        {
          "output_type": "execute_result",
          "data": {
            "text/plain": [
              "<tf.Variable 'UnreadVariable' shape=(3, 4) dtype=int32, numpy=\n",
              "array([[2, 3, 4, 5],\n",
              "       [5, 6, 7, 8],\n",
              "       [6, 7, 8, 9]], dtype=int32)>"
            ]
          },
          "metadata": {
            "tags": []
          },
          "execution_count": 10
        }
      ]
    },
    {
      "cell_type": "markdown",
      "metadata": {
        "id": "4WxhdR22a-Ij",
        "colab_type": "text"
      },
      "source": [
        "[Here's](https://scipy-lectures.org/intro/numpy/operations.html#broadcasting) a more detailed overview of broadcasting.\n",
        "\n",
        "We can create scalar tensors and variables:"
      ]
    },
    {
      "cell_type": "code",
      "metadata": {
        "id": "BNrdti5KbAUJ",
        "colab_type": "code",
        "colab": {
          "base_uri": "https://localhost:8080/",
          "height": 34
        },
        "outputId": "7e3f6ffd-84cb-4fa2-bdf8-58943bcef0cd"
      },
      "source": [
        "x = tf.Variable(0)\n",
        "v = tf.convert_to_tensor(1)\n",
        "\n",
        "x + v"
      ],
      "execution_count": 11,
      "outputs": [
        {
          "output_type": "execute_result",
          "data": {
            "text/plain": [
              "<tf.Tensor: id=39, shape=(), dtype=int32, numpy=1>"
            ]
          },
          "metadata": {
            "tags": []
          },
          "execution_count": 11
        }
      ]
    },
    {
      "cell_type": "markdown",
      "metadata": {
        "id": "SbhovveKaf1C",
        "colab_type": "text"
      },
      "source": [
        "\n",
        "Take a few minutes to explore Tensors and Variables. Create some, play with them, and use the documentation to figure out what they can and can't do!"
      ]
    },
    {
      "cell_type": "markdown",
      "metadata": {
        "id": "m1dCyY90FIp1",
        "colab_type": "text"
      },
      "source": [
        "## Introduction to Linear Regression"
      ]
    },
    {
      "cell_type": "markdown",
      "metadata": {
        "id": "Fqiy2NzUFL0q",
        "colab_type": "text"
      },
      "source": [
        "We're going to start by fitting a line ($y = mx + b$) to some simulated data in TensorFlow. Suppose have some data:"
      ]
    },
    {
      "cell_type": "code",
      "metadata": {
        "id": "yY8wAFnEGFxt",
        "colab_type": "code",
        "outputId": "ad3567bb-340f-496e-df81-12c221fdb845",
        "colab": {
          "base_uri": "https://localhost:8080/",
          "height": 158
        }
      },
      "source": [
        "x = tf.range(1., 5., 0.1) # ensure all the inputs are floats!\n",
        "x"
      ],
      "execution_count": 12,
      "outputs": [
        {
          "output_type": "execute_result",
          "data": {
            "text/plain": [
              "<tf.Tensor: id=43, shape=(40,), dtype=float32, numpy=\n",
              "array([1.       , 1.1      , 1.2      , 1.3000001, 1.4000001, 1.5000001,\n",
              "       1.6000001, 1.7000002, 1.8000002, 1.9000002, 2.0000002, 2.1000001,\n",
              "       2.2      , 2.3      , 2.3999999, 2.4999998, 2.5999997, 2.6999996,\n",
              "       2.7999995, 2.8999994, 2.9999993, 3.0999992, 3.199999 , 3.299999 ,\n",
              "       3.399999 , 3.4999988, 3.5999987, 3.6999986, 3.7999985, 3.8999984,\n",
              "       3.9999983, 4.0999985, 4.1999984, 4.2999983, 4.399998 , 4.499998 ,\n",
              "       4.599998 , 4.699998 , 4.799998 , 4.8999977], dtype=float32)>"
            ]
          },
          "metadata": {
            "tags": []
          },
          "execution_count": 12
        }
      ]
    },
    {
      "cell_type": "markdown",
      "metadata": {
        "id": "fEfzTROMbwVC",
        "colab_type": "text"
      },
      "source": [
        "Above we've created our x values, which is our **explanatory variable**. We will simulate a **response variable** y, which has the relationship $y = 3.5x - 1$, plus some noise."
      ]
    },
    {
      "cell_type": "code",
      "metadata": {
        "id": "Wjm8dVdPG_r0",
        "colab_type": "code",
        "outputId": "da149ebf-b6e4-4c2b-cb89-6b2384ea9fb9",
        "colab": {
          "base_uri": "https://localhost:8080/",
          "height": 193
        }
      },
      "source": [
        "y = 3.5*x - 1 + tf.random.uniform(shape=(40,), minval=-1, maxval=1, dtype=tf.float32)\n",
        "y"
      ],
      "execution_count": 13,
      "outputs": [
        {
          "output_type": "execute_result",
          "data": {
            "text/plain": [
              "<tf.Tensor: id=55, shape=(40,), dtype=float32, numpy=\n",
              "array([ 1.5081716,  3.4402354,  3.565304 ,  2.9521132,  4.642995 ,\n",
              "        5.1984725,  4.033718 ,  4.244085 ,  5.6146545,  6.6339474,\n",
              "        6.4838257,  6.9260926,  6.266905 ,  6.4089746,  6.5717545,\n",
              "        6.8176184,  7.19166  ,  9.247049 ,  7.9582567, 10.14625  ,\n",
              "        8.848628 , 10.280046 ,  9.729949 , 10.760101 , 11.438638 ,\n",
              "       11.2754   , 11.156017 , 11.16319  , 12.735874 , 13.418887 ,\n",
              "       12.87348  , 13.070494 , 13.1910925, 13.565499 , 14.655623 ,\n",
              "       14.032754 , 15.643642 , 16.414732 , 16.290714 , 16.515282 ],\n",
              "      dtype=float32)>"
            ]
          },
          "metadata": {
            "tags": []
          },
          "execution_count": 13
        }
      ]
    },
    {
      "cell_type": "markdown",
      "metadata": {
        "id": "DMG48EIlcLwY",
        "colab_type": "text"
      },
      "source": [
        "Let's see how our data looks:"
      ]
    },
    {
      "cell_type": "code",
      "metadata": {
        "id": "q9gK37UcHPQC",
        "colab_type": "code",
        "colab": {
          "base_uri": "https://localhost:8080/",
          "height": 282
        },
        "outputId": "0bd01c6f-7b2c-4f0a-b23e-0fd8250ddcb8"
      },
      "source": [
        "import matplotlib.pyplot as plt\n",
        "% matplotlib inline\n",
        "\n",
        "plt.scatter(x, y)"
      ],
      "execution_count": 14,
      "outputs": [
        {
          "output_type": "execute_result",
          "data": {
            "text/plain": [
              "<matplotlib.collections.PathCollection at 0x7f2120205d30>"
            ]
          },
          "metadata": {
            "tags": []
          },
          "execution_count": 14
        },
        {
          "output_type": "display_data",
          "data": {
            "image/png": "[encoded data removed]",
            "text/plain": [
              "<Figure size 432x288 with 1 Axes>"
            ]
          },
          "metadata": {
            "tags": []
          }
        }
      ]
    },
    {
      "cell_type": "markdown",
      "metadata": {
        "id": "cCiDdzrxcsBt",
        "colab_type": "text"
      },
      "source": [
        "When we fit a linear model to data, we want to find the values of **parameters** $m$ and $b$ to make our line best represent our data. Let's createt these variables first:"
      ]
    },
    {
      "cell_type": "code",
      "metadata": {
        "id": "2KEFL520HmyV",
        "colab_type": "code",
        "colab": {}
      },
      "source": [
        "m = tf.Variable(1, dtype=tf.float32) # explicitly set the data type, because the initial value is an integer\n",
        "b = tf.Variable(0, dtype=tf.float32)"
      ],
      "execution_count": 0,
      "outputs": []
    },
    {
      "cell_type": "markdown",
      "metadata": {
        "id": "lL41na5WdQHL",
        "colab_type": "text"
      },
      "source": [
        "Let's see our line looks before fitting it to data:"
      ]
    },
    {
      "cell_type": "code",
      "metadata": {
        "id": "505Jh2vMH2d6",
        "colab_type": "code",
        "colab": {
          "base_uri": "https://localhost:8080/",
          "height": 158
        },
        "outputId": "8b49937c-08e4-4c9b-8e30-924520b30a98"
      },
      "source": [
        "y_pred = x*m + b # notice y is a vector, we are doing a vectorized operation here on all the entries of x\n",
        "y_pred"
      ],
      "execution_count": 16,
      "outputs": [
        {
          "output_type": "execute_result",
          "data": {
            "text/plain": [
              "<tf.Tensor: id=97, shape=(40,), dtype=float32, numpy=\n",
              "array([1.       , 1.1      , 1.2      , 1.3000001, 1.4000001, 1.5000001,\n",
              "       1.6000001, 1.7000002, 1.8000002, 1.9000002, 2.0000002, 2.1000001,\n",
              "       2.2      , 2.3      , 2.3999999, 2.4999998, 2.5999997, 2.6999996,\n",
              "       2.7999995, 2.8999994, 2.9999993, 3.0999992, 3.199999 , 3.299999 ,\n",
              "       3.399999 , 3.4999988, 3.5999987, 3.6999986, 3.7999985, 3.8999984,\n",
              "       3.9999983, 4.0999985, 4.1999984, 4.2999983, 4.399998 , 4.499998 ,\n",
              "       4.599998 , 4.699998 , 4.799998 , 4.8999977], dtype=float32)>"
            ]
          },
          "metadata": {
            "tags": []
          },
          "execution_count": 16
        }
      ]
    },
    {
      "cell_type": "code",
      "metadata": {
        "id": "FURqcdZwH5HW",
        "colab_type": "code",
        "outputId": "30238c0d-1d15-40e7-e55f-ecde2eb7d314",
        "colab": {
          "base_uri": "https://localhost:8080/",
          "height": 282
        }
      },
      "source": [
        "plt.scatter(x, y)\n",
        "plt.plot(x, y_pred)"
      ],
      "execution_count": 17,
      "outputs": [
        {
          "output_type": "execute_result",
          "data": {
            "text/plain": [
              "[<matplotlib.lines.Line2D at 0x7f212013c7b8>]"
            ]
          },
          "metadata": {
            "tags": []
          },
          "execution_count": 17
        },
        {
          "output_type": "display_data",
          "data": {
            "image/png": "[encoded data removed]",
            "text/plain": [
              "<Figure size 432x288 with 1 Axes>"
            ]
          },
          "metadata": {
            "tags": []
          }
        }
      ]
    },
    {
      "cell_type": "markdown",
      "metadata": {
        "id": "Cgi9VI9Ydgv4",
        "colab_type": "text"
      },
      "source": [
        "Our line doesn't look great. But how do we know when our model is doing well? We will define a numeric measure of how poorly our model is doing. In machine learning, this is called a **loss function**. The larger our loss, the worse our model is. \n",
        "\n",
        "For regression, a common loss function is **mean squared error** (MSE):\n",
        "\n",
        "MSE = $\\frac{1}{N}\\sum^N_{i=1} (y_{i, true} - y_{i, predicted})^2$\n",
        "\n",
        "Our goal is to minimize this loss function."
      ]
    },
    {
      "cell_type": "code",
      "metadata": {
        "id": "4DsEqmoTaU9n",
        "colab_type": "code",
        "colab": {}
      },
      "source": [
        "def mse(y_true, y_pred):\n",
        "  # TensorFlow has this function built in: tf.keras.losses.MSE(y_true, y_pred)\n",
        "  return tf.reduce_mean((y_true - y_pred)**2)"
      ],
      "execution_count": 0,
      "outputs": []
    },
    {
      "cell_type": "code",
      "metadata": {
        "id": "yOBsPIiUeuuz",
        "colab_type": "code",
        "colab": {
          "base_uri": "https://localhost:8080/",
          "height": 34
        },
        "outputId": "d3f38f77-a299-447c-9e94-3fa469209102"
      },
      "source": [
        "mse(y, y_pred) # want to minimize this value!"
      ],
      "execution_count": 19,
      "outputs": [
        {
          "output_type": "execute_result",
          "data": {
            "text/plain": [
              "<tf.Tensor: id=182, shape=(), dtype=float32, numpy=49.60046>"
            ]
          },
          "metadata": {
            "tags": []
          },
          "execution_count": 19
        }
      ]
    },
    {
      "cell_type": "markdown",
      "metadata": {
        "id": "gzaG4KcUexoV",
        "colab_type": "text"
      },
      "source": [
        "For linear regression, we know there's a closed form solution. let's just compute that:"
      ]
    },
    {
      "cell_type": "code",
      "metadata": {
        "id": "u5K54xGfIKLI",
        "colab_type": "code",
        "outputId": "9f6b5860-43fb-478f-fad7-c23059e0cc74",
        "colab": {
          "base_uri": "https://localhost:8080/",
          "height": 34
        }
      },
      "source": [
        "sxx = tf.reduce_mean((x - tf.reduce_mean(x))**2)\n",
        "sxy = tf.reduce_mean((x - tf.reduce_mean(x))*(y - tf.reduce_mean(y)))\n",
        "\n",
        "m.assign(sxy/sxx)\n",
        "b.assign(tf.reduce_mean(y) - m*tf.reduce_mean(x))\n",
        "\n",
        "y_pred = x*m + b\n",
        "\n",
        "print(f'Loss: {mse(y, y_pred).numpy()}')"
      ],
      "execution_count": 20,
      "outputs": [
        {
          "output_type": "stream",
          "text": [
            "Loss: 0.4125025272369385\n"
          ],
          "name": "stdout"
        }
      ]
    },
    {
      "cell_type": "markdown",
      "metadata": {
        "id": "GKk6RCsGe3Wc",
        "colab_type": "text"
      },
      "source": [
        "Our loss went down (and is minimized, because this is a closed form solution)! Let's check out how this looks graphically:"
      ]
    },
    {
      "cell_type": "code",
      "metadata": {
        "id": "n12V7C-hIkCs",
        "colab_type": "code",
        "outputId": "3c63c7c9-742a-4a70-fce2-28cf8968d552",
        "colab": {
          "base_uri": "https://localhost:8080/",
          "height": 282
        }
      },
      "source": [
        "plt.scatter(x, y)\n",
        "plt.plot(x, y_pred)\n",
        "\n",
        "print(f'm: {m.numpy()}   b: {b.numpy()}')"
      ],
      "execution_count": 21,
      "outputs": [
        {
          "output_type": "stream",
          "text": [
            "m: 3.5368335247039795   b: -1.110854148864746\n"
          ],
          "name": "stdout"
        },
        {
          "output_type": "display_data",
          "data": {
            "image/png": "[encoded data removed]",
            "text/plain": [
              "<Figure size 432x288 with 1 Axes>"
            ]
          },
          "metadata": {
            "tags": []
          }
        }
      ]
    },
    {
      "cell_type": "markdown",
      "metadata": {
        "id": "5-tt-dRCfXSJ",
        "colab_type": "text"
      },
      "source": [
        "Much better! Our parameter values are also very close to the true relationship between $x$ and $y$."
      ]
    },
    {
      "cell_type": "markdown",
      "metadata": {
        "id": "IqigNebSZv2m",
        "colab_type": "text"
      },
      "source": [
        "## What if we didn't have a closed form? Gradient Descent!\n",
        "\n",
        "We have a function $L$ (our loss function, MSE) that we want to minimize by changing our parameters $m$ and $b$. The partial derivative $\\frac{\\partial L}{\\partial m}$ represents the direction of steepest ascent with respect to $m$. If we travel in the direction of the $-\\frac{\\partial L}{\\partial m}$, we are travelling in a direction where our loss function gets smaller. By taking small steps and computing the direction of the derivative at each step, we can slowly make progress towards a local minima. In particular, at every step, here is the update rule:\n",
        "\n",
        "$m_{k+1} = m_k - \\alpha\\frac{\\partial L}{\\partial m}$\n",
        "\n",
        "$b_{k+1} = b_k - \\alpha\\frac{\\partial L}{\\partial b}$\n",
        "\n",
        "$\\alpha$ is our **learning rate**. Typically, this is a value < 1 so we don't take steps that are too large. If our steps are too large, we may never reach the minimum (might jump over the minimum, or diverge altogether). A **gradient** is a vector of partial derivatives of our parameters. Concretely, let $\\theta = [m, b]^T$. we can rewrite the above expression concisely as follows.\n",
        "\n",
        "$\\theta_{k+1} = \\theta_k - \\alpha\\nabla_\\theta L = \\begin{bmatrix} m_k \\\\ b_k \\end{bmatrix} - \\alpha \\begin{bmatrix} \\frac{\\partial L}{\\partial m} \\\\ \\frac{\\partial L}{\\partial b} \\end{bmatrix}$\n",
        "\n",
        "Gradient Descent has some drawbacks. It's much slower than a closed form solution. Also, if we have a loss function that isn't **convex**, it could have multiple minima, so our algorithm may converge to a minimum that isn't the global minimum. \n",
        "\n",
        "The image below shows the value of an example loss function $J(\\theta_0, \\theta_1)$ (which could be MSE) plotted against $\\theta_0$ and $\\theta_1$ (which could be $m$ and $b$).\n",
        "\n",
        "\n",
        "![alt text](https://hackernoon.com/hn-images/1*f9a162GhpMbiTVTAua_lLQ.png)\n",
        "\n",
        "For linear regression, we know that the loss function is convex (unlike the picture above), though for machine learning models in general, this is not true.\n",
        "\n",
        "Let's use gradient descent to fit our linear model."
      ]
    },
    {
      "cell_type": "code",
      "metadata": {
        "id": "QhHwHvvEZkOh",
        "colab_type": "code",
        "outputId": "259c8151-2259-4487-e38b-0b4c2b0f82eb",
        "colab": {
          "base_uri": "https://localhost:8080/",
          "height": 52
        }
      },
      "source": [
        "m = tf.Variable(1, dtype=tf.float32)\n",
        "b = tf.Variable(0, dtype=tf.float32)\n",
        "m, b"
      ],
      "execution_count": 22,
      "outputs": [
        {
          "output_type": "execute_result",
          "data": {
            "text/plain": [
              "(<tf.Variable 'Variable:0' shape=() dtype=float32, numpy=1.0>,\n",
              " <tf.Variable 'Variable:0' shape=() dtype=float32, numpy=0.0>)"
            ]
          },
          "metadata": {
            "tags": []
          },
          "execution_count": 22
        }
      ]
    },
    {
      "cell_type": "markdown",
      "metadata": {
        "id": "xUnGoq94jXa6",
        "colab_type": "text"
      },
      "source": [
        "We want to iteratively update our parameters in the direction of the negative gradient. TensorFlow supports automatic differentiation, so let's take advantage of that. We use something called a `GradientTape` to track computations in TensorFlow. After tracking them, we are able to differentiate wirth respect to them."
      ]
    },
    {
      "cell_type": "code",
      "metadata": {
        "id": "-x2aot6ejlua",
        "colab_type": "code",
        "colab": {
          "base_uri": "https://localhost:8080/",
          "height": 52
        },
        "outputId": "4bd7ac73-696c-4404-dafe-9230a07d5d12"
      },
      "source": [
        "with tf.GradientTape() as tape:\n",
        "  y_pred = x*m + b\n",
        "  loss = mse(y_true=y, y_pred=y_pred)\n",
        "\n",
        "tape.gradient(loss, [m, b])"
      ],
      "execution_count": 23,
      "outputs": [
        {
          "output_type": "execute_result",
          "data": {
            "text/plain": [
              "[<tf.Tensor: id=354, shape=(), dtype=float32, numpy=-44.360188>,\n",
              " <tf.Tensor: id=347, shape=(), dtype=float32, numpy=-12.745608>]"
            ]
          },
          "metadata": {
            "tags": []
          },
          "execution_count": 23
        }
      ]
    },
    {
      "cell_type": "markdown",
      "metadata": {
        "id": "N7FieBzWjrF_",
        "colab_type": "text"
      },
      "source": [
        "The result is the value of the partials with respect to the variables. With GradientTape, computatiosn with Variables are automatically tracked. If you want to differentiate with respect to Tensors, you have to use `tape.watch(tensor)`. We won't cover that in this workshop, but you can check that out [here](https://www.tensorflow.org/tutorials/customization/autodiff).\n",
        "\n",
        "Now we can write our training loop. We will take 100 steps with a learning rate of 0.05. Here's how that looks:"
      ]
    },
    {
      "cell_type": "code",
      "metadata": {
        "id": "OJgZkgyQcFnO",
        "colab_type": "code",
        "outputId": "c49fb6c9-e748-4604-b5b3-62163f2489e3",
        "colab": {
          "base_uri": "https://localhost:8080/",
          "height": 193
        }
      },
      "source": [
        "lr = 0.05 # learning rate\n",
        "\n",
        "for step in range(100):\n",
        "  with tf.GradientTape() as tape:\n",
        "    y_pred = x*m + b\n",
        "    loss = mse(y_true=y, y_pred=y_pred)\n",
        "\n",
        "  gradient = tape.gradient(loss, [m, b])\n",
        "  m.assign_sub(lr*gradient[0])\n",
        "  b.assign_sub(lr*gradient[1])\n",
        "\n",
        "  if step % 10 == 0:\n",
        "    print(f'Loss: {loss.numpy()}')"
      ],
      "execution_count": 24,
      "outputs": [
        {
          "output_type": "stream",
          "text": [
            "Loss: 49.600460052490234\n",
            "Loss: 0.717918336391449\n",
            "Loss: 0.6513835191726685\n",
            "Loss: 0.5993430018424988\n",
            "Loss: 0.558639645576477\n",
            "Loss: 0.5268036127090454\n",
            "Loss: 0.5019029378890991\n",
            "Loss: 0.482427179813385\n",
            "Loss: 0.46719399094581604\n",
            "Loss: 0.4552793502807617\n"
          ],
          "name": "stdout"
        }
      ]
    },
    {
      "cell_type": "markdown",
      "metadata": {
        "id": "YTvRxcHzl9ka",
        "colab_type": "text"
      },
      "source": [
        "Our loss went down, nice! Let's check out the parameter values and the a graph:"
      ]
    },
    {
      "cell_type": "code",
      "metadata": {
        "id": "pkK_Uo_DdgLI",
        "colab_type": "code",
        "outputId": "6c7d3bb4-ae08-4021-fce4-219ab819c09d",
        "colab": {
          "base_uri": "https://localhost:8080/",
          "height": 282
        }
      },
      "source": [
        "plt.scatter(x, y_pred)\n",
        "plt.scatter(x, y)\n",
        "\n",
        "print(f'm: {m.numpy()}   b: {b.numpy()}')"
      ],
      "execution_count": 25,
      "outputs": [
        {
          "output_type": "stream",
          "text": [
            "m: 3.387526035308838   b: -0.6091350317001343\n"
          ],
          "name": "stdout"
        },
        {
          "output_type": "display_data",
          "data": {
            "image/png": "[encoded data removed]",
            "text/plain": [
              "<Figure size 432x288 with 1 Axes>"
            ]
          },
          "metadata": {
            "tags": []
          }
        }
      ]
    },
    {
      "cell_type": "markdown",
      "metadata": {
        "id": "1I-h1-k0ocTm",
        "colab_type": "text"
      },
      "source": [
        "Our code is clean and simple for the simple linear regression case, but it does not scale well. Let's use some classes and objects to clean things up a bit."
      ]
    },
    {
      "cell_type": "code",
      "metadata": {
        "id": "M5xi18xto2Qp",
        "colab_type": "code",
        "colab": {}
      },
      "source": [
        "class Linear(object):\n",
        "  def __init__(self):\n",
        "    self.m = tf.Variable(1, dtype=tf.float32)\n",
        "    self.b = tf.Variable(0, dtype=tf.float32)\n",
        "    self.trainable_variables = [self.m, self.b]\n",
        "  \n",
        "  def __call__(self, x): # assume x is a row vector\n",
        "    return self.m * x + self.b"
      ],
      "execution_count": 0,
      "outputs": []
    },
    {
      "cell_type": "markdown",
      "metadata": {
        "id": "jypQs0aXo_YB",
        "colab_type": "text"
      },
      "source": [
        "The class above is a callable. When you call it with some input, it'll apply the linear function."
      ]
    },
    {
      "cell_type": "code",
      "metadata": {
        "id": "uscRSRa5o9YL",
        "colab_type": "code",
        "colab": {
          "base_uri": "https://localhost:8080/",
          "height": 193
        },
        "outputId": "d2e85cb4-89a4-40c3-a1fa-a0553759fa16"
      },
      "source": [
        "lr = 0.05 # learning rate\n",
        "\n",
        "linear_model = Linear()\n",
        "\n",
        "for step in range(100):\n",
        "  with tf.GradientTape() as tape:\n",
        "    y_pred = linear_model(x)\n",
        "    loss = mse(y_true=y, y_pred=y_pred)\n",
        "\n",
        "  gradient = tape.gradient(loss, linear_model.trainable_variables)\n",
        "  \n",
        "  for partial, variable in zip(gradient, linear_model.trainable_variables):\n",
        "    variable.assign_sub(lr*partial)\n",
        "  \n",
        "  if step % 10 == 0:\n",
        "    print(f'Loss: {loss.numpy()}')"
      ],
      "execution_count": 27,
      "outputs": [
        {
          "output_type": "stream",
          "text": [
            "Loss: 49.600460052490234\n",
            "Loss: 0.717918336391449\n",
            "Loss: 0.6513835191726685\n",
            "Loss: 0.5993430018424988\n",
            "Loss: 0.558639645576477\n",
            "Loss: 0.5268036127090454\n",
            "Loss: 0.5019029378890991\n",
            "Loss: 0.482427179813385\n",
            "Loss: 0.46719399094581604\n",
            "Loss: 0.4552793502807617\n"
          ],
          "name": "stdout"
        }
      ]
    },
    {
      "cell_type": "markdown",
      "metadata": {
        "id": "pF73sgPKpgWl",
        "colab_type": "text"
      },
      "source": [
        "Let's also encapsulate our gradient update into an object too, to make things even cleaner:"
      ]
    },
    {
      "cell_type": "code",
      "metadata": {
        "id": "G-5npzcmpfH5",
        "colab_type": "code",
        "colab": {}
      },
      "source": [
        "class GradientDescentOptimizer(object):\n",
        "  def __init__(self, lr=0.05):\n",
        "    self.lr = 0.05\n",
        "  \n",
        "  def apply_gradients(self, grads_and_vars):\n",
        "    for grad, var in zip(gradient, linear_model.trainable_variables):\n",
        "      var.assign_sub(self.lr*grad)"
      ],
      "execution_count": 0,
      "outputs": []
    },
    {
      "cell_type": "code",
      "metadata": {
        "id": "jaRG4EtNp8Xp",
        "colab_type": "code",
        "colab": {
          "base_uri": "https://localhost:8080/",
          "height": 193
        },
        "outputId": "eb153a4b-8d69-4c3d-9e32-d9f6d9340907"
      },
      "source": [
        "linear_model = Linear()\n",
        "optimizer = GradientDescentOptimizer(lr=0.05)\n",
        "\n",
        "for step in range(100):\n",
        "  with tf.GradientTape() as tape:\n",
        "    y_pred = linear_model(x)\n",
        "    loss = mse(y_true=y, y_pred=y_pred)\n",
        "\n",
        "  gradient = tape.gradient(loss, linear_model.trainable_variables)\n",
        "  optimizer.apply_gradients(zip(gradient, linear_model.trainable_variables))\n",
        "  \n",
        "  if step % 10 == 0:\n",
        "    print(f'Loss: {loss.numpy()}')"
      ],
      "execution_count": 29,
      "outputs": [
        {
          "output_type": "stream",
          "text": [
            "Loss: 49.600460052490234\n",
            "Loss: 0.717918336391449\n",
            "Loss: 0.6513835191726685\n",
            "Loss: 0.5993430018424988\n",
            "Loss: 0.558639645576477\n",
            "Loss: 0.5268036127090454\n",
            "Loss: 0.5019029378890991\n",
            "Loss: 0.482427179813385\n",
            "Loss: 0.46719399094581604\n",
            "Loss: 0.4552793502807617\n"
          ],
          "name": "stdout"
        }
      ]
    },
    {
      "cell_type": "markdown",
      "metadata": {
        "id": "5ezfQ6mAqIZC",
        "colab_type": "text"
      },
      "source": [
        "TensorFlow actually gives us exactly this optimizer (with some more bells and whistles, of course): "
      ]
    },
    {
      "cell_type": "code",
      "metadata": {
        "id": "3BrRrwj3vjxK",
        "colab_type": "code",
        "colab": {}
      },
      "source": [
        "from tensorflow.keras.optimizers import SGD"
      ],
      "execution_count": 0,
      "outputs": []
    },
    {
      "cell_type": "code",
      "metadata": {
        "id": "zPwzLKEUqMCA",
        "colab_type": "code",
        "colab": {
          "base_uri": "https://localhost:8080/",
          "height": 193
        },
        "outputId": "200de7ba-756c-44af-f732-1a455e50dfaf"
      },
      "source": [
        "linear_model = Linear()\n",
        "optimizer = SGD(lr=0.05)\n",
        "\n",
        "for step in range(100):\n",
        "  with tf.GradientTape() as tape:\n",
        "    y_pred = linear_model(x)\n",
        "    loss = mse(y_true=y, y_pred=y_pred)\n",
        "\n",
        "  gradient = tape.gradient(loss, linear_model.trainable_variables)\n",
        "  optimizer.apply_gradients(zip(gradient, linear_model.trainable_variables))\n",
        "  \n",
        "  if step % 10 == 0:\n",
        "    print(f'Loss: {loss.numpy()}')"
      ],
      "execution_count": 31,
      "outputs": [
        {
          "output_type": "stream",
          "text": [
            "Loss: 49.600460052490234\n",
            "Loss: 0.717918336391449\n",
            "Loss: 0.6513835191726685\n",
            "Loss: 0.5993430018424988\n",
            "Loss: 0.558639645576477\n",
            "Loss: 0.5268036127090454\n",
            "Loss: 0.5019029378890991\n",
            "Loss: 0.482427179813385\n",
            "Loss: 0.46719399094581604\n",
            "Loss: 0.4552793502807617\n"
          ],
          "name": "stdout"
        }
      ]
    },
    {
      "cell_type": "markdown",
      "metadata": {
        "id": "hQ6iAOixqSSK",
        "colab_type": "text"
      },
      "source": [
        "SGD stands for Stochastic Gradient Descent. It essentially exactly the same thing as our optimizer. We'll talk about it in more detail later."
      ]
    },
    {
      "cell_type": "markdown",
      "metadata": {
        "id": "Mi-gVBTie265",
        "colab_type": "text"
      },
      "source": [
        "## What if we have multiple inputs?\n",
        "\n",
        "$y = \\vec x^T \\vec w + b $\n",
        "\n",
        "Expanded:\n",
        "\n",
        "$y =  x_1w_1 + x_2w_2 + .... + x_mw_m + b$\n",
        "\n",
        "<br>\n",
        "\n",
        "## What if we have multiple outputs as well?\n",
        "\n",
        "$\\vec y = x^T \\vec W + \\vec b$\n",
        "\n",
        "Expanded:\n",
        "\n",
        "$y_1 =  x_1W_{1,1} + x_2W_{2,1} + ... + x_kW_{1,m} + b_1$\n",
        "\n",
        "$\\dots$\n",
        "\n",
        "$y_n =  x_1W_{k,1} + x_2W_{k,2} + ... + x_kW_{k,m} + b_k$\n",
        "\n",
        "<br>\n",
        "\n",
        "Let's update our linear class to support multiple inputs and ouputs.\n"
      ]
    },
    {
      "cell_type": "code",
      "metadata": {
        "id": "RhSTGJJ2nGJ7",
        "colab_type": "code",
        "colab": {}
      },
      "source": [
        "class Linear(object):\n",
        "  def __init__(self, input_length, output_length):\n",
        "    self.W = tf.Variable(tf.ones([input_length, output_length]))\n",
        "    self.b = tf.Variable(tf.zeros(output_length))\n",
        "    self.trainable_variables = [self.W, self.b]\n",
        "  \n",
        "  def __call__(self, x): # assume x is a row vector\n",
        "    return x @ self.W + self.b # @ is the matrix multiplication operator"
      ],
      "execution_count": 0,
      "outputs": []
    },
    {
      "cell_type": "markdown",
      "metadata": {
        "id": "C2L2jakmoBcU",
        "colab_type": "text"
      },
      "source": [
        "TensorFlow gives us almost exactly this in `tf.keras.layers.Dense`. For now, we will use our class for more transparency."
      ]
    },
    {
      "cell_type": "markdown",
      "metadata": {
        "id": "q4TnhNq7mRZV",
        "colab_type": "text"
      },
      "source": [
        "## MNIST\n",
        "\n",
        "MNIST is a dataset of handwritten digits from 1 to 9, originally published by Yann Lecun, Corinna Cortes, Christopher J.C. Burges. Let's check it out:"
      ]
    },
    {
      "cell_type": "code",
      "metadata": {
        "id": "D9AbH9J6e7Kk",
        "colab_type": "code",
        "colab": {}
      },
      "source": [
        "(x, y), _ = tf.keras.datasets.mnist.load_data()"
      ],
      "execution_count": 0,
      "outputs": []
    },
    {
      "cell_type": "code",
      "metadata": {
        "id": "Z-XCZ9gUuS1O",
        "colab_type": "code",
        "colab": {}
      },
      "source": [
        "x, y = tf.convert_to_tensor(x), tf.convert_to_tensor(y)"
      ],
      "execution_count": 0,
      "outputs": []
    },
    {
      "cell_type": "code",
      "metadata": {
        "id": "ZOoHhUnFfH0v",
        "colab_type": "code",
        "colab": {
          "base_uri": "https://localhost:8080/",
          "height": 282
        },
        "outputId": "9ad2bb57-4306-4230-f3d7-8cf3d7e6335e"
      },
      "source": [
        "plt.imshow(x[3])\n",
        "y[3]"
      ],
      "execution_count": 35,
      "outputs": [
        {
          "output_type": "execute_result",
          "data": {
            "text/plain": [
              "<tf.Tensor: id=16386, shape=(), dtype=uint8, numpy=1>"
            ]
          },
          "metadata": {
            "tags": []
          },
          "execution_count": 35
        },
        {
          "output_type": "display_data",
          "data": {
            "image/png": "[encoded data removed]",
            "text/plain": [
              "<Figure size 432x288 with 1 Axes>"
            ]
          },
          "metadata": {
            "tags": []
          }
        }
      ]
    },
    {
      "cell_type": "markdown",
      "metadata": {
        "id": "CyMeQyilsvfp",
        "colab_type": "text"
      },
      "source": [
        "#### Exercise:\n",
        "\n",
        "1.   What's the shape of each image?\n",
        "2.   How many images do we have in this dataset?\n",
        "3.   How many of each class do we have?\n",
        "4.   What's are the datatypes?\n",
        "\n"
      ]
    },
    {
      "cell_type": "code",
      "metadata": {
        "id": "Kl0i9cA_uLnX",
        "colab_type": "code",
        "colab": {
          "base_uri": "https://localhost:8080/",
          "height": 0
        },
        "outputId": "9ee73867-d036-401f-832c-6bb8c5f5e7bb"
      },
      "source": [
        "x.shape, y.shape # 28*28 images, 60 000 images"
      ],
      "execution_count": 36,
      "outputs": [
        {
          "output_type": "execute_result",
          "data": {
            "text/plain": [
              "(TensorShape([60000, 28, 28]), TensorShape([60000]))"
            ]
          },
          "metadata": {
            "tags": []
          },
          "execution_count": 36
        }
      ]
    },
    {
      "cell_type": "code",
      "metadata": {
        "id": "Fc2Qb-CtuYlw",
        "colab_type": "code",
        "colab": {
          "base_uri": "https://localhost:8080/",
          "height": 0
        },
        "outputId": "6354b15b-8584-41ff-e35f-0dc3bbc62fd7"
      },
      "source": [
        "for i in range(10):\n",
        "  print(f'Number of {i}: {tf.reduce_sum(tf.cast(y == i, tf.int32)).numpy()}')"
      ],
      "execution_count": 37,
      "outputs": [
        {
          "output_type": "stream",
          "text": [
            "Number of 0: 5923\n",
            "Number of 1: 6742\n",
            "Number of 2: 5958\n",
            "Number of 3: 6131\n",
            "Number of 4: 5842\n",
            "Number of 5: 5421\n",
            "Number of 6: 5918\n",
            "Number of 7: 6265\n",
            "Number of 8: 5851\n",
            "Number of 9: 5949\n"
          ],
          "name": "stdout"
        }
      ]
    },
    {
      "cell_type": "code",
      "metadata": {
        "id": "eRdqQal3uufN",
        "colab_type": "code",
        "colab": {
          "base_uri": "https://localhost:8080/",
          "height": 0
        },
        "outputId": "0adf7f14-d2d8-475a-f656-36848610cd63"
      },
      "source": [
        "x.dtype, y.dtype"
      ],
      "execution_count": 38,
      "outputs": [
        {
          "output_type": "execute_result",
          "data": {
            "text/plain": [
              "(tf.uint8, tf.uint8)"
            ]
          },
          "metadata": {
            "tags": []
          },
          "execution_count": 38
        }
      ]
    },
    {
      "cell_type": "markdown",
      "metadata": {
        "id": "95VaMVtYfuFg",
        "colab_type": "text"
      },
      "source": [
        "#### Preprocessing\n",
        "\n",
        "We'll work with just 500 examples, so our code runs faster. We also want to normalize our image values so they're between 0 and 1. This makes makes training our models easier, since the scale of our gradients and parameters are more predictable."
      ]
    },
    {
      "cell_type": "code",
      "metadata": {
        "id": "kAW2pDSIf4Sz",
        "colab_type": "code",
        "colab": {}
      },
      "source": [
        "x, y = x[:500], y[:500]\n",
        "x = tf.cast(x, tf.float32) / 255.0"
      ],
      "execution_count": 0,
      "outputs": []
    },
    {
      "cell_type": "markdown",
      "metadata": {
        "id": "0o_35LYrvWyq",
        "colab_type": "text"
      },
      "source": [
        "When we did regression, we assumed our response was a continuous variable. Now, our response is one of 9 categories. It doesn't make sense to fit a line to discrete values from 1 to 9, so we will do something called **one hot encoding**.\n",
        "\n",
        "Essentially, instead of 1 number representing the category, we have a vector of size 10. This vector has 0s everywhere, except a 1 indicating which category the example corresponds to. [Here](https://machinelearningmastery.com/why-one-hot-encode-data-in-machine-learning/)'s a great article about why we one hot encode.\n",
        "\n",
        "Intuitively, this vector represents a probability distribution. In our training data, if our example is a 1, there is a 100% chance it is a 1. So, vec[1] = 100%, while the rest = 0. We will create a model that will predict probabilities for each digit. Our model's prediction is whichever digit it assigned the highest probability."
      ]
    },
    {
      "cell_type": "code",
      "metadata": {
        "id": "5VM2T38iwO0_",
        "colab_type": "code",
        "colab": {
          "base_uri": "https://localhost:8080/",
          "height": 158
        },
        "outputId": "4f0d01e6-d5f3-4147-b66e-42f1366b7be5"
      },
      "source": [
        "y = tf.one_hot(y, depth=10)\n",
        "y"
      ],
      "execution_count": 40,
      "outputs": [
        {
          "output_type": "execute_result",
          "data": {
            "text/plain": [
              "<tf.Tensor: id=16451, shape=(500, 10), dtype=float32, numpy=\n",
              "array([[0., 0., 0., ..., 0., 0., 0.],\n",
              "       [1., 0., 0., ..., 0., 0., 0.],\n",
              "       [0., 0., 0., ..., 0., 0., 0.],\n",
              "       ...,\n",
              "       [0., 0., 0., ..., 1., 0., 0.],\n",
              "       [0., 0., 0., ..., 0., 0., 0.],\n",
              "       [0., 0., 0., ..., 0., 1., 0.]], dtype=float32)>"
            ]
          },
          "metadata": {
            "tags": []
          },
          "execution_count": 40
        }
      ]
    },
    {
      "cell_type": "markdown",
      "metadata": {
        "id": "meFT8Mtewf8T",
        "colab_type": "text"
      },
      "source": [
        "We will also reshape our explanatory variable from a 28x28 image to a 28*28 long vector, so we can continue to use the techniques we have developed."
      ]
    },
    {
      "cell_type": "code",
      "metadata": {
        "id": "ZDaixNqFyYzo",
        "colab_type": "code",
        "colab": {
          "base_uri": "https://localhost:8080/",
          "height": 158
        },
        "outputId": "714469a8-ab4a-4bf1-f7f0-81ff90dc8819"
      },
      "source": [
        "x = tf.reshape(x, (-1, 28*28))\n",
        "x"
      ],
      "execution_count": 41,
      "outputs": [
        {
          "output_type": "execute_result",
          "data": {
            "text/plain": [
              "<tf.Tensor: id=16453, shape=(500, 784), dtype=float32, numpy=\n",
              "array([[0., 0., 0., ..., 0., 0., 0.],\n",
              "       [0., 0., 0., ..., 0., 0., 0.],\n",
              "       [0., 0., 0., ..., 0., 0., 0.],\n",
              "       ...,\n",
              "       [0., 0., 0., ..., 0., 0., 0.],\n",
              "       [0., 0., 0., ..., 0., 0., 0.],\n",
              "       [0., 0., 0., ..., 0., 0., 0.]], dtype=float32)>"
            ]
          },
          "metadata": {
            "tags": []
          },
          "execution_count": 41
        }
      ]
    },
    {
      "cell_type": "markdown",
      "metadata": {
        "id": "zb2qefkAwrc3",
        "colab_type": "text"
      },
      "source": [
        "Now our dataset contains 60,000 vectors of length 784.\n",
        "\n",
        "For easy reuse, we'll define a function that does all this for us, in case we need it again:"
      ]
    },
    {
      "cell_type": "code",
      "metadata": {
        "id": "xfNo5p-Q7Fgd",
        "colab_type": "code",
        "colab": {}
      },
      "source": [
        "def preprocess(x, y):\n",
        "  # Converts numpy arrays to preprocessing tensors\n",
        "  x, y = tf.convert_to_tensor(x), tf.convert_to_tensor(y)\n",
        "  x = tf.reshape(x, (-1, 28*28))\n",
        "  x = tf.cast(x, tf.float32) / 255.0\n",
        "  y = tf.one_hot(y, depth=10)\n",
        "  return x, y"
      ],
      "execution_count": 0,
      "outputs": []
    },
    {
      "cell_type": "markdown",
      "metadata": {
        "id": "7guKhz2UxXXc",
        "colab_type": "text"
      },
      "source": [
        "Let's jump right into it with our linear model!"
      ]
    },
    {
      "cell_type": "code",
      "metadata": {
        "id": "03QQTMTfxmIY",
        "colab_type": "code",
        "colab": {
          "base_uri": "https://localhost:8080/",
          "height": 158
        },
        "outputId": "b566c5c7-f6cc-47f7-eb0b-0cf7b1b6b225"
      },
      "source": [
        "x"
      ],
      "execution_count": 43,
      "outputs": [
        {
          "output_type": "execute_result",
          "data": {
            "text/plain": [
              "<tf.Tensor: id=16453, shape=(500, 784), dtype=float32, numpy=\n",
              "array([[0., 0., 0., ..., 0., 0., 0.],\n",
              "       [0., 0., 0., ..., 0., 0., 0.],\n",
              "       [0., 0., 0., ..., 0., 0., 0.],\n",
              "       ...,\n",
              "       [0., 0., 0., ..., 0., 0., 0.],\n",
              "       [0., 0., 0., ..., 0., 0., 0.],\n",
              "       [0., 0., 0., ..., 0., 0., 0.]], dtype=float32)>"
            ]
          },
          "metadata": {
            "tags": []
          },
          "execution_count": 43
        }
      ]
    },
    {
      "cell_type": "code",
      "metadata": {
        "id": "jxa9xySEx4u8",
        "colab_type": "code",
        "colab": {}
      },
      "source": [
        "linear_model = Linear(input_length=784, output_length=10)"
      ],
      "execution_count": 0,
      "outputs": []
    },
    {
      "cell_type": "markdown",
      "metadata": {
        "id": "sD_oQ8Nuz54C",
        "colab_type": "text"
      },
      "source": [
        "Broadcasting is what keeps our code so concise. Even though there are 500 training examples, broadcasting will do the matrix multplication on each row of the input matrix (i.e. each example). The output has one output vector per row:"
      ]
    },
    {
      "cell_type": "code",
      "metadata": {
        "id": "XhYvU8O4xd7y",
        "colab_type": "code",
        "colab": {
          "base_uri": "https://localhost:8080/",
          "height": 263
        },
        "outputId": "562914e8-7012-44b5-86d0-0908062f706e"
      },
      "source": [
        "linear_model(x)"
      ],
      "execution_count": 45,
      "outputs": [
        {
          "output_type": "execute_result",
          "data": {
            "text/plain": [
              "<tf.Tensor: id=16475, shape=(500, 10), dtype=float32, numpy=\n",
              "array([[107.94119 , 107.94119 , 107.94119 , ..., 107.94119 , 107.94119 ,\n",
              "        107.94119 ],\n",
              "       [121.94121 , 121.94121 , 121.94121 , ..., 121.94121 , 121.94121 ,\n",
              "        121.94121 ],\n",
              "       [ 76.247055,  76.247055,  76.247055, ...,  76.247055,  76.247055,\n",
              "         76.247055],\n",
              "       ...,\n",
              "       [ 81.074524,  81.074524,  81.074524, ...,  81.074524,  81.074524,\n",
              "         81.074524],\n",
              "       [ 71.69804 ,  71.69804 ,  71.69804 , ...,  71.69804 ,  71.69804 ,\n",
              "         71.69804 ],\n",
              "       [108.50588 , 108.50588 , 108.50588 , ..., 108.50588 , 108.50588 ,\n",
              "        108.50588 ]], dtype=float32)>"
            ]
          },
          "metadata": {
            "tags": []
          },
          "execution_count": 45
        }
      ]
    },
    {
      "cell_type": "markdown",
      "metadata": {
        "id": "YBeFzQMDxvD8",
        "colab_type": "text"
      },
      "source": [
        "Great...but we wanted our outputs to represent a probability distribution. We need to normalize the output of model so the vector represents a probability distribution.\n",
        "\n",
        "We are doing what's called **multiclass logistic regression**. The current outputs of our linear model are called **logits**. To get the probabilities, we normalize our output using a function called a **softmax**. Let $\\vec y = [y_1, y_2, .... y_k]$ be our output vector:\n",
        "\n",
        "$softmax(\\vec y) = \\left\\{\\frac{\\exp(y_i)}{\\sum_{j=1}^k \\exp(y_j)}\\right\\}_{i=1...k}$\n",
        "\n",
        "This forces the sum of the elements to equal 1 (like a probability). You'll notice we don't just normalize--we exponentiate then normalize. Intuitively, the exponent makes large grow faster than small ones. If the model outputs small differences between the classes, this function will make one entry in the vector large and close to one, and the rest close to 0. This will make it easier for our model's output to match the one_hot encoded ground truth."
      ]
    },
    {
      "cell_type": "code",
      "metadata": {
        "id": "e9T_AKjh0zpz",
        "colab_type": "code",
        "colab": {}
      },
      "source": [
        "def softmax(x):\n",
        "  return tf.math.exp(x) / tf.reduce_sum(tf.math.exp(x))"
      ],
      "execution_count": 0,
      "outputs": []
    },
    {
      "cell_type": "code",
      "metadata": {
        "id": "fdG2l3K91leM",
        "colab_type": "code",
        "colab": {
          "base_uri": "https://localhost:8080/",
          "height": 158
        },
        "outputId": "0ebdac62-0550-47ad-e4f5-03d3d55a0323"
      },
      "source": [
        "softmax(linear_model(x))"
      ],
      "execution_count": 47,
      "outputs": [
        {
          "output_type": "execute_result",
          "data": {
            "text/plain": [
              "<tf.Tensor: id=16484, shape=(500, 10), dtype=float32, numpy=\n",
              "array([[nan, nan, nan, ..., nan, nan, nan],\n",
              "       [nan, nan, nan, ..., nan, nan, nan],\n",
              "       [ 0.,  0.,  0., ...,  0.,  0.,  0.],\n",
              "       ...,\n",
              "       [ 0.,  0.,  0., ...,  0.,  0.,  0.],\n",
              "       [ 0.,  0.,  0., ...,  0.,  0.,  0.],\n",
              "       [nan, nan, nan, ..., nan, nan, nan]], dtype=float32)>"
            ]
          },
          "metadata": {
            "tags": []
          },
          "execution_count": 47
        }
      ]
    },
    {
      "cell_type": "markdown",
      "metadata": {
        "id": "t8B6nTQUzPCp",
        "colab_type": "text"
      },
      "source": [
        "Yikes, looks like there's some numerical overflow in our softmax. We'll use the built in one to avoid this (there are some tricks to make it stable):"
      ]
    },
    {
      "cell_type": "code",
      "metadata": {
        "id": "qTve2Cfx14lu",
        "colab_type": "code",
        "colab": {
          "base_uri": "https://localhost:8080/",
          "height": 158
        },
        "outputId": "f3d38292-152d-462b-dd08-e13bd114faf0"
      },
      "source": [
        "y_pred = tf.nn.softmax(linear_model(x))\n",
        "y_pred"
      ],
      "execution_count": 48,
      "outputs": [
        {
          "output_type": "execute_result",
          "data": {
            "text/plain": [
              "<tf.Tensor: id=16489, shape=(500, 10), dtype=float32, numpy=\n",
              "array([[0.1, 0.1, 0.1, ..., 0.1, 0.1, 0.1],\n",
              "       [0.1, 0.1, 0.1, ..., 0.1, 0.1, 0.1],\n",
              "       [0.1, 0.1, 0.1, ..., 0.1, 0.1, 0.1],\n",
              "       ...,\n",
              "       [0.1, 0.1, 0.1, ..., 0.1, 0.1, 0.1],\n",
              "       [0.1, 0.1, 0.1, ..., 0.1, 0.1, 0.1],\n",
              "       [0.1, 0.1, 0.1, ..., 0.1, 0.1, 0.1]], dtype=float32)>"
            ]
          },
          "metadata": {
            "tags": []
          },
          "execution_count": 48
        }
      ]
    },
    {
      "cell_type": "markdown",
      "metadata": {
        "id": "LCZe-gYgzc8a",
        "colab_type": "text"
      },
      "source": [
        "Great, let's check that our probability vectors add up to 1, just like we want."
      ]
    },
    {
      "cell_type": "code",
      "metadata": {
        "id": "HnQPQPGV2BY0",
        "colab_type": "code",
        "colab": {
          "base_uri": "https://localhost:8080/",
          "height": 562
        },
        "outputId": "cd3fcfcd-f29e-45a5-ff17-51c72e53b888"
      },
      "source": [
        "tf.reduce_sum(y_pred, axis=1)"
      ],
      "execution_count": 49,
      "outputs": [
        {
          "output_type": "execute_result",
          "data": {
            "text/plain": [
              "<tf.Tensor: id=16491, shape=(500,), dtype=float32, numpy=\n",
              "array([1., 1., 1., 1., 1., 1., 1., 1., 1., 1., 1., 1., 1., 1., 1., 1., 1.,\n",
              "       1., 1., 1., 1., 1., 1., 1., 1., 1., 1., 1., 1., 1., 1., 1., 1., 1.,\n",
              "       1., 1., 1., 1., 1., 1., 1., 1., 1., 1., 1., 1., 1., 1., 1., 1., 1.,\n",
              "       1., 1., 1., 1., 1., 1., 1., 1., 1., 1., 1., 1., 1., 1., 1., 1., 1.,\n",
              "       1., 1., 1., 1., 1., 1., 1., 1., 1., 1., 1., 1., 1., 1., 1., 1., 1.,\n",
              "       1., 1., 1., 1., 1., 1., 1., 1., 1., 1., 1., 1., 1., 1., 1., 1., 1.,\n",
              "       1., 1., 1., 1., 1., 1., 1., 1., 1., 1., 1., 1., 1., 1., 1., 1., 1.,\n",
              "       1., 1., 1., 1., 1., 1., 1., 1., 1., 1., 1., 1., 1., 1., 1., 1., 1.,\n",
              "       1., 1., 1., 1., 1., 1., 1., 1., 1., 1., 1., 1., 1., 1., 1., 1., 1.,\n",
              "       1., 1., 1., 1., 1., 1., 1., 1., 1., 1., 1., 1., 1., 1., 1., 1., 1.,\n",
              "       1., 1., 1., 1., 1., 1., 1., 1., 1., 1., 1., 1., 1., 1., 1., 1., 1.,\n",
              "       1., 1., 1., 1., 1., 1., 1., 1., 1., 1., 1., 1., 1., 1., 1., 1., 1.,\n",
              "       1., 1., 1., 1., 1., 1., 1., 1., 1., 1., 1., 1., 1., 1., 1., 1., 1.,\n",
              "       1., 1., 1., 1., 1., 1., 1., 1., 1., 1., 1., 1., 1., 1., 1., 1., 1.,\n",
              "       1., 1., 1., 1., 1., 1., 1., 1., 1., 1., 1., 1., 1., 1., 1., 1., 1.,\n",
              "       1., 1., 1., 1., 1., 1., 1., 1., 1., 1., 1., 1., 1., 1., 1., 1., 1.,\n",
              "       1., 1., 1., 1., 1., 1., 1., 1., 1., 1., 1., 1., 1., 1., 1., 1., 1.,\n",
              "       1., 1., 1., 1., 1., 1., 1., 1., 1., 1., 1., 1., 1., 1., 1., 1., 1.,\n",
              "       1., 1., 1., 1., 1., 1., 1., 1., 1., 1., 1., 1., 1., 1., 1., 1., 1.,\n",
              "       1., 1., 1., 1., 1., 1., 1., 1., 1., 1., 1., 1., 1., 1., 1., 1., 1.,\n",
              "       1., 1., 1., 1., 1., 1., 1., 1., 1., 1., 1., 1., 1., 1., 1., 1., 1.,\n",
              "       1., 1., 1., 1., 1., 1., 1., 1., 1., 1., 1., 1., 1., 1., 1., 1., 1.,\n",
              "       1., 1., 1., 1., 1., 1., 1., 1., 1., 1., 1., 1., 1., 1., 1., 1., 1.,\n",
              "       1., 1., 1., 1., 1., 1., 1., 1., 1., 1., 1., 1., 1., 1., 1., 1., 1.,\n",
              "       1., 1., 1., 1., 1., 1., 1., 1., 1., 1., 1., 1., 1., 1., 1., 1., 1.,\n",
              "       1., 1., 1., 1., 1., 1., 1., 1., 1., 1., 1., 1., 1., 1., 1., 1., 1.,\n",
              "       1., 1., 1., 1., 1., 1., 1., 1., 1., 1., 1., 1., 1., 1., 1., 1., 1.,\n",
              "       1., 1., 1., 1., 1., 1., 1., 1., 1., 1., 1., 1., 1., 1., 1., 1., 1.,\n",
              "       1., 1., 1., 1., 1., 1., 1., 1., 1., 1., 1., 1., 1., 1., 1., 1., 1.,\n",
              "       1., 1., 1., 1., 1., 1., 1.], dtype=float32)>"
            ]
          },
          "metadata": {
            "tags": []
          },
          "execution_count": 49
        }
      ]
    },
    {
      "cell_type": "markdown",
      "metadata": {
        "id": "1tMJh0RizioN",
        "colab_type": "text"
      },
      "source": [
        "Since we are doing classification, we can compute accuracy! Let's do that:"
      ]
    },
    {
      "cell_type": "code",
      "metadata": {
        "id": "LQZeJzkr3-wb",
        "colab_type": "code",
        "colab": {}
      },
      "source": [
        "def accuracy(y_true, y_pred):\n",
        "  equal_preds = tf.math.argmax(y_pred, axis=1) == tf.math.argmax(y_true, axis=1)\n",
        "  return tf.reduce_mean(tf.cast(equal_preds, tf.float32))"
      ],
      "execution_count": 0,
      "outputs": []
    },
    {
      "cell_type": "code",
      "metadata": {
        "id": "rB7DJ28dzt3X",
        "colab_type": "code",
        "colab": {
          "base_uri": "https://localhost:8080/",
          "height": 34
        },
        "outputId": "b83ba2aa-5b33-45c3-874a-a9e04a93941f"
      },
      "source": [
        "accuracy(y, y_pred)"
      ],
      "execution_count": 51,
      "outputs": [
        {
          "output_type": "execute_result",
          "data": {
            "text/plain": [
              "<tf.Tensor: id=16499, shape=(), dtype=float32, numpy=0.1>"
            ]
          },
          "metadata": {
            "tags": []
          },
          "execution_count": 51
        }
      ]
    },
    {
      "cell_type": "markdown",
      "metadata": {
        "id": "riAGx1YizxH-",
        "colab_type": "text"
      },
      "source": [
        "As we'd expect, our untrained model has a 10% accuracy, which is as accurate as one would be when randomly guessing.\n",
        "\n",
        "At this point, you might think we're going to maximize accuracy via gradient descent. Unfortunately, accuracy is not a great measure to do this with. It simple doesn't have enough fine grain information about the discrepancy between our model's predictions and the true y values. Instead, we are going to go back to thinking about our outputs as a probability distribution. We use a loss called **categorical crossentropy**. This essentially measures how far our output vector is from the target vector (our one hot encoded labels). Suppose our prediction/true values are of the form $\\vec y = [y_1, y_2, ..., y_k]$ (i.e. we have k classes).\n",
        "\n",
        "$L(\\vec y_{true}, \\vec y_{pred}) = - \\sum^k_{i=1} y_{i, true}\\log(y_{i, prediction})$\n",
        "\n",
        "Notice that $y_{i, true} = 0$ for all values except for $i = $true class. Also, $\\log(y_{i, prediction}) = 0$ when $y_{i, prediction} = 1$. When it's smaller, the value is negative, so our loss is positive. Essentially, this loss 0 when our model output exactly matches the training data, which is what we want."
      ]
    },
    {
      "cell_type": "code",
      "metadata": {
        "id": "-AbjZ39U2Hvs",
        "colab_type": "code",
        "colab": {}
      },
      "source": [
        "def categorical_crossentropy(y_true, y_pred):\n",
        "  return -tf.reduce_sum(y_true*tf.math.log(y_pred), axis=1)"
      ],
      "execution_count": 0,
      "outputs": []
    },
    {
      "cell_type": "markdown",
      "metadata": {
        "id": "5NZIHf2aAJLH",
        "colab_type": "text"
      },
      "source": [
        "TensorFlow gives us this function too: `tf.keras.losses.categorical_crossentropy`. We can use ours and tensorflow's interchangeably."
      ]
    },
    {
      "cell_type": "code",
      "metadata": {
        "id": "73cKyKXO96eI",
        "colab_type": "code",
        "colab": {
          "base_uri": "https://localhost:8080/",
          "height": 1000
        },
        "outputId": "019f4743-8b22-413d-f9c0-7830106a83d8"
      },
      "source": [
        "categorical_crossentropy(y, y_pred) # this outputs the cross entropy per example"
      ],
      "execution_count": 53,
      "outputs": [
        {
          "output_type": "execute_result",
          "data": {
            "text/plain": [
              "<tf.Tensor: id=16504, shape=(500,), dtype=float32, numpy=\n",
              "array([2.3025851, 2.3025851, 2.3025851, 2.3025851, 2.3025851, 2.3025851,\n",
              "       2.3025851, 2.3025851, 2.3025851, 2.3025851, 2.3025851, 2.3025851,\n",
              "       2.3025851, 2.3025851, 2.3025851, 2.3025851, 2.3025851, 2.3025851,\n",
              "       2.3025851, 2.3025851, 2.3025851, 2.3025851, 2.3025851, 2.3025851,\n",
              "       2.3025851, 2.3025851, 2.3025851, 2.3025851, 2.3025851, 2.3025851,\n",
              "       2.3025851, 2.3025851, 2.3025851, 2.3025851, 2.3025851, 2.3025851,\n",
              "       2.3025851, 2.3025851, 2.3025851, 2.3025851, 2.3025851, 2.3025851,\n",
              "       2.3025851, 2.3025851, 2.3025851, 2.3025851, 2.3025851, 2.3025851,\n",
              "       2.3025851, 2.3025851, 2.3025851, 2.3025851, 2.3025851, 2.3025851,\n",
              "       2.3025851, 2.3025851, 2.3025851, 2.3025851, 2.3025851, 2.3025851,\n",
              "       2.3025851, 2.3025851, 2.3025851, 2.3025851, 2.3025851, 2.3025851,\n",
              "       2.3025851, 2.3025851, 2.3025851, 2.3025851, 2.3025851, 2.3025851,\n",
              "       2.3025851, 2.3025851, 2.3025851, 2.3025851, 2.3025851, 2.3025851,\n",
              "       2.3025851, 2.3025851, 2.3025851, 2.3025851, 2.3025851, 2.3025851,\n",
              "       2.3025851, 2.3025851, 2.3025851, 2.3025851, 2.3025851, 2.3025851,\n",
              "       2.3025851, 2.3025851, 2.3025851, 2.3025851, 2.3025851, 2.3025851,\n",
              "       2.3025851, 2.3025851, 2.3025851, 2.3025851, 2.3025851, 2.3025851,\n",
              "       2.3025851, 2.3025851, 2.3025851, 2.3025851, 2.3025851, 2.3025851,\n",
              "       2.3025851, 2.3025851, 2.3025851, 2.3025851, 2.3025851, 2.3025851,\n",
              "       2.3025851, 2.3025851, 2.3025851, 2.3025851, 2.3025851, 2.3025851,\n",
              "       2.3025851, 2.3025851, 2.3025851, 2.3025851, 2.3025851, 2.3025851,\n",
              "       2.3025851, 2.3025851, 2.3025851, 2.3025851, 2.3025851, 2.3025851,\n",
              "       2.3025851, 2.3025851, 2.3025851, 2.3025851, 2.3025851, 2.3025851,\n",
              "       2.3025851, 2.3025851, 2.3025851, 2.3025851, 2.3025851, 2.3025851,\n",
              "       2.3025851, 2.3025851, 2.3025851, 2.3025851, 2.3025851, 2.3025851,\n",
              "       2.3025851, 2.3025851, 2.3025851, 2.3025851, 2.3025851, 2.3025851,\n",
              "       2.3025851, 2.3025851, 2.3025851, 2.3025851, 2.3025851, 2.3025851,\n",
              "       2.3025851, 2.3025851, 2.3025851, 2.3025851, 2.3025851, 2.3025851,\n",
              "       2.3025851, 2.3025851, 2.3025851, 2.3025851, 2.3025851, 2.3025851,\n",
              "       2.3025851, 2.3025851, 2.3025851, 2.3025851, 2.3025851, 2.3025851,\n",
              "       2.3025851, 2.3025851, 2.3025851, 2.3025851, 2.3025851, 2.3025851,\n",
              "       2.3025851, 2.3025851, 2.3025851, 2.3025851, 2.3025851, 2.3025851,\n",
              "       2.3025851, 2.3025851, 2.3025851, 2.3025851, 2.3025851, 2.3025851,\n",
              "       2.3025851, 2.3025851, 2.3025851, 2.3025851, 2.3025851, 2.3025851,\n",
              "       2.3025851, 2.3025851, 2.3025851, 2.3025851, 2.3025851, 2.3025851,\n",
              "       2.3025851, 2.3025851, 2.3025851, 2.3025851, 2.3025851, 2.3025851,\n",
              "       2.3025851, 2.3025851, 2.3025851, 2.3025851, 2.3025851, 2.3025851,\n",
              "       2.3025851, 2.3025851, 2.3025851, 2.3025851, 2.3025851, 2.3025851,\n",
              "       2.3025851, 2.3025851, 2.3025851, 2.3025851, 2.3025851, 2.3025851,\n",
              "       2.3025851, 2.3025851, 2.3025851, 2.3025851, 2.3025851, 2.3025851,\n",
              "       2.3025851, 2.3025851, 2.3025851, 2.3025851, 2.3025851, 2.3025851,\n",
              "       2.3025851, 2.3025851, 2.3025851, 2.3025851, 2.3025851, 2.3025851,\n",
              "       2.3025851, 2.3025851, 2.3025851, 2.3025851, 2.3025851, 2.3025851,\n",
              "       2.3025851, 2.3025851, 2.3025851, 2.3025851, 2.3025851, 2.3025851,\n",
              "       2.3025851, 2.3025851, 2.3025851, 2.3025851, 2.3025851, 2.3025851,\n",
              "       2.3025851, 2.3025851, 2.3025851, 2.3025851, 2.3025851, 2.3025851,\n",
              "       2.3025851, 2.3025851, 2.3025851, 2.3025851, 2.3025851, 2.3025851,\n",
              "       2.3025851, 2.3025851, 2.3025851, 2.3025851, 2.3025851, 2.3025851,\n",
              "       2.3025851, 2.3025851, 2.3025851, 2.3025851, 2.3025851, 2.3025851,\n",
              "       2.3025851, 2.3025851, 2.3025851, 2.3025851, 2.3025851, 2.3025851,\n",
              "       2.3025851, 2.3025851, 2.3025851, 2.3025851, 2.3025851, 2.3025851,\n",
              "       2.3025851, 2.3025851, 2.3025851, 2.3025851, 2.3025851, 2.3025851,\n",
              "       2.3025851, 2.3025851, 2.3025851, 2.3025851, 2.3025851, 2.3025851,\n",
              "       2.3025851, 2.3025851, 2.3025851, 2.3025851, 2.3025851, 2.3025851,\n",
              "       2.3025851, 2.3025851, 2.3025851, 2.3025851, 2.3025851, 2.3025851,\n",
              "       2.3025851, 2.3025851, 2.3025851, 2.3025851, 2.3025851, 2.3025851,\n",
              "       2.3025851, 2.3025851, 2.3025851, 2.3025851, 2.3025851, 2.3025851,\n",
              "       2.3025851, 2.3025851, 2.3025851, 2.3025851, 2.3025851, 2.3025851,\n",
              "       2.3025851, 2.3025851, 2.3025851, 2.3025851, 2.3025851, 2.3025851,\n",
              "       2.3025851, 2.3025851, 2.3025851, 2.3025851, 2.3025851, 2.3025851,\n",
              "       2.3025851, 2.3025851, 2.3025851, 2.3025851, 2.3025851, 2.3025851,\n",
              "       2.3025851, 2.3025851, 2.3025851, 2.3025851, 2.3025851, 2.3025851,\n",
              "       2.3025851, 2.3025851, 2.3025851, 2.3025851, 2.3025851, 2.3025851,\n",
              "       2.3025851, 2.3025851, 2.3025851, 2.3025851, 2.3025851, 2.3025851,\n",
              "       2.3025851, 2.3025851, 2.3025851, 2.3025851, 2.3025851, 2.3025851,\n",
              "       2.3025851, 2.3025851, 2.3025851, 2.3025851, 2.3025851, 2.3025851,\n",
              "       2.3025851, 2.3025851, 2.3025851, 2.3025851, 2.3025851, 2.3025851,\n",
              "       2.3025851, 2.3025851, 2.3025851, 2.3025851, 2.3025851, 2.3025851,\n",
              "       2.3025851, 2.3025851, 2.3025851, 2.3025851, 2.3025851, 2.3025851,\n",
              "       2.3025851, 2.3025851, 2.3025851, 2.3025851, 2.3025851, 2.3025851,\n",
              "       2.3025851, 2.3025851, 2.3025851, 2.3025851, 2.3025851, 2.3025851,\n",
              "       2.3025851, 2.3025851, 2.3025851, 2.3025851, 2.3025851, 2.3025851,\n",
              "       2.3025851, 2.3025851, 2.3025851, 2.3025851, 2.3025851, 2.3025851,\n",
              "       2.3025851, 2.3025851, 2.3025851, 2.3025851, 2.3025851, 2.3025851,\n",
              "       2.3025851, 2.3025851, 2.3025851, 2.3025851, 2.3025851, 2.3025851,\n",
              "       2.3025851, 2.3025851, 2.3025851, 2.3025851, 2.3025851, 2.3025851,\n",
              "       2.3025851, 2.3025851, 2.3025851, 2.3025851, 2.3025851, 2.3025851,\n",
              "       2.3025851, 2.3025851, 2.3025851, 2.3025851, 2.3025851, 2.3025851,\n",
              "       2.3025851, 2.3025851, 2.3025851, 2.3025851, 2.3025851, 2.3025851,\n",
              "       2.3025851, 2.3025851, 2.3025851, 2.3025851, 2.3025851, 2.3025851,\n",
              "       2.3025851, 2.3025851, 2.3025851, 2.3025851, 2.3025851, 2.3025851,\n",
              "       2.3025851, 2.3025851, 2.3025851, 2.3025851, 2.3025851, 2.3025851,\n",
              "       2.3025851, 2.3025851, 2.3025851, 2.3025851, 2.3025851, 2.3025851,\n",
              "       2.3025851, 2.3025851], dtype=float32)>"
            ]
          },
          "metadata": {
            "tags": []
          },
          "execution_count": 53
        }
      ]
    },
    {
      "cell_type": "markdown",
      "metadata": {
        "id": "4nVpQcm13Puu",
        "colab_type": "text"
      },
      "source": [
        "Now you have all the tools to write the training loop for logistic regression. Try it before look at the solution below!"
      ]
    },
    {
      "cell_type": "code",
      "metadata": {
        "id": "ZxseGyBB3U7M",
        "colab_type": "code",
        "colab": {
          "base_uri": "https://localhost:8080/",
          "height": 193
        },
        "outputId": "f2173baa-d338-4e33-c904-4ce130989973"
      },
      "source": [
        "optimizer = tf.keras.optimizers.SGD(learning_rate=0.1)\n",
        "\n",
        "linear_model = Linear(28*28, 10)\n",
        "\n",
        "for i in range(1000):\n",
        "  with tf.GradientTape() as tape:\n",
        "    y_pred = tf.nn.softmax(linear_model(x))\n",
        "    loss_per_example = categorical_crossentropy(y_true=y, y_pred=y_pred)\n",
        "    loss = tf.reduce_mean(loss_per_example)\n",
        "\n",
        "  gradient = tape.gradient(loss, linear_model.trainable_variables)\n",
        "  optimizer.apply_gradients(zip(gradient, linear_model.trainable_variables))\n",
        "  if i % 100 == 0:\n",
        "    print(f'Loss: {loss.numpy()}  Accuracy: {accuracy(y_pred, y)}')"
      ],
      "execution_count": 54,
      "outputs": [
        {
          "output_type": "stream",
          "text": [
            "Loss: 2.3025851249694824  Accuracy: 0.10000000149011612\n",
            "Loss: 0.4364985227584839  Accuracy: 0.9039999842643738\n",
            "Loss: 0.29362964630126953  Accuracy: 0.9440000057220459\n",
            "Loss: 0.22477126121520996  Accuracy: 0.9660000205039978\n",
            "Loss: 0.18162311613559723  Accuracy: 0.9819999933242798\n",
            "Loss: 0.1515568494796753  Accuracy: 0.9860000014305115\n",
            "Loss: 0.12939059734344482  Accuracy: 0.9919999837875366\n",
            "Loss: 0.11246717721223831  Accuracy: 0.9980000257492065\n",
            "Loss: 0.099213607609272  Accuracy: 1.0\n",
            "Loss: 0.08861198276281357  Accuracy: 1.0\n"
          ],
          "name": "stdout"
        }
      ]
    },
    {
      "cell_type": "markdown",
      "metadata": {
        "id": "PQ6rtSV220VQ",
        "colab_type": "text"
      },
      "source": [
        "Wow, our model's doing really well! Let's take a look at a prediction:"
      ]
    },
    {
      "cell_type": "code",
      "metadata": {
        "id": "pNYA1D2A22wa",
        "colab_type": "code",
        "colab": {
          "base_uri": "https://localhost:8080/",
          "height": 70
        },
        "outputId": "9bb09f66-c3fa-4a11-d15a-e9609388050d"
      },
      "source": [
        "y_pred[0].numpy()"
      ],
      "execution_count": 55,
      "outputs": [
        {
          "output_type": "execute_result",
          "data": {
            "text/plain": [
              "array([7.2486359e-03, 8.7252660e-03, 1.6632091e-02, 6.6710129e-02,\n",
              "       2.4541716e-05, 8.8565266e-01, 1.4892247e-03, 4.6367473e-03,\n",
              "       7.0132478e-03, 1.8675643e-03], dtype=float32)"
            ]
          },
          "metadata": {
            "tags": []
          },
          "execution_count": 55
        }
      ]
    },
    {
      "cell_type": "code",
      "metadata": {
        "id": "BkIeAdpI23gq",
        "colab_type": "code",
        "colab": {
          "base_uri": "https://localhost:8080/",
          "height": 34
        },
        "outputId": "5d7fad42-9419-426b-8c8b-e17e7d7c28dd"
      },
      "source": [
        "y[0].numpy()"
      ],
      "execution_count": 56,
      "outputs": [
        {
          "output_type": "execute_result",
          "data": {
            "text/plain": [
              "array([0., 0., 0., 0., 0., 1., 0., 0., 0., 0.], dtype=float32)"
            ]
          },
          "metadata": {
            "tags": []
          },
          "execution_count": 56
        }
      ]
    },
    {
      "cell_type": "markdown",
      "metadata": {
        "id": "MGiAsojj3EY5",
        "colab_type": "text"
      },
      "source": [
        "Nice, for this example, our model's outputting a probability of 75% for the most likely class, which is correct. \n",
        "\n",
        "But our results are misleading. We are evaluating our model on the same data we trained it on. This is the equivalent of teaching a student some concepts, then testing them on it, BUT giving them the test as prep material. We want to evaluate our model on new examples.\n",
        "\n",
        "In machine learning, we call this a **test set**. We do not train our model on this data, we only evaluate our model. Typically, we do a random split of our dataset to get a train/test split. MNIST already has this:"
      ]
    },
    {
      "cell_type": "code",
      "metadata": {
        "id": "1jbrxXh15lbO",
        "colab_type": "code",
        "colab": {}
      },
      "source": [
        "(x_train, y_train), (x_test, y_test) = tf.keras.datasets.mnist.load_data()"
      ],
      "execution_count": 0,
      "outputs": []
    },
    {
      "cell_type": "code",
      "metadata": {
        "id": "H298j1bK5s08",
        "colab_type": "code",
        "colab": {}
      },
      "source": [
        "x_test, y_test = preprocess(x_test, y_test)"
      ],
      "execution_count": 0,
      "outputs": []
    },
    {
      "cell_type": "code",
      "metadata": {
        "id": "Qg6i3kNm5zz8",
        "colab_type": "code",
        "colab": {
          "base_uri": "https://localhost:8080/",
          "height": 34
        },
        "outputId": "712faaee-d019-44bb-a3eb-f41e2e03028f"
      },
      "source": [
        "y_pred = tf.nn.softmax(linear_model(x_test))\n",
        "loss = tf.reduce_mean(categorical_crossentropy(y_true=y_test, y_pred=y_pred))\n",
        "print(f'Loss: {loss.numpy()}  Accuracy: {accuracy(y_pred, y_test)}')"
      ],
      "execution_count": 59,
      "outputs": [
        {
          "output_type": "stream",
          "text": [
            "Loss: 0.5398113131523132  Accuracy: 0.8337000012397766\n"
          ],
          "name": "stdout"
        }
      ]
    },
    {
      "cell_type": "markdown",
      "metadata": {
        "id": "6ytZYnud4P_q",
        "colab_type": "text"
      },
      "source": [
        "Not great. Our model has **overfit** to our training set, i.e., it has memorized the input data. So, it doesn't generalize well to data it has not seen before. There are many ways to combat this (which are out of the scope of this workshop), but one way is to just give our model more training data. Now, we'll train with the entire train set instead of just 500 examples:"
      ]
    },
    {
      "cell_type": "code",
      "metadata": {
        "id": "GhE8YVv07ck3",
        "colab_type": "code",
        "colab": {}
      },
      "source": [
        "x_train, y_train = preprocess(x_train, y_train)"
      ],
      "execution_count": 0,
      "outputs": []
    },
    {
      "cell_type": "code",
      "metadata": {
        "id": "jzv9S38c70dh",
        "colab_type": "code",
        "colab": {
          "base_uri": "https://localhost:8080/",
          "height": 193
        },
        "outputId": "da33d779-f461-41b6-b107-708ea9fab0e6"
      },
      "source": [
        "optimizer = tf.keras.optimizers.SGD(learning_rate=0.1)\n",
        "linear_model = Linear(28*28, 10)\n",
        "\n",
        "for i in range(1000):\n",
        "  with tf.GradientTape() as tape:\n",
        "    y_pred = tf.nn.softmax(linear_model(x_train))\n",
        "    loss_per_example = categorical_crossentropy(y_true=y_train, y_pred=y_pred)\n",
        "    loss = tf.reduce_mean(loss_per_example)\n",
        "\n",
        "  gradient = tape.gradient(loss, linear_model.trainable_variables)\n",
        "  optimizer.apply_gradients(zip(gradient, linear_model.trainable_variables))\n",
        "  if i%100 == 0:\n",
        "    print(f'Loss: {loss.numpy()}  Accuracy: {accuracy(y_pred, y_train)}')"
      ],
      "execution_count": 61,
      "outputs": [
        {
          "output_type": "stream",
          "text": [
            "Loss: 2.3025853633880615  Accuracy: 0.09871666878461838\n",
            "Loss: 0.6087093949317932  Accuracy: 0.8613333106040955\n",
            "Loss: 0.48937270045280457  Accuracy: 0.877216637134552\n",
            "Loss: 0.44037213921546936  Accuracy: 0.885450005531311\n",
            "Loss: 0.41215795278549194  Accuracy: 0.8906000256538391\n",
            "Loss: 0.39325031638145447  Accuracy: 0.8945833444595337\n",
            "Loss: 0.37943124771118164  Accuracy: 0.8974999785423279\n",
            "Loss: 0.3687483072280884  Accuracy: 0.8997833132743835\n",
            "Loss: 0.3601595163345337  Accuracy: 0.9016333222389221\n",
            "Loss: 0.3530517518520355  Accuracy: 0.9029833078384399\n"
          ],
          "name": "stdout"
        }
      ]
    },
    {
      "cell_type": "code",
      "metadata": {
        "id": "Y8QO5JiI8Oyt",
        "colab_type": "code",
        "colab": {
          "base_uri": "https://localhost:8080/",
          "height": 34
        },
        "outputId": "152bb376-095b-4a9a-e327-44b634281a59"
      },
      "source": [
        "y_pred = tf.nn.softmax(linear_model(x_test))\n",
        "loss_per_example = categorical_crossentropy(y_true=y_test, y_pred=y_pred)\n",
        "loss = tf.reduce_mean(loss_per_example)\n",
        "print(f'Loss: {loss.numpy()}  Accuracy: {accuracy(y_pred, y_test)}')"
      ],
      "execution_count": 62,
      "outputs": [
        {
          "output_type": "stream",
          "text": [
            "Loss: 0.33095377683639526  Accuracy: 0.909600019454956\n"
          ],
          "name": "stdout"
        }
      ]
    },
    {
      "cell_type": "markdown",
      "metadata": {
        "colab_type": "text",
        "id": "P1-zkT216FGN"
      },
      "source": [
        "Now our model doesn't overfit as much, but we can definitely do better. Our logistic regression model has some drawbacks:\n",
        "\n",
        "1.   It still only models linear relationships between the explanatory and response variables. In particular, the **decision boundary** it models is a plane. This boundary is what determines if the model chooses one class over another.\n",
        "2.   It assumes the x variables are all independent, i.e., it doesn't model any iteractions between the explanatory variables. Especially in an image like this, it's clear there are are relationships between the variables.\n",
        "\n",
        "\n"
      ]
    },
    {
      "cell_type": "markdown",
      "metadata": {
        "id": "CNicXXUyoSHQ",
        "colab_type": "text"
      },
      "source": [
        "## Introduction to Artificial Neural Networks\n",
        "\n",
        "From Wikipedia: \n",
        "\n",
        "\"Artificial neural networks (ANN) or connectionist systems are computing systems that are inspired by, but not identical to, biological neural networks that constitute animal brains. Such systems \"learn\" to perform tasks by considering examples, generally without being programmed with task-specific rules. \"\n",
        "\n",
        "How can we make our linear or logistic regression more expressive? What if we added more weight matrices?\n",
        "\n",
        "$\\vec y = ((\\vec xW_1 + b_1)W_2 + b_2)....W_l + \\vec b_l$.\n",
        "\n",
        "Well this doesn't help, since we can define $W = W_1W_2....W_l$ (and similarly collapse $\\vec b$. and it'll just be another linear model. What if we add some nonlinear function $a$ between each linear function?\n",
        "\n",
        "$\\vec y = (a(a(\\vec xW_1 + b_1)W_2 + b_2)....)W_l + \\vec b_l$\n",
        "\n",
        "This is called a **fully connected neural network**! $a$ is called the **activation function**. There are many other types of neural networks, such as Convolutional Neural Networks (which work well for images) and Recurrent Neural Networks (which work well for sequences), but they all boil down to this fundamental structure.\n",
        "\n",
        "Common activation functions include the sigmoid function, tanh, and relu (rectified linear). This one is a common choice, so we will stick to it."
      ]
    },
    {
      "cell_type": "code",
      "metadata": {
        "id": "pI5M28ifABCT",
        "colab_type": "code",
        "colab": {}
      },
      "source": [
        "def relu(x):\n",
        "  return tf.maximum(x, 0)"
      ],
      "execution_count": 0,
      "outputs": []
    },
    {
      "cell_type": "markdown",
      "metadata": {
        "id": "uMnD4rhS_Hav",
        "colab_type": "text"
      },
      "source": [
        "![alt text](https://miro.medium.com/max/1283/1*DfMRHwxY1gyyDmrIAd-gjQ.png)\n",
        "\n",
        "Though this function is technically non-linear, even though it doesn't look like it. It's only linear when x > 0. We will not talk about this too much, and just use it.\n",
        "\n",
        "We need to make a slight modification to our Linear class, then we'll make our neural network class:"
      ]
    },
    {
      "cell_type": "code",
      "metadata": {
        "id": "xvkU4hCeEXTk",
        "colab_type": "code",
        "colab": {}
      },
      "source": [
        "class Linear(object):\n",
        "  def __init__(self, input_length, output_length):\n",
        "    self.W = tf.Variable(tf.random.normal([input_length, output_length]))\n",
        "    self.b = tf.Variable(tf.zeros(output_length))\n",
        "    self.trainable_variables = [self.W, self.b]\n",
        "  \n",
        "  def __call__(self, x): # assume x is a row vector\n",
        "    return x @ self.W + self.b # @ is the matrix multiplication operator"
      ],
      "execution_count": 0,
      "outputs": []
    },
    {
      "cell_type": "markdown",
      "metadata": {
        "id": "rD1PNK88Eeo6",
        "colab_type": "text"
      },
      "source": [
        "We made our initializer random. Unlike linear/logistic regression, the loss is not convex, i.e. there are multiple local minima. We initialize randomly, so we don't bias towards any particular minimum."
      ]
    },
    {
      "cell_type": "code",
      "metadata": {
        "id": "QeokwYJK87Ye",
        "colab_type": "code",
        "colab": {}
      },
      "source": [
        "class FullyConnectedNetwork(object):\n",
        "  def __init__(self, input_length, output_length):\n",
        "    self.l1 = Linear(input_length, 50)\n",
        "    self.l2 = Linear(50, output_length)\n",
        "\n",
        "    self.trainable_variables = self.l1.trainable_variables + self.l2.trainable_variables\n",
        "  \n",
        "  def __call__(self, x):\n",
        "    return tf.nn.softmax(self.l2(tf.nn.relu(self.l1(x))))"
      ],
      "execution_count": 0,
      "outputs": []
    },
    {
      "cell_type": "markdown",
      "metadata": {
        "id": "QHYcTJk1_eIn",
        "colab_type": "text"
      },
      "source": [
        "This model has 1 **hidden layer** of size 50. Machine learning with neural networks is called **deep learning**, which comes from the fact that a neural network typically has several hidden layers.\n",
        "\n",
        "Now, write the training loop for our neural network."
      ]
    },
    {
      "cell_type": "code",
      "metadata": {
        "id": "oXz7_0PJBVpM",
        "colab_type": "code",
        "colab": {
          "base_uri": "https://localhost:8080/",
          "height": 193
        },
        "outputId": "525a0f35-2467-4cf7-e58d-09dd567f82c0"
      },
      "source": [
        "optimizer = tf.keras.optimizers.SGD(learning_rate=0.1)\n",
        "neural_network = FullyConnectedNetwork(28*28, 10)\n",
        "\n",
        "for i in range(1000):\n",
        "  with tf.GradientTape() as tape:\n",
        "    y_pred = neural_network(x_train)\n",
        "    loss_per_example = tf.keras.losses.categorical_crossentropy(y_true=y_train, y_pred=y_pred)\n",
        "    loss = tf.reduce_mean(loss_per_example)\n",
        "\n",
        "  gradient = tape.gradient(loss, neural_network.trainable_variables)\n",
        "  optimizer.apply_gradients(zip(gradient, neural_network.trainable_variables))\n",
        "  if i % 100 == 0:\n",
        "    print(f'Loss: {loss.numpy()}  Accuracy: {accuracy(y_pred, y_train)}')"
      ],
      "execution_count": 69,
      "outputs": [
        {
          "output_type": "stream",
          "text": [
            "Loss: 13.893878936767578  Accuracy: 0.10978333652019501\n",
            "Loss: 7.0014495849609375  Accuracy: 0.5102999806404114\n",
            "Loss: 5.423182964324951  Accuracy: 0.6128833293914795\n",
            "Loss: 4.862724781036377  Accuracy: 0.6526166796684265\n",
            "Loss: 4.611066818237305  Accuracy: 0.6717333197593689\n",
            "Loss: 4.456557273864746  Accuracy: 0.683650016784668\n",
            "Loss: 4.345137596130371  Accuracy: 0.6911166906356812\n",
            "Loss: 4.257636547088623  Accuracy: 0.6973999738693237\n",
            "Loss: 4.185241222381592  Accuracy: 0.701533317565918\n",
            "Loss: 4.123439788818359  Accuracy: 0.7055833339691162\n"
          ],
          "name": "stdout"
        }
      ]
    },
    {
      "cell_type": "markdown",
      "metadata": {
        "id": "pHCrU2blQJp4",
        "colab_type": "text"
      },
      "source": [
        "We wrote our neural network from scratch, but of course TensorFlow has APIs to make this much easier for you."
      ]
    },
    {
      "cell_type": "code",
      "metadata": {
        "id": "BFEFcug1ITj4",
        "colab_type": "code",
        "colab": {}
      },
      "source": [
        "from tensorflow.keras.layers import Dense"
      ],
      "execution_count": 0,
      "outputs": []
    },
    {
      "cell_type": "markdown",
      "metadata": {
        "id": "Vzj1AXpUQPBE",
        "colab_type": "text"
      },
      "source": [
        "TensorFlow layers function similarly to the ones we created: they have `trainable_variables` you can access, and do computation through a `call` method. They have some other nice properties as well, for example, you don't need to specify an input shape -- this will be computer upon your first use of the model.\n",
        "\n",
        "You can build a model almost exactly like we did by subclassing tf.keras.Model:"
      ]
    },
    {
      "cell_type": "code",
      "metadata": {
        "id": "gAWqULruRoj1",
        "colab_type": "code",
        "colab": {}
      },
      "source": [
        "class Model(tf.keras.Model):\n",
        "  def __init__(self, input_length, output_length):\n",
        "    super(Model, self).__init__()\n",
        "    self.layer1 = Dense(50, input_shape=(input_length,), activation='relu')\n",
        "    self.layer2 = Dense(output_length, input_shape=(output_length,))\n",
        "  \n",
        "  def call(self, x):\n",
        "    output1 = self.layer1(x)\n",
        "    output2 = self.layer2(output1)\n",
        "    return tf.nn.softmax(output2)"
      ],
      "execution_count": 0,
      "outputs": []
    },
    {
      "cell_type": "markdown",
      "metadata": {
        "id": "_lmImOhwQh4F",
        "colab_type": "text"
      },
      "source": [
        "If you're building a simple model like ours that just stacks computation, you can use the sequential API (notice we don't specify an input shape):"
      ]
    },
    {
      "cell_type": "code",
      "metadata": {
        "id": "2MuVYerCQjK4",
        "colab_type": "code",
        "colab": {}
      },
      "source": [
        "model = tf.keras.Sequential([\n",
        "  tf.keras.layers.Dense(50),\n",
        "  tf.keras.layers.ReLU(),\n",
        "  tf.keras.layers.Dense(10, activation='softmax')\n",
        "])"
      ],
      "execution_count": 0,
      "outputs": []
    },
    {
      "cell_type": "code",
      "metadata": {
        "id": "-Tf7x6-kSPwg",
        "colab_type": "code",
        "colab": {
          "base_uri": "https://localhost:8080/",
          "height": 193
        },
        "outputId": "8aa82d54-8ee4-412d-af70-994dfe7c5f8c"
      },
      "source": [
        "optimizer = tf.keras.optimizers.SGD(learning_rate=0.05)\n",
        "\n",
        "for i in range(1000):\n",
        "  with tf.GradientTape() as tape:\n",
        "    y_pred = model(x_train)\n",
        "    loss_per_example = tf.keras.losses.categorical_crossentropy(y_true=y_train, y_pred=y_pred)\n",
        "    loss = tf.reduce_mean(loss_per_example)\n",
        "\n",
        "  gradient = tape.gradient(loss, model.trainable_variables)\n",
        "  if i % 100 == 0:\n",
        "    print(f'Loss: {loss.numpy()}  Accuracy: {accuracy(y_pred, y_train)}')\n",
        "  optimizer.apply_gradients(zip(gradient, model.trainable_variables))"
      ],
      "execution_count": 74,
      "outputs": [
        {
          "output_type": "stream",
          "text": [
            "Loss: 0.2992660701274872  Accuracy: 0.9152833223342896\n",
            "Loss: 0.2906898856163025  Accuracy: 0.9175333380699158\n",
            "Loss: 0.2830638587474823  Accuracy: 0.919866681098938\n",
            "Loss: 0.27615323662757874  Accuracy: 0.9215666651725769\n",
            "Loss: 0.26982128620147705  Accuracy: 0.9236000180244446\n",
            "Loss: 0.2639724612236023  Accuracy: 0.9250166416168213\n",
            "Loss: 0.2585376501083374  Accuracy: 0.926716685295105\n",
            "Loss: 0.25347232818603516  Accuracy: 0.9281833171844482\n",
            "Loss: 0.24871543049812317  Accuracy: 0.9294000267982483\n",
            "Loss: 0.24421274662017822  Accuracy: 0.9306333065032959\n"
          ],
          "name": "stdout"
        }
      ]
    },
    {
      "cell_type": "markdown",
      "metadata": {
        "id": "uHVwY9O1Qw8I",
        "colab_type": "text"
      },
      "source": [
        "I encourage you to read the documentation to learn more about the layers, as there are some tricks that will make these perform slightly better than ours (e.g. initialization)."
      ]
    },
    {
      "cell_type": "markdown",
      "metadata": {
        "id": "3oszaY51MK7N",
        "colab_type": "text"
      },
      "source": [
        "### Using tf.data\n",
        "\n",
        "Our model's training well now, but each step is pretty slow. Our update step takes time proportional to the size of our dataset, since our loss/gradients are calculated with respect to the entire training set. Also, when working with larger datasets, this may not even be possible.\n",
        "\n",
        "Instead, we can compute our loss and gradients with respect to a subset of our data called a **minibatch**. This is great, since our update no longer takes time proportional to our dataset size. The drawback is our update is now **stochastic**, since we are updating our parameters on a random subset of our data. Typically, we split our dataset into minibatches of size 32 - 256.\n",
        "\n",
        "Let's do this with TensorFlow dataset API, tf.data. It will be much more performant than raw tensors for minibatch gradient descent."
      ]
    },
    {
      "cell_type": "code",
      "metadata": {
        "id": "y-ipP4IXML9y",
        "colab_type": "code",
        "colab": {}
      },
      "source": [
        "train, test = tf.keras.datasets.mnist.load_data()"
      ],
      "execution_count": 0,
      "outputs": []
    },
    {
      "cell_type": "markdown",
      "metadata": {
        "id": "JjF19zYcRLR1",
        "colab_type": "text"
      },
      "source": [
        "Given numpy arrays as input, we can simply turn them into datasets with `from_tensor_slices`. There's the `tensorflow_datasets` library that has many datasets built in"
      ]
    },
    {
      "cell_type": "code",
      "metadata": {
        "id": "adQMHxBaNfM2",
        "colab_type": "code",
        "colab": {}
      },
      "source": [
        "train_dataset = tf.data.Dataset.from_tensor_slices(train)\n",
        "test_dataset = tf.data.Dataset.from_tensor_slices(test)"
      ],
      "execution_count": 0,
      "outputs": []
    },
    {
      "cell_type": "markdown",
      "metadata": {
        "id": "vNQoPQ-uRUa4",
        "colab_type": "text"
      },
      "source": [
        "We need to do some similar preprocessing of the data. Notice we aren't one_hot encoding y. TensorFlow has a loss function called `sparse_categorical_crossentropy`, which is the same as `categorical_crossentropy` except it allows the `y_true` to be an index instead of a one hot tensor (which is faster and more memory efficient). We need to change our accuracy function to reflect that."
      ]
    },
    {
      "cell_type": "code",
      "metadata": {
        "id": "i9575fBMNyG-",
        "colab_type": "code",
        "colab": {}
      },
      "source": [
        "def preprocess_tfdata(x, y):\n",
        "  x = tf.reshape(x, (1, 28*28))\n",
        "  x = tf.cast(tf.squeeze(x), tf.float32) / 255.0\n",
        "  return x, y\n",
        "\n",
        "def sparse_accuracy(y_true, y_pred):\n",
        "  equal_preds = tf.math.argmax(y_pred, axis=1) == tf.cast(y_true, tf.int64)\n",
        "  return tf.reduce_mean(tf.cast(equal_preds, tf.float32))"
      ],
      "execution_count": 0,
      "outputs": []
    },
    {
      "cell_type": "markdown",
      "metadata": {
        "id": "dll9cDe2Rin5",
        "colab_type": "text"
      },
      "source": [
        "We apply this preprocessing to our dataset using `map`. Then, we shuffle our data. Since we are batching our data, we don't want to use the same minibatches for every pass of the dataset, because that would introduce bias. Then, we batch our data into batches of size 256. Finally, we prefetch, which means the next batch will be loaded and ready to go before the previous one finishes. There are tons of optimizations you can do to get more performance, which you can read about [here](https://www.tensorflow.org/guide/data_performance)."
      ]
    },
    {
      "cell_type": "code",
      "metadata": {
        "id": "qtQPzZnhNkFJ",
        "colab_type": "code",
        "colab": {}
      },
      "source": [
        "train_dataset = train_dataset.map(preprocess_tfdata).shuffle(buffer_size=5000)\n",
        "train_dataset = train_dataset.batch(256).prefetch(buffer_size=tf.data.experimental.AUTOTUNE)\n",
        "\n",
        "test_dataset = test_dataset.map(preprocess_tfdata).batch(256)"
      ],
      "execution_count": 0,
      "outputs": []
    },
    {
      "cell_type": "code",
      "metadata": {
        "id": "7pwvXsuTREtv",
        "colab_type": "code",
        "colab": {}
      },
      "source": [
        "model = tf.keras.Sequential([\n",
        "  tf.keras.layers.Dense(50),\n",
        "  tf.keras.layers.ReLU(),\n",
        "  tf.keras.layers.Dense(10, activation='softmax')\n",
        "])"
      ],
      "execution_count": 0,
      "outputs": []
    },
    {
      "cell_type": "markdown",
      "metadata": {
        "id": "S5h-3vCMSGdW",
        "colab_type": "text"
      },
      "source": [
        "Now we can train. This time, our loop looks a bit different. We call every pass of our dataset an **epoch**. Then, each minibatch process is called a **training step**."
      ]
    },
    {
      "cell_type": "code",
      "metadata": {
        "id": "e4aBkD-zNTRO",
        "colab_type": "code",
        "colab": {
          "base_uri": "https://localhost:8080/",
          "height": 122
        },
        "outputId": "0e999c13-4ad0-4ada-9dd2-8aa0f3ae605d"
      },
      "source": [
        "optimizer = tf.keras.optimizers.SGD(learning_rate=0.05)\n",
        "loss_fn = tf.keras.losses.SparseCategoricalCrossentropy(from_logits=False)\n",
        "\n",
        "for epoch in range(2):\n",
        "  for step, (x, y) in enumerate(train_dataset):\n",
        "    with tf.GradientTape() as tape:\n",
        "      y_pred = model(x)\n",
        "      loss_per_example = loss_fn(y_true=y, y_pred=y_pred)\n",
        "      loss = tf.reduce_mean(loss_per_example)\n",
        "\n",
        "    gradient = tape.gradient(loss, model.trainable_variables)\n",
        "    optimizer.apply_gradients(zip(gradient, model.trainable_variables))\n",
        "    if step % 100 == 0:\n",
        "      print(f'Epoch {epoch} Step {step} Loss: {loss.numpy()} Accuracy: {sparse_accuracy(y, y_pred)}')"
      ],
      "execution_count": 80,
      "outputs": [
        {
          "output_type": "stream",
          "text": [
            "Epoch 0 Step 0 Loss: 2.420623302459717 Accuracy: 0.0703125\n",
            "Epoch 0 Step 100 Loss: 0.6510080099105835 Accuracy: 0.8515625\n",
            "Epoch 0 Step 200 Loss: 0.5177682638168335 Accuracy: 0.86328125\n",
            "Epoch 1 Step 0 Loss: 0.415408730506897 Accuracy: 0.87890625\n",
            "Epoch 1 Step 100 Loss: 0.4126032888889313 Accuracy: 0.8984375\n",
            "Epoch 1 Step 200 Loss: 0.365292489528656 Accuracy: 0.89453125\n"
          ],
          "name": "stdout"
        }
      ]
    },
    {
      "cell_type": "markdown",
      "metadata": {
        "id": "zg0cLYJrTL5J",
        "colab_type": "text"
      },
      "source": [
        "### Metrics\n",
        "\n",
        "Now our model's training really quickly. But, we're reporting statistics on individual minibatches. Ideally, we can report statistics on the entire training set at the end of each epoch. Or, report statistics on the data we've seen since the previous report. Let's implement this."
      ]
    },
    {
      "cell_type": "code",
      "metadata": {
        "id": "i5uL9rO1TU1i",
        "colab_type": "code",
        "colab": {}
      },
      "source": [
        "class Mean(object):\n",
        "  def __init__(self):\n",
        "    self.vals = []\n",
        "\n",
        "  def add_value(self, x):\n",
        "    self.vals.append(x)\n",
        "  \n",
        "  def result(self):\n",
        "    return sum(self.vals)/len(self.vals)\n",
        "  \n",
        "  def reset_states(self):\n",
        "    self.vals = []"
      ],
      "execution_count": 0,
      "outputs": []
    },
    {
      "cell_type": "code",
      "metadata": {
        "id": "RsJyDuCkUY_7",
        "colab_type": "code",
        "colab": {}
      },
      "source": [
        "model = tf.keras.Sequential([\n",
        "  tf.keras.layers.Dense(50),\n",
        "  tf.keras.layers.ReLU(),\n",
        "  tf.keras.layers.Dense(10, activation='softmax')\n",
        "])"
      ],
      "execution_count": 0,
      "outputs": []
    },
    {
      "cell_type": "code",
      "metadata": {
        "id": "vSwlA1r0T2jX",
        "colab_type": "code",
        "colab": {
          "base_uri": "https://localhost:8080/",
          "height": 122
        },
        "outputId": "2b57447f-aeab-4949-c7a4-f303a2b14a07"
      },
      "source": [
        "optimizer = tf.keras.optimizers.SGD(learning_rate=0.05)\n",
        "loss_fn = tf.keras.losses.SparseCategoricalCrossentropy(from_logits=False)\n",
        "loss_mean = Mean()\n",
        "accuracy_mean = Mean()\n",
        "\n",
        "for epoch in range(2):\n",
        "  for step, (x, y) in enumerate(train_dataset):\n",
        "    with tf.GradientTape() as tape:\n",
        "      y_pred = model(x)\n",
        "      loss_per_example = loss_fn(y_true=y, y_pred=y_pred)\n",
        "      loss = tf.reduce_mean(loss_per_example)\n",
        "\n",
        "    gradient = tape.gradient(loss, model.trainable_variables)\n",
        "    optimizer.apply_gradients(zip(gradient, model.trainable_variables))\n",
        "    loss_mean.add_value(loss.numpy())\n",
        "    accuracy_mean.add_value(sparse_accuracy(y, y_pred))\n",
        "  \n",
        "    if step % 100 == 0:\n",
        "      print(f'Epoch {epoch} Step {step} Loss: {loss_mean.result()} Accuracy: {accuracy_mean.result()}')\n",
        "      loss_mean.reset_states()\n",
        "      accuracy_mean.reset_states()"
      ],
      "execution_count": 85,
      "outputs": [
        {
          "output_type": "stream",
          "text": [
            "Epoch 0 Step 0 Loss: 2.346635580062866 Accuracy: 0.15234375\n",
            "Epoch 0 Step 100 Loss: 1.2027271282672882 Accuracy: 0.6998828053474426\n",
            "Epoch 0 Step 200 Loss: 0.5806717258691788 Accuracy: 0.8575390577316284\n",
            "Epoch 1 Step 0 Loss: 0.43301645602498734 Accuracy: 0.8878348469734192\n",
            "Epoch 1 Step 100 Loss: 0.42787124931812287 Accuracy: 0.8848046660423279\n",
            "Epoch 1 Step 200 Loss: 0.4001629453897476 Accuracy: 0.8896093964576721\n"
          ],
          "name": "stdout"
        }
      ]
    },
    {
      "cell_type": "markdown",
      "metadata": {
        "id": "7r7ZelV8VYjp",
        "colab_type": "text"
      },
      "source": [
        "Of course, TensorFlow already has a way to do this:"
      ]
    },
    {
      "cell_type": "code",
      "metadata": {
        "id": "TFhKlgteVN-7",
        "colab_type": "code",
        "colab": {
          "base_uri": "https://localhost:8080/",
          "height": 122
        },
        "outputId": "6b8c2f18-ef34-4e32-fbe3-a0b784868729"
      },
      "source": [
        "optimizer = tf.keras.optimizers.SGD(learning_rate=0.05)\n",
        "loss_fn = tf.keras.losses.SparseCategoricalCrossentropy(from_logits=False)\n",
        "loss_metric = tf.keras.metrics.Mean()\n",
        "accuracy_metric = tf.keras.metrics.SparseCategoricalAccuracy()\n",
        "\n",
        "\n",
        "for epoch in range(2):\n",
        "  for step, (x, y) in enumerate(train_dataset):\n",
        "    with tf.GradientTape() as tape:\n",
        "      y_pred = model(x)\n",
        "      loss_per_example = loss_fn(y_true=y, y_pred=y_pred)\n",
        "      loss = tf.reduce_mean(loss_per_example)\n",
        "\n",
        "    gradient = tape.gradient(loss, model.trainable_variables)\n",
        "    optimizer.apply_gradients(zip(gradient, model.trainable_variables))\n",
        "    loss_metric(loss)\n",
        "    accuracy_metric(y_true=y, y_pred=y_pred)\n",
        "  \n",
        "    if step % 100 == 0:\n",
        "      print(f'Epoch {epoch} Step {step} Loss: {loss_metric.result()} Accuracy: {accuracy_metric.result()}')\n",
        "      loss_metric.reset_states()\n",
        "      accuracy_metric.reset_states()"
      ],
      "execution_count": 86,
      "outputs": [
        {
          "output_type": "stream",
          "text": [
            "Epoch 0 Step 0 Loss: 0.30616647005081177 Accuracy: 0.9140625\n",
            "Epoch 0 Step 100 Loss: 0.3538685739040375 Accuracy: 0.9021875262260437\n",
            "Epoch 0 Step 200 Loss: 0.34719112515449524 Accuracy: 0.9018359184265137\n",
            "Epoch 1 Step 0 Loss: 0.28928661346435547 Accuracy: 0.9163636565208435\n",
            "Epoch 1 Step 100 Loss: 0.3155575692653656 Accuracy: 0.9126172065734863\n",
            "Epoch 1 Step 200 Loss: 0.32115286588668823 Accuracy: 0.908007800579071\n"
          ],
          "name": "stdout"
        }
      ]
    },
    {
      "cell_type": "markdown",
      "metadata": {
        "id": "ti3MkPJGA-7W",
        "colab_type": "text"
      },
      "source": [
        "## We did a bunch of heavy lifting. We don't have to.\n",
        "\n",
        "Keras has really high level APIs that take care of all the work we did for us."
      ]
    },
    {
      "cell_type": "code",
      "metadata": {
        "id": "yPrfbB9oWR0W",
        "colab_type": "code",
        "colab": {}
      },
      "source": [
        "(x_train, y_train), (x_test, y_test) = tf.keras.datasets.mnist.load_data()\n",
        "x_train = x_train/255.0\n",
        "x_test = x_test/255.0"
      ],
      "execution_count": 0,
      "outputs": []
    },
    {
      "cell_type": "code",
      "metadata": {
        "id": "MpYQFZf1WOZ5",
        "colab_type": "code",
        "colab": {}
      },
      "source": [
        "model = tf.keras.Sequential([\n",
        "  tf.keras.layers.Flatten(),\n",
        "  tf.keras.layers.Dense(50),\n",
        "  tf.keras.layers.ReLU(),\n",
        "  tf.keras.layers.Dense(10, activation='softmax')\n",
        "])"
      ],
      "execution_count": 0,
      "outputs": []
    },
    {
      "cell_type": "code",
      "metadata": {
        "id": "L0SDopNqVbhv",
        "colab_type": "code",
        "colab": {
          "base_uri": "https://localhost:8080/",
          "height": 386
        },
        "outputId": "5399a406-1fd9-4ac3-aec4-f136b1d19c1a"
      },
      "source": [
        "model.compile(optimizer='sgd', loss='sparse_categorical_crossentropy', metrics=['accuracy'])\n",
        "history = model.fit(x=x_train, y=y_train, batch_size=256, epochs=10, validation_data=(x_test, y_test))"
      ],
      "execution_count": 89,
      "outputs": [
        {
          "output_type": "stream",
          "text": [
            "Train on 60000 samples, validate on 10000 samples\n",
            "Epoch 1/10\n",
            "60000/60000 [==============================] - 2s 28us/sample - loss: 1.6077 - accuracy: 0.5817 - val_loss: 1.0738 - val_accuracy: 0.7891\n",
            "Epoch 2/10\n",
            "60000/60000 [==============================] - 1s 19us/sample - loss: 0.8704 - accuracy: 0.8139 - val_loss: 0.6882 - val_accuracy: 0.8476\n",
            "Epoch 3/10\n",
            "60000/60000 [==============================] - 1s 19us/sample - loss: 0.6321 - accuracy: 0.8508 - val_loss: 0.5457 - val_accuracy: 0.8697\n",
            "Epoch 4/10\n",
            "60000/60000 [==============================] - 1s 19us/sample - loss: 0.5306 - accuracy: 0.8660 - val_loss: 0.4755 - val_accuracy: 0.8798\n",
            "Epoch 5/10\n",
            "60000/60000 [==============================] - 1s 19us/sample - loss: 0.4746 - accuracy: 0.8761 - val_loss: 0.4336 - val_accuracy: 0.8860\n",
            "Epoch 6/10\n",
            "60000/60000 [==============================] - 1s 19us/sample - loss: 0.4389 - accuracy: 0.8819 - val_loss: 0.4050 - val_accuracy: 0.8900\n",
            "Epoch 7/10\n",
            "60000/60000 [==============================] - 1s 19us/sample - loss: 0.4140 - accuracy: 0.8877 - val_loss: 0.3852 - val_accuracy: 0.8946\n",
            "Epoch 8/10\n",
            "60000/60000 [==============================] - 1s 20us/sample - loss: 0.3954 - accuracy: 0.8910 - val_loss: 0.3695 - val_accuracy: 0.8980\n",
            "Epoch 9/10\n",
            "60000/60000 [==============================] - 1s 19us/sample - loss: 0.3807 - accuracy: 0.8942 - val_loss: 0.3573 - val_accuracy: 0.9001\n",
            "Epoch 10/10\n",
            "60000/60000 [==============================] - 1s 20us/sample - loss: 0.3686 - accuracy: 0.8968 - val_loss: 0.3470 - val_accuracy: 0.9029\n"
          ],
          "name": "stdout"
        }
      ]
    },
    {
      "cell_type": "markdown",
      "metadata": {
        "id": "43tcKfh3WicU",
        "colab_type": "text"
      },
      "source": [
        "These APIs are highly performant and robust, so you don't have to worry about messing things up. Use them whenever you can!"
      ]
    },
    {
      "cell_type": "markdown",
      "metadata": {
        "id": "g78nNj35WpRc",
        "colab_type": "text"
      },
      "source": [
        "## Conclusion\n",
        "\n"
      ]
    },
    {
      "cell_type": "markdown",
      "metadata": {
        "id": "7kQ_IsLaXKfL",
        "colab_type": "text"
      },
      "source": [
        "We covered the fundamentals of neural networks and of TensorFlow 2.0. This workshop emphasized the fundamentals and programming aspects instead of best pratices (necessarily). \n",
        "\n",
        "Here are some things I'd recommend checking out next for Neural Networks:\n",
        "*   Backpropogation (how are the gradients computed? spoiler: it's basically chain rule)\n",
        "*   Convolutional and Recurrent Neural Networks \n",
        "*   Regularization (my model's still overfitting! how do I fix that?)\n",
        "\n",
        "Here are some things I'd recommend checking out for TensorFlow 2.0:\n",
        "*   The various layers, metrics, losses, optimizers, and activation functions offered.\n",
        "*   Functional API for building models\n",
        "*   Using `@tf.function` to speed up your code\n",
        "*   Distributed Training with tf.distribute\n",
        "\n",
        "\n"
      ]
    }
  ]
}